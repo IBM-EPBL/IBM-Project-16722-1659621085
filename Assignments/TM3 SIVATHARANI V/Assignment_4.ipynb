{
 "cells": [
  {
   "cell_type": "markdown",
   "id": "90f0cc57",
   "metadata": {
    "id": "a0a77d9a"
   },
   "source": [
    "# Team ID:PNT2022TMID30209"
   ]
  },
  {
   "cell_type": "markdown",
   "id": "56a5e102",
   "metadata": {
    "id": "cc336f32"
   },
   "source": [
    "#### Title: Assignment 4\n",
    "## Author: Sparsha S\n"
   ]
  },
  {
   "cell_type": "code",
   "execution_count": 1,
   "id": "3fa60398",
   "metadata": {
    "id": "7b40dcc0"
   },
   "outputs": [],
   "source": [
    "import numpy as np\n",
    "import pandas as pd\n",
    "import matplotlib.pyplot as plt\n",
    "import seaborn as sns\n",
    "import sklearn"
   ]
  },
  {
   "cell_type": "markdown",
   "id": "88bc0758",
   "metadata": {
    "id": "9cd832ae"
   },
   "source": [
    "# 2. Loading the dataset"
   ]
  },
  {
   "cell_type": "code",
   "execution_count": 2,
   "id": "de20087f",
   "metadata": {
    "colab": {
     "base_uri": "https://localhost:8080/",
     "height": 74
    },
    "id": "93e4e2ea",
    "outputId": "473b7e62-d689-4e11-9078-f72de74d179d"
   },
   "outputs": [],
   "source": [
    "data = pd.read_csv(r\"C:\\Documents\\IBM\\Dataset\\Mall_Customers.csv\")"
   ]
  },
  {
   "cell_type": "code",
   "execution_count": 3,
   "id": "dbb53da2",
   "metadata": {
    "colab": {
     "base_uri": "https://localhost:8080/",
     "height": 206
    },
    "id": "c21be4c4",
    "outputId": "c799057c-c2dd-4651-cf21-bf44f699c4ac"
   },
   "outputs": [
    {
     "data": {
      "text/html": [
       "<div>\n",
       "<style scoped>\n",
       "    .dataframe tbody tr th:only-of-type {\n",
       "        vertical-align: middle;\n",
       "    }\n",
       "\n",
       "    .dataframe tbody tr th {\n",
       "        vertical-align: top;\n",
       "    }\n",
       "\n",
       "    .dataframe thead th {\n",
       "        text-align: right;\n",
       "    }\n",
       "</style>\n",
       "<table border=\"1\" class=\"dataframe\">\n",
       "  <thead>\n",
       "    <tr style=\"text-align: right;\">\n",
       "      <th></th>\n",
       "      <th>CustomerID</th>\n",
       "      <th>Gender</th>\n",
       "      <th>Age</th>\n",
       "      <th>Annual Income (k$)</th>\n",
       "      <th>Spending Score (1-100)</th>\n",
       "    </tr>\n",
       "  </thead>\n",
       "  <tbody>\n",
       "    <tr>\n",
       "      <th>0</th>\n",
       "      <td>1</td>\n",
       "      <td>Male</td>\n",
       "      <td>19</td>\n",
       "      <td>15</td>\n",
       "      <td>39</td>\n",
       "    </tr>\n",
       "    <tr>\n",
       "      <th>1</th>\n",
       "      <td>2</td>\n",
       "      <td>Male</td>\n",
       "      <td>21</td>\n",
       "      <td>15</td>\n",
       "      <td>81</td>\n",
       "    </tr>\n",
       "    <tr>\n",
       "      <th>2</th>\n",
       "      <td>3</td>\n",
       "      <td>Female</td>\n",
       "      <td>20</td>\n",
       "      <td>16</td>\n",
       "      <td>6</td>\n",
       "    </tr>\n",
       "    <tr>\n",
       "      <th>3</th>\n",
       "      <td>4</td>\n",
       "      <td>Female</td>\n",
       "      <td>23</td>\n",
       "      <td>16</td>\n",
       "      <td>77</td>\n",
       "    </tr>\n",
       "    <tr>\n",
       "      <th>4</th>\n",
       "      <td>5</td>\n",
       "      <td>Female</td>\n",
       "      <td>31</td>\n",
       "      <td>17</td>\n",
       "      <td>40</td>\n",
       "    </tr>\n",
       "  </tbody>\n",
       "</table>\n",
       "</div>"
      ],
      "text/plain": [
       "   CustomerID  Gender  Age  Annual Income (k$)  Spending Score (1-100)\n",
       "0           1    Male   19                  15                      39\n",
       "1           2    Male   21                  15                      81\n",
       "2           3  Female   20                  16                       6\n",
       "3           4  Female   23                  16                      77\n",
       "4           5  Female   31                  17                      40"
      ]
     },
     "execution_count": 3,
     "metadata": {},
     "output_type": "execute_result"
    }
   ],
   "source": [
    "data.head()"
   ]
  },
  {
   "cell_type": "markdown",
   "id": "1551ac80",
   "metadata": {
    "id": "350e4bb0"
   },
   "source": [
    "# Data Visualizations"
   ]
  },
  {
   "cell_type": "markdown",
   "id": "1f676325",
   "metadata": {
    "id": "594719ef"
   },
   "source": [
    "# 3. i) Univariate Analysis"
   ]
  },
  {
   "cell_type": "code",
   "execution_count": 4,
   "id": "65b3722c",
   "metadata": {
    "colab": {
     "base_uri": "https://localhost:8080/",
     "height": 351
    },
    "id": "d08296fd",
    "outputId": "334b1d44-9538-43c2-c2a9-f403555dafb7"
   },
   "outputs": [
    {
     "name": "stderr",
     "output_type": "stream",
     "text": [
      "C:\\Users\\spars\\anaconda3\\lib\\site-packages\\seaborn\\distributions.py:2557: FutureWarning: `distplot` is a deprecated function and will be removed in a future version. Please adapt your code to use either `displot` (a figure-level function with similar flexibility) or `histplot` (an axes-level function for histograms).\n",
      "  warnings.warn(msg, FutureWarning)\n"
     ]
    },
    {
     "data": {
      "text/plain": [
       "<AxesSubplot:xlabel='Age', ylabel='Density'>"
      ]
     },
     "execution_count": 4,
     "metadata": {},
     "output_type": "execute_result"
    },
    {
     "data": {
      "image/png": "[encoded data removed]",
      "text/plain": [
       "<Figure size 432x288 with 1 Axes>"
      ]
     },
     "metadata": {
      "needs_background": "light"
     },
     "output_type": "display_data"
    }
   ],
   "source": [
    "sns.distplot(data['Age'])"
   ]
  },
  {
   "cell_type": "code",
   "execution_count": 5,
   "id": "0a96b48b",
   "metadata": {
    "colab": {
     "base_uri": "https://localhost:8080/",
     "height": 351
    },
    "id": "b7a9edd9",
    "outputId": "eced410e-a235-4617-80bc-6a5ba7652433"
   },
   "outputs": [
    {
     "name": "stderr",
     "output_type": "stream",
     "text": [
      "C:\\Users\\spars\\anaconda3\\lib\\site-packages\\seaborn\\_decorators.py:36: FutureWarning: Pass the following variables as keyword args: x, y. From version 0.12, the only valid positional argument will be `data`, and passing other arguments without an explicit keyword will result in an error or misinterpretation.\n",
      "  warnings.warn(\n"
     ]
    },
    {
     "data": {
      "text/plain": [
       "<AxesSubplot:xlabel='Age', ylabel='Annual Income (k$)'>"
      ]
     },
     "execution_count": 5,
     "metadata": {},
     "output_type": "execute_result"
    },
    {
     "data": {
      "image/png": "[encoded data removed]",
      "text/plain": [
       "<Figure size 432x288 with 1 Axes>"
      ]
     },
     "metadata": {
      "needs_background": "light"
     },
     "output_type": "display_data"
    }
   ],
   "source": [
    "sns.lineplot(data['Age'], data['Annual Income (k$)'])"
   ]
  },
  {
   "cell_type": "code",
   "execution_count": 6,
   "id": "3ce7d709",
   "metadata": {
    "colab": {
     "base_uri": "https://localhost:8080/",
     "height": 1000
    },
    "id": "0484fec2",
    "outputId": "287c5d64-f430-44b6-e117-687522119fa5"
   },
   "outputs": [
    {
     "name": "stderr",
     "output_type": "stream",
     "text": [
      "C:\\Users\\spars\\anaconda3\\lib\\site-packages\\seaborn\\_decorators.py:36: FutureWarning: Pass the following variables as keyword args: x, y. From version 0.12, the only valid positional argument will be `data`, and passing other arguments without an explicit keyword will result in an error or misinterpretation.\n",
      "  warnings.warn(\n"
     ]
    },
    {
     "data": {
      "text/plain": [
       "<AxesSubplot:xlabel='Gender', ylabel='Annual Income (k$)'>"
      ]
     },
     "execution_count": 6,
     "metadata": {},
     "output_type": "execute_result"
    },
    {
     "data": {
      "image/png": "[encoded data removed]",
      "text/plain": [
       "<Figure size 2880x2160 with 1 Axes>"
      ]
     },
     "metadata": {
      "needs_background": "light"
     },
     "output_type": "display_data"
    }
   ],
   "source": [
    "plt.figure(figsize=(40,30))\n",
    "sns.barplot(data['Gender'], data['Annual Income (k$)'])"
   ]
  },
  {
   "cell_type": "markdown",
   "id": "5bde99f0",
   "metadata": {
    "id": "bf2d8e33"
   },
   "source": [
    "# 3. iii) Multivariate Analysis"
   ]
  },
  {
   "cell_type": "code",
   "execution_count": 7,
   "id": "29af6e53",
   "metadata": {
    "colab": {
     "base_uri": "https://localhost:8080/",
     "height": 351
    },
    "id": "036e70e2",
    "outputId": "55107260-f103-4156-e2dc-1b6788c356ca"
   },
   "outputs": [
    {
     "name": "stderr",
     "output_type": "stream",
     "text": [
      "C:\\Users\\spars\\anaconda3\\lib\\site-packages\\seaborn\\_decorators.py:36: FutureWarning: Pass the following variables as keyword args: x, y. From version 0.12, the only valid positional argument will be `data`, and passing other arguments without an explicit keyword will result in an error or misinterpretation.\n",
      "  warnings.warn(\n"
     ]
    },
    {
     "data": {
      "text/plain": [
       "<AxesSubplot:xlabel='Gender', ylabel='Age'>"
      ]
     },
     "execution_count": 7,
     "metadata": {},
     "output_type": "execute_result"
    },
    {
     "data": {
      "image/png": "[encoded data removed]",
      "text/plain": [
       "<Figure size 432x288 with 1 Axes>"
      ]
     },
     "metadata": {
      "needs_background": "light"
     },
     "output_type": "display_data"
    }
   ],
   "source": [
    "sns.scatterplot(data['Gender'], data['Age'], hue = data['Spending Score (1-100)'])"
   ]
  },
  {
   "cell_type": "code",
   "execution_count": 8,
   "id": "6b72f245",
   "metadata": {
    "colab": {
     "base_uri": "https://localhost:8080/",
     "height": 356
    },
    "id": "c57e512d",
    "outputId": "66f57d3a-5bab-4de0-af5e-743e3af9f1fe"
   },
   "outputs": [
    {
     "data": {
      "text/plain": [
       "<AxesSubplot:>"
      ]
     },
     "execution_count": 8,
     "metadata": {},
     "output_type": "execute_result"
    },
    {
     "data": {
      "image/png": "[encoded data removed]",
      "text/plain": [
       "<Figure size 432x288 with 2 Axes>"
      ]
     },
     "metadata": {
      "needs_background": "light"
     },
     "output_type": "display_data"
    }
   ],
   "source": [
    "sns.heatmap(data.corr(), annot = True)"
   ]
  },
  {
   "cell_type": "code",
   "execution_count": 9,
   "id": "a3f60191",
   "metadata": {
    "colab": {
     "base_uri": "https://localhost:8080/",
     "height": 1000
    },
    "id": "4d8a49fb",
    "outputId": "ca16409f-c35d-4ddf-efa7-fb30442d5bde"
   },
   "outputs": [
    {
     "data": {
      "text/plain": [
       "<seaborn.axisgrid.PairGrid at 0x1c738066be0>"
      ]
     },
     "execution_count": 9,
     "metadata": {},
     "output_type": "execute_result"
    },
    {
     "data": {
      "image/png": "[encoded data removed]",
      "text/plain": [
       "<Figure size 720x720 with 20 Axes>"
      ]
     },
     "metadata": {
      "needs_background": "light"
     },
     "output_type": "display_data"
    }
   ],
   "source": [
    "sns.pairplot(data)"
   ]
  },
  {
   "cell_type": "markdown",
   "id": "673e120a",
   "metadata": {
    "id": "d950bdc6"
   },
   "source": [
    "# 4. Descriptive Statistics"
   ]
  },
  {
   "cell_type": "markdown",
   "id": "8793f918",
   "metadata": {
    "id": "552315e9"
   },
   "source": [
    "## Central Tendency"
   ]
  },
  {
   "cell_type": "code",
   "execution_count": 10,
   "id": "cfeff1cc",
   "metadata": {
    "colab": {
     "base_uri": "https://localhost:8080/"
    },
    "id": "9410f0a5",
    "outputId": "1feccb92-7e48-4af3-b318-543db48008a3"
   },
   "outputs": [
    {
     "data": {
      "text/plain": [
       "CustomerID                100.50\n",
       "Age                        38.85\n",
       "Annual Income (k$)         60.56\n",
       "Spending Score (1-100)     50.20\n",
       "dtype: float64"
      ]
     },
     "execution_count": 10,
     "metadata": {},
     "output_type": "execute_result"
    }
   ],
   "source": [
    "data.mean()"
   ]
  },
  {
   "cell_type": "code",
   "execution_count": 11,
   "id": "e0e0cdab",
   "metadata": {
    "colab": {
     "base_uri": "https://localhost:8080/"
    },
    "id": "0ac9ac41",
    "outputId": "a9b1b8a4-a164-48d7-9b43-f4107276ef7d"
   },
   "outputs": [
    {
     "data": {
      "text/plain": [
       "CustomerID                100.5\n",
       "Age                        36.0\n",
       "Annual Income (k$)         61.5\n",
       "Spending Score (1-100)     50.0\n",
       "dtype: float64"
      ]
     },
     "execution_count": 11,
     "metadata": {},
     "output_type": "execute_result"
    }
   ],
   "source": [
    "data.median()"
   ]
  },
  {
   "cell_type": "code",
   "execution_count": 12,
   "id": "b1a7d53f",
   "metadata": {
    "colab": {
     "base_uri": "https://localhost:8080/",
     "height": 112
    },
    "id": "8b69e111",
    "outputId": "d70db538-c996-4bd5-dec8-665414d8b2fe"
   },
   "outputs": [
    {
     "data": {
      "text/html": [
       "<div>\n",
       "<style scoped>\n",
       "    .dataframe tbody tr th:only-of-type {\n",
       "        vertical-align: middle;\n",
       "    }\n",
       "\n",
       "    .dataframe tbody tr th {\n",
       "        vertical-align: top;\n",
       "    }\n",
       "\n",
       "    .dataframe thead th {\n",
       "        text-align: right;\n",
       "    }\n",
       "</style>\n",
       "<table border=\"1\" class=\"dataframe\">\n",
       "  <thead>\n",
       "    <tr style=\"text-align: right;\">\n",
       "      <th></th>\n",
       "      <th>CustomerID</th>\n",
       "      <th>Gender</th>\n",
       "      <th>Age</th>\n",
       "      <th>Annual Income (k$)</th>\n",
       "      <th>Spending Score (1-100)</th>\n",
       "    </tr>\n",
       "  </thead>\n",
       "  <tbody>\n",
       "    <tr>\n",
       "      <th>0</th>\n",
       "      <td>1</td>\n",
       "      <td>Female</td>\n",
       "      <td>32.0</td>\n",
       "      <td>54.0</td>\n",
       "      <td>42.0</td>\n",
       "    </tr>\n",
       "    <tr>\n",
       "      <th>1</th>\n",
       "      <td>2</td>\n",
       "      <td>NaN</td>\n",
       "      <td>NaN</td>\n",
       "      <td>78.0</td>\n",
       "      <td>NaN</td>\n",
       "    </tr>\n",
       "    <tr>\n",
       "      <th>2</th>\n",
       "      <td>3</td>\n",
       "      <td>NaN</td>\n",
       "      <td>NaN</td>\n",
       "      <td>NaN</td>\n",
       "      <td>NaN</td>\n",
       "    </tr>\n",
       "    <tr>\n",
       "      <th>3</th>\n",
       "      <td>4</td>\n",
       "      <td>NaN</td>\n",
       "      <td>NaN</td>\n",
       "      <td>NaN</td>\n",
       "      <td>NaN</td>\n",
       "    </tr>\n",
       "    <tr>\n",
       "      <th>4</th>\n",
       "      <td>5</td>\n",
       "      <td>NaN</td>\n",
       "      <td>NaN</td>\n",
       "      <td>NaN</td>\n",
       "      <td>NaN</td>\n",
       "    </tr>\n",
       "    <tr>\n",
       "      <th>...</th>\n",
       "      <td>...</td>\n",
       "      <td>...</td>\n",
       "      <td>...</td>\n",
       "      <td>...</td>\n",
       "      <td>...</td>\n",
       "    </tr>\n",
       "    <tr>\n",
       "      <th>195</th>\n",
       "      <td>196</td>\n",
       "      <td>NaN</td>\n",
       "      <td>NaN</td>\n",
       "      <td>NaN</td>\n",
       "      <td>NaN</td>\n",
       "    </tr>\n",
       "    <tr>\n",
       "      <th>196</th>\n",
       "      <td>197</td>\n",
       "      <td>NaN</td>\n",
       "      <td>NaN</td>\n",
       "      <td>NaN</td>\n",
       "      <td>NaN</td>\n",
       "    </tr>\n",
       "    <tr>\n",
       "      <th>197</th>\n",
       "      <td>198</td>\n",
       "      <td>NaN</td>\n",
       "      <td>NaN</td>\n",
       "      <td>NaN</td>\n",
       "      <td>NaN</td>\n",
       "    </tr>\n",
       "    <tr>\n",
       "      <th>198</th>\n",
       "      <td>199</td>\n",
       "      <td>NaN</td>\n",
       "      <td>NaN</td>\n",
       "      <td>NaN</td>\n",
       "      <td>NaN</td>\n",
       "    </tr>\n",
       "    <tr>\n",
       "      <th>199</th>\n",
       "      <td>200</td>\n",
       "      <td>NaN</td>\n",
       "      <td>NaN</td>\n",
       "      <td>NaN</td>\n",
       "      <td>NaN</td>\n",
       "    </tr>\n",
       "  </tbody>\n",
       "</table>\n",
       "<p>200 rows × 5 columns</p>\n",
       "</div>"
      ],
      "text/plain": [
       "     CustomerID  Gender   Age  Annual Income (k$)  Spending Score (1-100)\n",
       "0             1  Female  32.0                54.0                    42.0\n",
       "1             2     NaN   NaN                78.0                     NaN\n",
       "2             3     NaN   NaN                 NaN                     NaN\n",
       "3             4     NaN   NaN                 NaN                     NaN\n",
       "4             5     NaN   NaN                 NaN                     NaN\n",
       "..          ...     ...   ...                 ...                     ...\n",
       "195         196     NaN   NaN                 NaN                     NaN\n",
       "196         197     NaN   NaN                 NaN                     NaN\n",
       "197         198     NaN   NaN                 NaN                     NaN\n",
       "198         199     NaN   NaN                 NaN                     NaN\n",
       "199         200     NaN   NaN                 NaN                     NaN\n",
       "\n",
       "[200 rows x 5 columns]"
      ]
     },
     "execution_count": 12,
     "metadata": {},
     "output_type": "execute_result"
    }
   ],
   "source": [
    "data.mode()"
   ]
  },
  {
   "cell_type": "markdown",
   "id": "6dea6e3b",
   "metadata": {
    "id": "4a2506ee"
   },
   "source": [
    "##  Dispersion of Data"
   ]
  },
  {
   "cell_type": "code",
   "execution_count": 13,
   "id": "7563864d",
   "metadata": {
    "colab": {
     "base_uri": "https://localhost:8080/",
     "height": 351
    },
    "id": "870c323d",
    "outputId": "1e7c27eb-4d37-4763-e181-82c52f20f6f6"
   },
   "outputs": [
    {
     "name": "stderr",
     "output_type": "stream",
     "text": [
      "C:\\Users\\spars\\anaconda3\\lib\\site-packages\\seaborn\\_decorators.py:36: FutureWarning: Pass the following variable as a keyword arg: x. From version 0.12, the only valid positional argument will be `data`, and passing other arguments without an explicit keyword will result in an error or misinterpretation.\n",
      "  warnings.warn(\n"
     ]
    },
    {
     "data": {
      "text/plain": [
       "<AxesSubplot:xlabel='Age'>"
      ]
     },
     "execution_count": 13,
     "metadata": {},
     "output_type": "execute_result"
    },
    {
     "data": {
      "image/png": "[encoded data removed]",
      "text/plain": [
       "<Figure size 432x288 with 1 Axes>"
      ]
     },
     "metadata": {
      "needs_background": "light"
     },
     "output_type": "display_data"
    }
   ],
   "source": [
    "sns.boxplot(data['Age'])"
   ]
  },
  {
   "cell_type": "markdown",
   "id": "bf3b6eca",
   "metadata": {
    "id": "2fc26a6a"
   },
   "source": [
    "### Interquartile Range"
   ]
  },
  {
   "cell_type": "code",
   "execution_count": 14,
   "id": "11305fe5",
   "metadata": {
    "id": "6a6ac630"
   },
   "outputs": [],
   "source": [
    "q = data.quantile([0.75, 0.25])"
   ]
  },
  {
   "cell_type": "code",
   "execution_count": 15,
   "id": "a97480a6",
   "metadata": {
    "colab": {
     "base_uri": "https://localhost:8080/",
     "height": 112
    },
    "id": "a964a2fe",
    "outputId": "e85e82f3-a294-4fda-8147-59b9ebea21db"
   },
   "outputs": [
    {
     "data": {
      "text/html": [
       "<div>\n",
       "<style scoped>\n",
       "    .dataframe tbody tr th:only-of-type {\n",
       "        vertical-align: middle;\n",
       "    }\n",
       "\n",
       "    .dataframe tbody tr th {\n",
       "        vertical-align: top;\n",
       "    }\n",
       "\n",
       "    .dataframe thead th {\n",
       "        text-align: right;\n",
       "    }\n",
       "</style>\n",
       "<table border=\"1\" class=\"dataframe\">\n",
       "  <thead>\n",
       "    <tr style=\"text-align: right;\">\n",
       "      <th></th>\n",
       "      <th>CustomerID</th>\n",
       "      <th>Age</th>\n",
       "      <th>Annual Income (k$)</th>\n",
       "      <th>Spending Score (1-100)</th>\n",
       "    </tr>\n",
       "  </thead>\n",
       "  <tbody>\n",
       "    <tr>\n",
       "      <th>0.75</th>\n",
       "      <td>150.25</td>\n",
       "      <td>49.00</td>\n",
       "      <td>78.0</td>\n",
       "      <td>73.00</td>\n",
       "    </tr>\n",
       "    <tr>\n",
       "      <th>0.25</th>\n",
       "      <td>50.75</td>\n",
       "      <td>28.75</td>\n",
       "      <td>41.5</td>\n",
       "      <td>34.75</td>\n",
       "    </tr>\n",
       "  </tbody>\n",
       "</table>\n",
       "</div>"
      ],
      "text/plain": [
       "      CustomerID    Age  Annual Income (k$)  Spending Score (1-100)\n",
       "0.75      150.25  49.00                78.0                   73.00\n",
       "0.25       50.75  28.75                41.5                   34.75"
      ]
     },
     "execution_count": 15,
     "metadata": {},
     "output_type": "execute_result"
    }
   ],
   "source": [
    "q"
   ]
  },
  {
   "cell_type": "code",
   "execution_count": 16,
   "id": "1f436750",
   "metadata": {
    "id": "0591a8e7"
   },
   "outputs": [],
   "source": [
    "iqr = q.iloc[0] - q.iloc[1]"
   ]
  },
  {
   "cell_type": "code",
   "execution_count": 17,
   "id": "30aae7ec",
   "metadata": {
    "colab": {
     "base_uri": "https://localhost:8080/"
    },
    "id": "5ddd1795",
    "outputId": "1208f878-87fc-4bff-8dc5-d340778421a2"
   },
   "outputs": [
    {
     "data": {
      "text/plain": [
       "CustomerID                99.50\n",
       "Age                       20.25\n",
       "Annual Income (k$)        36.50\n",
       "Spending Score (1-100)    38.25\n",
       "dtype: float64"
      ]
     },
     "execution_count": 17,
     "metadata": {},
     "output_type": "execute_result"
    }
   ],
   "source": [
    "iqr"
   ]
  },
  {
   "cell_type": "code",
   "execution_count": 18,
   "id": "a8b28954",
   "metadata": {
    "colab": {
     "base_uri": "https://localhost:8080/"
    },
    "id": "e27bac22",
    "outputId": "4ece7a02-0e2f-4f0a-ccc8-7a299d74ecc3"
   },
   "outputs": [
    {
     "data": {
      "text/plain": [
       "CustomerID                299.500\n",
       "Age                        79.375\n",
       "Annual Income (k$)        132.750\n",
       "Spending Score (1-100)    130.375\n",
       "dtype: float64"
      ]
     },
     "execution_count": 18,
     "metadata": {},
     "output_type": "execute_result"
    }
   ],
   "source": [
    "u = q.iloc[0] + 1.5*iqr \n",
    "u"
   ]
  },
  {
   "cell_type": "code",
   "execution_count": 19,
   "id": "679399cf",
   "metadata": {
    "colab": {
     "base_uri": "https://localhost:8080/"
    },
    "id": "04f5a46c",
    "outputId": "2304cab0-1cfc-45d8-8d56-706a906c9dab"
   },
   "outputs": [
    {
     "data": {
      "text/plain": [
       "CustomerID               -98.500\n",
       "Age                       -1.625\n",
       "Annual Income (k$)       -13.250\n",
       "Spending Score (1-100)   -22.625\n",
       "dtype: float64"
      ]
     },
     "execution_count": 19,
     "metadata": {},
     "output_type": "execute_result"
    }
   ],
   "source": [
    "l = q.iloc[1] - 1.5*iqr\n",
    "l"
   ]
  },
  {
   "cell_type": "markdown",
   "id": "253f4d93",
   "metadata": {
    "id": "57b09950"
   },
   "source": [
    "### Variance"
   ]
  },
  {
   "cell_type": "code",
   "execution_count": 20,
   "id": "65150ea9",
   "metadata": {
    "colab": {
     "base_uri": "https://localhost:8080/"
    },
    "id": "72f346da",
    "outputId": "9e6389b2-5796-48f9-b58b-0c5c3250fff5"
   },
   "outputs": [
    {
     "data": {
      "text/plain": [
       "CustomerID                3350.000000\n",
       "Age                        195.133166\n",
       "Annual Income (k$)         689.835578\n",
       "Spending Score (1-100)     666.854271\n",
       "dtype: float64"
      ]
     },
     "execution_count": 20,
     "metadata": {},
     "output_type": "execute_result"
    }
   ],
   "source": [
    "data.var()"
   ]
  },
  {
   "cell_type": "markdown",
   "id": "8af8de15",
   "metadata": {
    "id": "0487b7b1"
   },
   "source": [
    "### Standard Deviation"
   ]
  },
  {
   "cell_type": "code",
   "execution_count": 21,
   "id": "8b603f35",
   "metadata": {
    "colab": {
     "base_uri": "https://localhost:8080/"
    },
    "id": "60581640",
    "outputId": "e15a22a9-1564-4094-e47a-7c8d2b18f55f"
   },
   "outputs": [
    {
     "data": {
      "text/plain": [
       "CustomerID                57.879185\n",
       "Age                       13.969007\n",
       "Annual Income (k$)        26.264721\n",
       "Spending Score (1-100)    25.823522\n",
       "dtype: float64"
      ]
     },
     "execution_count": 21,
     "metadata": {},
     "output_type": "execute_result"
    }
   ],
   "source": [
    "data.std()"
   ]
  },
  {
   "cell_type": "markdown",
   "id": "0f569d57",
   "metadata": {
    "id": "735d5b63"
   },
   "source": [
    "# 5. Checking and Dealing with missing values"
   ]
  },
  {
   "cell_type": "code",
   "execution_count": 22,
   "id": "79e1237c",
   "metadata": {
    "colab": {
     "base_uri": "https://localhost:8080/"
    },
    "id": "ad9e26c5",
    "outputId": "47ce41c6-cce4-4d37-e801-281e192022bf"
   },
   "outputs": [
    {
     "data": {
      "text/plain": [
       "CustomerID                False\n",
       "Gender                    False\n",
       "Age                       False\n",
       "Annual Income (k$)        False\n",
       "Spending Score (1-100)    False\n",
       "dtype: bool"
      ]
     },
     "execution_count": 22,
     "metadata": {},
     "output_type": "execute_result"
    }
   ],
   "source": [
    "data.isnull().any()"
   ]
  },
  {
   "cell_type": "markdown",
   "id": "d1199aa9",
   "metadata": {
    "id": "7f518e2e"
   },
   "source": [
    "# 6. Outliers and Replacing them"
   ]
  },
  {
   "cell_type": "code",
   "execution_count": 23,
   "id": "7745e20a",
   "metadata": {
    "colab": {
     "base_uri": "https://localhost:8080/",
     "height": 1000
    },
    "id": "3e08de82",
    "outputId": "90795921-cfe6-4e11-930e-b4492aa7d80e"
   },
   "outputs": [
    {
     "data": {
      "text/plain": [
       "<AxesSubplot:>"
      ]
     },
     "execution_count": 23,
     "metadata": {},
     "output_type": "execute_result"
    },
    {
     "data": {
      "image/png": "[encoded data removed]",
      "text/plain": [
       "<Figure size 720x2160 with 1 Axes>"
      ]
     },
     "metadata": {
      "needs_background": "light"
     },
     "output_type": "display_data"
    }
   ],
   "source": [
    "plt.figure(figsize=(10,30))\n",
    "data.boxplot(rot = 270)"
   ]
  },
  {
   "cell_type": "code",
   "execution_count": 24,
   "id": "64519a93",
   "metadata": {},
   "outputs": [
    {
     "data": {
      "text/plain": [
       "<AxesSubplot:>"
      ]
     },
     "execution_count": 24,
     "metadata": {},
     "output_type": "execute_result"
    },
    {
     "data": {
      "image/png": "[encoded data removed]",
      "text/plain": [
       "<Figure size 432x288 with 1 Axes>"
      ]
     },
     "metadata": {
      "needs_background": "light"
     },
     "output_type": "display_data"
    }
   ],
   "source": [
    "data['Annual Income (k$)'] = np.where(data['Annual Income (k$)'] > 130, 60.56, data['Annual Income (k$)'])\n",
    "data.boxplot('Annual Income (k$)')"
   ]
  },
  {
   "cell_type": "markdown",
   "id": "c55cb0a2",
   "metadata": {
    "id": "469b94ad"
   },
   "source": [
    "# 7. Encoding for Categorical values"
   ]
  },
  {
   "cell_type": "code",
   "execution_count": 25,
   "id": "af763971",
   "metadata": {
    "id": "17627466"
   },
   "outputs": [],
   "source": [
    "from sklearn.preprocessing import LabelEncoder\n",
    "le=LabelEncoder()\n",
    "data['Gender']=le.fit_transform(data['Gender'])"
   ]
  },
  {
   "cell_type": "code",
   "execution_count": 26,
   "id": "ff363e7a",
   "metadata": {
    "colab": {
     "base_uri": "https://localhost:8080/"
    },
    "id": "24c0a936",
    "outputId": "cec6d00c-fb47-40ed-a499-8c6852d9d984"
   },
   "outputs": [
    {
     "data": {
      "text/plain": [
       "0      1\n",
       "1      1\n",
       "2      0\n",
       "3      0\n",
       "4      0\n",
       "      ..\n",
       "195    0\n",
       "196    0\n",
       "197    1\n",
       "198    1\n",
       "199    1\n",
       "Name: Gender, Length: 200, dtype: int32"
      ]
     },
     "execution_count": 26,
     "metadata": {},
     "output_type": "execute_result"
    }
   ],
   "source": [
    "data['Gender']"
   ]
  },
  {
   "cell_type": "markdown",
   "id": "6ada47c6",
   "metadata": {
    "id": "e688dc62"
   },
   "source": [
    "# 8. Scaling the independant variables"
   ]
  },
  {
   "cell_type": "code",
   "execution_count": 28,
   "id": "009d62fa",
   "metadata": {
    "id": "19bcabb7"
   },
   "outputs": [],
   "source": [
    "from sklearn.preprocessing import MinMaxScaler\n",
    "mms = MinMaxScaler()\n",
    "x_scaled = mms.fit_transform(data)"
   ]
  },
  {
   "cell_type": "code",
   "execution_count": 29,
   "id": "b1460138",
   "metadata": {
    "colab": {
     "base_uri": "https://localhost:8080/"
    },
    "id": "1638555a",
    "outputId": "3444c0d0-d359-4895-97d8-e9929c644ed7"
   },
   "outputs": [
    {
     "data": {
      "text/plain": [
       "array([[0.        , 1.        , 0.01923077, 0.        , 0.3877551 ],\n",
       "       [0.00502513, 1.        , 0.05769231, 0.        , 0.81632653],\n",
       "       [0.01005025, 0.        , 0.03846154, 0.00900901, 0.05102041],\n",
       "       [0.01507538, 0.        , 0.09615385, 0.00900901, 0.7755102 ],\n",
       "       [0.0201005 , 0.        , 0.25      , 0.01801802, 0.39795918],\n",
       "       [0.02512563, 0.        , 0.07692308, 0.01801802, 0.76530612],\n",
       "       [0.03015075, 0.        , 0.32692308, 0.02702703, 0.05102041],\n",
       "       [0.03517588, 0.        , 0.09615385, 0.02702703, 0.94897959],\n",
       "       [0.04020101, 1.        , 0.88461538, 0.03603604, 0.02040816],\n",
       "       [0.04522613, 0.        , 0.23076923, 0.03603604, 0.7244898 ],\n",
       "       [0.05025126, 1.        , 0.94230769, 0.03603604, 0.13265306],\n",
       "       [0.05527638, 0.        , 0.32692308, 0.03603604, 1.        ],\n",
       "       [0.06030151, 0.        , 0.76923077, 0.04504505, 0.14285714],\n",
       "       [0.06532663, 0.        , 0.11538462, 0.04504505, 0.7755102 ],\n",
       "       [0.07035176, 1.        , 0.36538462, 0.04504505, 0.12244898],\n",
       "       [0.07537688, 1.        , 0.07692308, 0.04504505, 0.79591837],\n",
       "       [0.08040201, 0.        , 0.32692308, 0.05405405, 0.34693878],\n",
       "       [0.08542714, 1.        , 0.03846154, 0.05405405, 0.66326531],\n",
       "       [0.09045226, 1.        , 0.65384615, 0.07207207, 0.28571429],\n",
       "       [0.09547739, 0.        , 0.32692308, 0.07207207, 0.98979592],\n",
       "       [0.10050251, 1.        , 0.32692308, 0.08108108, 0.34693878],\n",
       "       [0.10552764, 1.        , 0.13461538, 0.08108108, 0.73469388],\n",
       "       [0.11055276, 0.        , 0.53846154, 0.09009009, 0.04081633],\n",
       "       [0.11557789, 1.        , 0.25      , 0.09009009, 0.73469388],\n",
       "       [0.12060302, 0.        , 0.69230769, 0.11711712, 0.13265306],\n",
       "       [0.12562814, 1.        , 0.21153846, 0.11711712, 0.82653061],\n",
       "       [0.13065327, 0.        , 0.51923077, 0.11711712, 0.31632653],\n",
       "       [0.13567839, 1.        , 0.32692308, 0.11711712, 0.6122449 ],\n",
       "       [0.14070352, 0.        , 0.42307692, 0.12612613, 0.30612245],\n",
       "       [0.14572864, 0.        , 0.09615385, 0.12612613, 0.87755102],\n",
       "       [0.15075377, 1.        , 0.80769231, 0.13513514, 0.03061224],\n",
       "       [0.15577889, 0.        , 0.05769231, 0.13513514, 0.73469388],\n",
       "       [0.16080402, 1.        , 0.67307692, 0.16216216, 0.03061224],\n",
       "       [0.16582915, 1.        , 0.        , 0.16216216, 0.92857143],\n",
       "       [0.17085427, 0.        , 0.59615385, 0.16216216, 0.13265306],\n",
       "       [0.1758794 , 0.        , 0.05769231, 0.16216216, 0.81632653],\n",
       "       [0.18090452, 0.        , 0.46153846, 0.17117117, 0.16326531],\n",
       "       [0.18592965, 0.        , 0.23076923, 0.17117117, 0.73469388],\n",
       "       [0.19095477, 0.        , 0.34615385, 0.1981982 , 0.25510204],\n",
       "       [0.1959799 , 0.        , 0.03846154, 0.1981982 , 0.75510204],\n",
       "       [0.20100503, 0.        , 0.90384615, 0.20720721, 0.34693878],\n",
       "       [0.20603015, 1.        , 0.11538462, 0.20720721, 0.92857143],\n",
       "       [0.21105528, 1.        , 0.57692308, 0.21621622, 0.35714286],\n",
       "       [0.2160804 , 0.        , 0.25      , 0.21621622, 0.6122449 ],\n",
       "       [0.22110553, 0.        , 0.59615385, 0.21621622, 0.2755102 ],\n",
       "       [0.22613065, 0.        , 0.11538462, 0.21621622, 0.65306122],\n",
       "       [0.23115578, 0.        , 0.61538462, 0.22522523, 0.55102041],\n",
       "       [0.2361809 , 0.        , 0.17307692, 0.22522523, 0.46938776],\n",
       "       [0.24120603, 0.        , 0.21153846, 0.22522523, 0.41836735],\n",
       "       [0.24623116, 0.        , 0.25      , 0.22522523, 0.41836735],\n",
       "       [0.25125628, 0.        , 0.59615385, 0.24324324, 0.52040816],\n",
       "       [0.25628141, 1.        , 0.28846154, 0.24324324, 0.60204082],\n",
       "       [0.26130653, 0.        , 0.25      , 0.25225225, 0.54081633],\n",
       "       [0.26633166, 1.        , 0.78846154, 0.25225225, 0.60204082],\n",
       "       [0.27135678, 0.        , 0.61538462, 0.25225225, 0.44897959],\n",
       "       [0.27638191, 1.        , 0.55769231, 0.25225225, 0.40816327],\n",
       "       [0.28140704, 0.        , 0.63461538, 0.26126126, 0.5       ],\n",
       "       [0.28643216, 1.        , 0.98076923, 0.26126126, 0.45918367],\n",
       "       [0.29145729, 0.        , 0.17307692, 0.27927928, 0.51020408],\n",
       "       [0.29648241, 1.        , 0.67307692, 0.27927928, 0.45918367],\n",
       "       [0.30150754, 1.        , 1.        , 0.27927928, 0.56122449],\n",
       "       [0.30653266, 1.        , 0.01923077, 0.27927928, 0.55102041],\n",
       "       [0.31155779, 0.        , 0.94230769, 0.28828829, 0.52040816],\n",
       "       [0.31658291, 0.        , 0.69230769, 0.28828829, 0.59183673],\n",
       "       [0.32160804, 1.        , 0.86538462, 0.2972973 , 0.51020408],\n",
       "       [0.32663317, 1.        , 0.        , 0.2972973 , 0.59183673],\n",
       "       [0.33165829, 0.        , 0.48076923, 0.2972973 , 0.5       ],\n",
       "       [0.33668342, 0.        , 0.96153846, 0.2972973 , 0.47959184],\n",
       "       [0.34170854, 1.        , 0.01923077, 0.2972973 , 0.59183673],\n",
       "       [0.34673367, 0.        , 0.26923077, 0.2972973 , 0.46938776],\n",
       "       [0.35175879, 1.        , 1.        , 0.30630631, 0.55102041],\n",
       "       [0.35678392, 0.        , 0.55769231, 0.30630631, 0.41836735],\n",
       "       [0.36180905, 0.        , 0.80769231, 0.31531532, 0.48979592],\n",
       "       [0.36683417, 0.        , 0.80769231, 0.31531532, 0.56122449],\n",
       "       [0.3718593 , 1.        , 0.78846154, 0.35135135, 0.46938776],\n",
       "       [0.37688442, 1.        , 0.15384615, 0.35135135, 0.54081633],\n",
       "       [0.38190955, 0.        , 0.51923077, 0.35135135, 0.53061224],\n",
       "       [0.38693467, 1.        , 0.42307692, 0.35135135, 0.47959184],\n",
       "       [0.3919598 , 0.        , 0.09615385, 0.35135135, 0.52040816],\n",
       "       [0.39698492, 0.        , 0.59615385, 0.35135135, 0.41836735],\n",
       "       [0.40201005, 1.        , 0.75      , 0.35135135, 0.51020408],\n",
       "       [0.40703518, 1.        , 0.38461538, 0.35135135, 0.55102041],\n",
       "       [0.4120603 , 1.        , 0.94230769, 0.35135135, 0.40816327],\n",
       "       [0.41708543, 0.        , 0.53846154, 0.35135135, 0.43877551],\n",
       "       [0.42211055, 0.        , 0.05769231, 0.35135135, 0.57142857],\n",
       "       [0.42713568, 1.        , 0.57692308, 0.35135135, 0.45918367],\n",
       "       [0.4321608 , 0.        , 0.71153846, 0.37837838, 0.58163265],\n",
       "       [0.43718593, 0.        , 0.07692308, 0.37837838, 0.55102041],\n",
       "       [0.44221106, 0.        , 0.30769231, 0.38738739, 0.60204082],\n",
       "       [0.44723618, 0.        , 0.61538462, 0.38738739, 0.45918367],\n",
       "       [0.45226131, 0.        , 0.96153846, 0.3963964 , 0.55102041],\n",
       "       [0.45728643, 1.        , 0.        , 0.3963964 , 0.40816327],\n",
       "       [0.46231156, 1.        , 0.57692308, 0.40540541, 0.48979592],\n",
       "       [0.46733668, 0.        , 0.42307692, 0.40540541, 0.39795918],\n",
       "       [0.47236181, 0.        , 0.26923077, 0.40540541, 0.41836735],\n",
       "       [0.47738693, 1.        , 0.11538462, 0.40540541, 0.52040816],\n",
       "       [0.48241206, 0.        , 0.55769231, 0.40540541, 0.46938776],\n",
       "       [0.48743719, 0.        , 0.17307692, 0.40540541, 0.5       ],\n",
       "       [0.49246231, 1.        , 0.57692308, 0.41441441, 0.41836735],\n",
       "       [0.49748744, 1.        , 0.03846154, 0.41441441, 0.48979592],\n",
       "       [0.50251256, 0.        , 0.09615385, 0.42342342, 0.40816327],\n",
       "       [0.50753769, 0.        , 0.59615385, 0.42342342, 0.47959184],\n",
       "       [0.51256281, 1.        , 0.94230769, 0.42342342, 0.59183673],\n",
       "       [0.51758794, 1.        , 0.15384615, 0.42342342, 0.55102041],\n",
       "       [0.52261307, 1.        , 0.59615385, 0.42342342, 0.56122449],\n",
       "       [0.52763819, 0.        , 0.05769231, 0.42342342, 0.41836735],\n",
       "       [0.53266332, 0.        , 0.92307692, 0.43243243, 0.5       ],\n",
       "       [0.53768844, 1.        , 0.69230769, 0.43243243, 0.45918367],\n",
       "       [0.54271357, 1.        , 0.96153846, 0.43243243, 0.42857143],\n",
       "       [0.54773869, 1.        , 0.92307692, 0.43243243, 0.47959184],\n",
       "       [0.55276382, 1.        , 0.90384615, 0.43243243, 0.52040816],\n",
       "       [0.55778894, 0.        , 0.01923077, 0.43243243, 0.54081633],\n",
       "       [0.56281407, 0.        , 0.38461538, 0.44144144, 0.41836735],\n",
       "       [0.5678392 , 1.        , 0.01923077, 0.44144144, 0.45918367],\n",
       "       [0.57286432, 0.        , 0.        , 0.45045045, 0.47959184],\n",
       "       [0.57788945, 0.        , 0.01923077, 0.45045045, 0.5       ],\n",
       "       [0.58291457, 0.        , 0.86538462, 0.45045045, 0.42857143],\n",
       "       [0.5879397 , 0.        , 0.59615385, 0.45045045, 0.59183673],\n",
       "       [0.59296482, 0.        , 0.63461538, 0.46846847, 0.42857143],\n",
       "       [0.59798995, 0.        , 0.61538462, 0.46846847, 0.57142857],\n",
       "       [0.60301508, 1.        , 0.17307692, 0.46846847, 0.56122449],\n",
       "       [0.6080402 , 0.        , 0.38461538, 0.46846847, 0.39795918],\n",
       "       [0.61306533, 0.        , 0.42307692, 0.48648649, 0.58163265],\n",
       "       [0.61809045, 1.        , 0.40384615, 0.48648649, 0.91836735],\n",
       "       [0.62311558, 0.        , 0.09615385, 0.4954955 , 0.28571429],\n",
       "       [0.6281407 , 0.        , 0.25      , 0.4954955 , 0.7755102 ],\n",
       "       [0.63316583, 1.        , 0.48076923, 0.5045045 , 0.34693878],\n",
       "       [0.63819095, 1.        , 0.42307692, 0.5045045 , 0.95918367],\n",
       "       [0.64321608, 1.        , 0.78846154, 0.5045045 , 0.10204082],\n",
       "       [0.64824121, 1.        , 0.38461538, 0.5045045 , 0.75510204],\n",
       "       [0.65326633, 1.        , 0.55769231, 0.5045045 , 0.08163265],\n",
       "       [0.65829146, 1.        , 0.40384615, 0.5045045 , 0.75510204],\n",
       "       [0.66331658, 0.        , 0.13461538, 0.51351351, 0.33673469],\n",
       "       [0.66834171, 0.        , 0.25      , 0.51351351, 0.71428571],\n",
       "       [0.67336683, 1.        , 0.03846154, 0.52252252, 0.04081633],\n",
       "       [0.67839196, 0.        , 0.21153846, 0.52252252, 0.8877551 ],\n",
       "       [0.68341709, 0.        , 0.5       , 0.52252252, 0.06122449],\n",
       "       [0.68844221, 1.        , 0.26923077, 0.52252252, 0.73469388],\n",
       "       [0.69346734, 1.        , 0.01923077, 0.53153153, 0.09183673],\n",
       "       [0.69849246, 0.        , 0.32692308, 0.53153153, 0.7244898 ],\n",
       "       [0.70351759, 0.        , 0.75      , 0.54054054, 0.04081633],\n",
       "       [0.70854271, 1.        , 0.26923077, 0.54054054, 0.93877551],\n",
       "       [0.71356784, 0.        , 0.19230769, 0.54954955, 0.39795918],\n",
       "       [0.71859296, 0.        , 0.26923077, 0.54954955, 0.87755102],\n",
       "       [0.72361809, 1.        , 0.13461538, 0.55855856, 0.1122449 ],\n",
       "       [0.72864322, 1.        , 0.19230769, 0.55855856, 0.97959184],\n",
       "       [0.73366834, 1.        , 0.57692308, 0.55855856, 0.35714286],\n",
       "       [0.73869347, 0.        , 0.26923077, 0.55855856, 0.74489796],\n",
       "       [0.74371859, 0.        , 0.30769231, 0.56756757, 0.21428571],\n",
       "       [0.74874372, 1.        , 0.30769231, 0.56756757, 0.90816327],\n",
       "       [0.75376884, 1.        , 0.48076923, 0.56756757, 0.16326531],\n",
       "       [0.75879397, 1.        , 0.40384615, 0.56756757, 0.8877551 ],\n",
       "       [0.7638191 , 0.        , 0.5       , 0.56756757, 0.19387755],\n",
       "       [0.76884422, 0.        , 0.38461538, 0.56756757, 0.76530612],\n",
       "       [0.77386935, 0.        , 0.55769231, 0.56756757, 0.15306122],\n",
       "       [0.77889447, 0.        , 0.17307692, 0.56756757, 0.89795918],\n",
       "       [0.7839196 , 1.        , 0.36538462, 0.56756757, 0.        ],\n",
       "       [0.78894472, 0.        , 0.23076923, 0.56756757, 0.78571429],\n",
       "       [0.79396985, 1.        , 0.30769231, 0.56756757, 0.        ],\n",
       "       [0.79899497, 0.        , 0.23076923, 0.56756757, 0.73469388],\n",
       "       [0.8040201 , 0.        , 0.73076923, 0.57657658, 0.34693878],\n",
       "       [0.80904523, 0.        , 0.21153846, 0.57657658, 0.83673469],\n",
       "       [0.81407035, 1.        , 0.01923077, 0.59459459, 0.04081633],\n",
       "       [0.81909548, 0.        , 0.25      , 0.59459459, 0.93877551],\n",
       "       [0.8241206 , 1.        , 0.61538462, 0.63063063, 0.25510204],\n",
       "       [0.82914573, 0.        , 0.34615385, 0.63063063, 0.75510204],\n",
       "       [0.83417085, 1.        , 0.46153846, 0.63963964, 0.19387755],\n",
       "       [0.83919598, 0.        , 0.28846154, 0.63963964, 0.95918367],\n",
       "       [0.84422111, 0.        , 0.34615385, 0.64864865, 0.26530612],\n",
       "       [0.84924623, 1.        , 0.26923077, 0.64864865, 0.63265306],\n",
       "       [0.85427136, 1.        , 0.42307692, 0.64864865, 0.12244898],\n",
       "       [0.85929648, 1.        , 0.19230769, 0.64864865, 0.75510204],\n",
       "       [0.86432161, 1.        , 0.34615385, 0.64864865, 0.09183673],\n",
       "       [0.86934673, 1.        , 0.34615385, 0.64864865, 0.92857143],\n",
       "       [0.87437186, 0.        , 0.65384615, 0.65765766, 0.12244898],\n",
       "       [0.87939698, 0.        , 0.23076923, 0.65765766, 0.86734694],\n",
       "       [0.88442211, 1.        , 0.76923077, 0.65765766, 0.14285714],\n",
       "       [0.88944724, 1.        , 0.17307692, 0.65765766, 0.69387755],\n",
       "       [0.89447236, 1.        , 0.78846154, 0.7027027 , 0.13265306],\n",
       "       [0.89949749, 1.        , 0.32692308, 0.7027027 , 0.90816327],\n",
       "       [0.90452261, 0.        , 0.36538462, 0.73873874, 0.31632653],\n",
       "       [0.90954774, 0.        , 0.26923077, 0.73873874, 0.86734694],\n",
       "       [0.91457286, 1.        , 0.53846154, 0.74774775, 0.14285714],\n",
       "       [0.91959799, 0.        , 0.21153846, 0.74774775, 0.8877551 ],\n",
       "       [0.92462312, 0.        , 0.44230769, 0.75675676, 0.3877551 ],\n",
       "       [0.92964824, 1.        , 0.23076923, 0.75675676, 0.97959184],\n",
       "       [0.93467337, 0.        , 0.69230769, 0.77477477, 0.23469388],\n",
       "       [0.93969849, 1.        , 0.19230769, 0.77477477, 0.68367347],\n",
       "       [0.94472362, 0.        , 0.44230769, 0.79279279, 0.16326531],\n",
       "       [0.94974874, 0.        , 0.34615385, 0.79279279, 0.85714286],\n",
       "       [0.95477387, 0.        , 0.30769231, 0.79279279, 0.2244898 ],\n",
       "       [0.95979899, 0.        , 0.26923077, 0.79279279, 0.69387755],\n",
       "       [0.96482412, 1.        , 0.28846154, 0.88288288, 0.07142857],\n",
       "       [0.96984925, 0.        , 0.38461538, 0.88288288, 0.91836735],\n",
       "       [0.97487437, 0.        , 0.55769231, 0.94594595, 0.15306122],\n",
       "       [0.9798995 , 0.        , 0.32692308, 0.94594595, 0.79591837],\n",
       "       [0.98492462, 0.        , 0.51923077, 1.        , 0.2755102 ],\n",
       "       [0.98994975, 1.        , 0.26923077, 1.        , 0.74489796],\n",
       "       [0.99497487, 1.        , 0.26923077, 0.41045045, 0.17346939],\n",
       "       [1.        , 1.        , 0.23076923, 0.41045045, 0.83673469]])"
      ]
     },
     "execution_count": 29,
     "metadata": {},
     "output_type": "execute_result"
    }
   ],
   "source": [
    "x_scaled"
   ]
  },
  {
   "cell_type": "markdown",
   "id": "6faf47c5",
   "metadata": {},
   "source": [
    "# 9. Performing Clustering"
   ]
  },
  {
   "cell_type": "code",
   "execution_count": 30,
   "id": "0a4762a3",
   "metadata": {},
   "outputs": [
    {
     "name": "stderr",
     "output_type": "stream",
     "text": [
      "C:\\Users\\spars\\anaconda3\\lib\\site-packages\\sklearn\\cluster\\_kmeans.py:1334: UserWarning: KMeans is known to have a memory leak on Windows with MKL, when there are less chunks than available threads. You can avoid it by setting the environment variable OMP_NUM_THREADS=1.\n",
      "  warnings.warn(\n"
     ]
    }
   ],
   "source": [
    "from sklearn.cluster import KMeans\n",
    "km=KMeans()\n",
    "cluster = km.fit_predict(x_scaled)"
   ]
  },
  {
   "cell_type": "code",
   "execution_count": 31,
   "id": "2cfe6cc4",
   "metadata": {},
   "outputs": [
    {
     "data": {
      "text/plain": [
       "Index(['CustomerID', 'Gender', 'Age', 'Annual Income (k$)',\n",
       "       'Spending Score (1-100)'],\n",
       "      dtype='object')"
      ]
     },
     "execution_count": 31,
     "metadata": {},
     "output_type": "execute_result"
    }
   ],
   "source": [
    "values = data.columns\n",
    "values"
   ]
  },
  {
   "cell_type": "markdown",
   "id": "245e6cef",
   "metadata": {},
   "source": [
    "# 10. Adding the Cluster Data to the primary Dataset"
   ]
  },
  {
   "cell_type": "code",
   "execution_count": 32,
   "id": "2004bafe",
   "metadata": {},
   "outputs": [
    {
     "data": {
      "text/html": [
       "<div>\n",
       "<style scoped>\n",
       "    .dataframe tbody tr th:only-of-type {\n",
       "        vertical-align: middle;\n",
       "    }\n",
       "\n",
       "    .dataframe tbody tr th {\n",
       "        vertical-align: top;\n",
       "    }\n",
       "\n",
       "    .dataframe thead th {\n",
       "        text-align: right;\n",
       "    }\n",
       "</style>\n",
       "<table border=\"1\" class=\"dataframe\">\n",
       "  <thead>\n",
       "    <tr style=\"text-align: right;\">\n",
       "      <th></th>\n",
       "      <th>CustomerID</th>\n",
       "      <th>Gender</th>\n",
       "      <th>Age</th>\n",
       "      <th>Annual Income (k$)</th>\n",
       "      <th>Spending Score (1-100)</th>\n",
       "      <th>Cluster_Value</th>\n",
       "    </tr>\n",
       "  </thead>\n",
       "  <tbody>\n",
       "    <tr>\n",
       "      <th>0</th>\n",
       "      <td>0.000000</td>\n",
       "      <td>1.0</td>\n",
       "      <td>0.019231</td>\n",
       "      <td>0.000000</td>\n",
       "      <td>0.387755</td>\n",
       "      <td>7</td>\n",
       "    </tr>\n",
       "    <tr>\n",
       "      <th>1</th>\n",
       "      <td>0.005025</td>\n",
       "      <td>1.0</td>\n",
       "      <td>0.057692</td>\n",
       "      <td>0.000000</td>\n",
       "      <td>0.816327</td>\n",
       "      <td>7</td>\n",
       "    </tr>\n",
       "    <tr>\n",
       "      <th>2</th>\n",
       "      <td>0.010050</td>\n",
       "      <td>0.0</td>\n",
       "      <td>0.038462</td>\n",
       "      <td>0.009009</td>\n",
       "      <td>0.051020</td>\n",
       "      <td>2</td>\n",
       "    </tr>\n",
       "    <tr>\n",
       "      <th>3</th>\n",
       "      <td>0.015075</td>\n",
       "      <td>0.0</td>\n",
       "      <td>0.096154</td>\n",
       "      <td>0.009009</td>\n",
       "      <td>0.775510</td>\n",
       "      <td>2</td>\n",
       "    </tr>\n",
       "    <tr>\n",
       "      <th>4</th>\n",
       "      <td>0.020101</td>\n",
       "      <td>0.0</td>\n",
       "      <td>0.250000</td>\n",
       "      <td>0.018018</td>\n",
       "      <td>0.397959</td>\n",
       "      <td>2</td>\n",
       "    </tr>\n",
       "    <tr>\n",
       "      <th>...</th>\n",
       "      <td>...</td>\n",
       "      <td>...</td>\n",
       "      <td>...</td>\n",
       "      <td>...</td>\n",
       "      <td>...</td>\n",
       "      <td>...</td>\n",
       "    </tr>\n",
       "    <tr>\n",
       "      <th>195</th>\n",
       "      <td>0.979899</td>\n",
       "      <td>0.0</td>\n",
       "      <td>0.326923</td>\n",
       "      <td>0.945946</td>\n",
       "      <td>0.795918</td>\n",
       "      <td>5</td>\n",
       "    </tr>\n",
       "    <tr>\n",
       "      <th>196</th>\n",
       "      <td>0.984925</td>\n",
       "      <td>0.0</td>\n",
       "      <td>0.519231</td>\n",
       "      <td>1.000000</td>\n",
       "      <td>0.275510</td>\n",
       "      <td>0</td>\n",
       "    </tr>\n",
       "    <tr>\n",
       "      <th>197</th>\n",
       "      <td>0.989950</td>\n",
       "      <td>1.0</td>\n",
       "      <td>0.269231</td>\n",
       "      <td>1.000000</td>\n",
       "      <td>0.744898</td>\n",
       "      <td>4</td>\n",
       "    </tr>\n",
       "    <tr>\n",
       "      <th>198</th>\n",
       "      <td>0.994975</td>\n",
       "      <td>1.0</td>\n",
       "      <td>0.269231</td>\n",
       "      <td>0.410450</td>\n",
       "      <td>0.173469</td>\n",
       "      <td>6</td>\n",
       "    </tr>\n",
       "    <tr>\n",
       "      <th>199</th>\n",
       "      <td>1.000000</td>\n",
       "      <td>1.0</td>\n",
       "      <td>0.230769</td>\n",
       "      <td>0.410450</td>\n",
       "      <td>0.836735</td>\n",
       "      <td>4</td>\n",
       "    </tr>\n",
       "  </tbody>\n",
       "</table>\n",
       "<p>200 rows × 6 columns</p>\n",
       "</div>"
      ],
      "text/plain": [
       "     CustomerID  Gender       Age  Annual Income (k$)  Spending Score (1-100)  \\\n",
       "0      0.000000     1.0  0.019231            0.000000                0.387755   \n",
       "1      0.005025     1.0  0.057692            0.000000                0.816327   \n",
       "2      0.010050     0.0  0.038462            0.009009                0.051020   \n",
       "3      0.015075     0.0  0.096154            0.009009                0.775510   \n",
       "4      0.020101     0.0  0.250000            0.018018                0.397959   \n",
       "..          ...     ...       ...                 ...                     ...   \n",
       "195    0.979899     0.0  0.326923            0.945946                0.795918   \n",
       "196    0.984925     0.0  0.519231            1.000000                0.275510   \n",
       "197    0.989950     1.0  0.269231            1.000000                0.744898   \n",
       "198    0.994975     1.0  0.269231            0.410450                0.173469   \n",
       "199    1.000000     1.0  0.230769            0.410450                0.836735   \n",
       "\n",
       "     Cluster_Value  \n",
       "0                7  \n",
       "1                7  \n",
       "2                2  \n",
       "3                2  \n",
       "4                2  \n",
       "..             ...  \n",
       "195              5  \n",
       "196              0  \n",
       "197              4  \n",
       "198              6  \n",
       "199              4  \n",
       "\n",
       "[200 rows x 6 columns]"
      ]
     },
     "execution_count": 32,
     "metadata": {},
     "output_type": "execute_result"
    }
   ],
   "source": [
    "df = pd.DataFrame(x_scaled, columns = values)\n",
    "df['Cluster_Value'] = pd.Series(cluster)\n",
    "df"
   ]
  },
  {
   "cell_type": "markdown",
   "id": "656170de",
   "metadata": {},
   "source": [
    "# 11. Splitting into X and Y"
   ]
  },
  {
   "cell_type": "code",
   "execution_count": 33,
   "id": "52e28805",
   "metadata": {},
   "outputs": [
    {
     "data": {
      "text/html": [
       "<div>\n",
       "<style scoped>\n",
       "    .dataframe tbody tr th:only-of-type {\n",
       "        vertical-align: middle;\n",
       "    }\n",
       "\n",
       "    .dataframe tbody tr th {\n",
       "        vertical-align: top;\n",
       "    }\n",
       "\n",
       "    .dataframe thead th {\n",
       "        text-align: right;\n",
       "    }\n",
       "</style>\n",
       "<table border=\"1\" class=\"dataframe\">\n",
       "  <thead>\n",
       "    <tr style=\"text-align: right;\">\n",
       "      <th></th>\n",
       "      <th>Gender</th>\n",
       "      <th>Age</th>\n",
       "      <th>Annual Income (k$)</th>\n",
       "      <th>Spending Score (1-100)</th>\n",
       "    </tr>\n",
       "  </thead>\n",
       "  <tbody>\n",
       "    <tr>\n",
       "      <th>0</th>\n",
       "      <td>1.0</td>\n",
       "      <td>0.019231</td>\n",
       "      <td>0.000000</td>\n",
       "      <td>0.387755</td>\n",
       "    </tr>\n",
       "    <tr>\n",
       "      <th>1</th>\n",
       "      <td>1.0</td>\n",
       "      <td>0.057692</td>\n",
       "      <td>0.000000</td>\n",
       "      <td>0.816327</td>\n",
       "    </tr>\n",
       "    <tr>\n",
       "      <th>2</th>\n",
       "      <td>0.0</td>\n",
       "      <td>0.038462</td>\n",
       "      <td>0.009009</td>\n",
       "      <td>0.051020</td>\n",
       "    </tr>\n",
       "    <tr>\n",
       "      <th>3</th>\n",
       "      <td>0.0</td>\n",
       "      <td>0.096154</td>\n",
       "      <td>0.009009</td>\n",
       "      <td>0.775510</td>\n",
       "    </tr>\n",
       "    <tr>\n",
       "      <th>4</th>\n",
       "      <td>0.0</td>\n",
       "      <td>0.250000</td>\n",
       "      <td>0.018018</td>\n",
       "      <td>0.397959</td>\n",
       "    </tr>\n",
       "    <tr>\n",
       "      <th>...</th>\n",
       "      <td>...</td>\n",
       "      <td>...</td>\n",
       "      <td>...</td>\n",
       "      <td>...</td>\n",
       "    </tr>\n",
       "    <tr>\n",
       "      <th>195</th>\n",
       "      <td>0.0</td>\n",
       "      <td>0.326923</td>\n",
       "      <td>0.945946</td>\n",
       "      <td>0.795918</td>\n",
       "    </tr>\n",
       "    <tr>\n",
       "      <th>196</th>\n",
       "      <td>0.0</td>\n",
       "      <td>0.519231</td>\n",
       "      <td>1.000000</td>\n",
       "      <td>0.275510</td>\n",
       "    </tr>\n",
       "    <tr>\n",
       "      <th>197</th>\n",
       "      <td>1.0</td>\n",
       "      <td>0.269231</td>\n",
       "      <td>1.000000</td>\n",
       "      <td>0.744898</td>\n",
       "    </tr>\n",
       "    <tr>\n",
       "      <th>198</th>\n",
       "      <td>1.0</td>\n",
       "      <td>0.269231</td>\n",
       "      <td>0.410450</td>\n",
       "      <td>0.173469</td>\n",
       "    </tr>\n",
       "    <tr>\n",
       "      <th>199</th>\n",
       "      <td>1.0</td>\n",
       "      <td>0.230769</td>\n",
       "      <td>0.410450</td>\n",
       "      <td>0.836735</td>\n",
       "    </tr>\n",
       "  </tbody>\n",
       "</table>\n",
       "<p>200 rows × 4 columns</p>\n",
       "</div>"
      ],
      "text/plain": [
       "     Gender       Age  Annual Income (k$)  Spending Score (1-100)\n",
       "0       1.0  0.019231            0.000000                0.387755\n",
       "1       1.0  0.057692            0.000000                0.816327\n",
       "2       0.0  0.038462            0.009009                0.051020\n",
       "3       0.0  0.096154            0.009009                0.775510\n",
       "4       0.0  0.250000            0.018018                0.397959\n",
       "..      ...       ...                 ...                     ...\n",
       "195     0.0  0.326923            0.945946                0.795918\n",
       "196     0.0  0.519231            1.000000                0.275510\n",
       "197     1.0  0.269231            1.000000                0.744898\n",
       "198     1.0  0.269231            0.410450                0.173469\n",
       "199     1.0  0.230769            0.410450                0.836735\n",
       "\n",
       "[200 rows x 4 columns]"
      ]
     },
     "execution_count": 33,
     "metadata": {},
     "output_type": "execute_result"
    }
   ],
   "source": [
    "x = df.iloc[:,1:5]\n",
    "x"
   ]
  },
  {
   "cell_type": "code",
   "execution_count": 34,
   "id": "1bec2f80",
   "metadata": {},
   "outputs": [
    {
     "data": {
      "text/plain": [
       "0      7\n",
       "1      7\n",
       "2      2\n",
       "3      2\n",
       "4      2\n",
       "      ..\n",
       "195    5\n",
       "196    0\n",
       "197    4\n",
       "198    6\n",
       "199    4\n",
       "Name: Cluster_Value, Length: 200, dtype: int32"
      ]
     },
     "execution_count": 34,
     "metadata": {},
     "output_type": "execute_result"
    }
   ],
   "source": [
    "y = df['Cluster_Value']\n",
    "y"
   ]
  },
  {
   "cell_type": "markdown",
   "id": "67e0aa5a",
   "metadata": {
    "id": "cf6b10bd"
   },
   "source": [
    "# 12. Splitting into training and testing"
   ]
  },
  {
   "cell_type": "code",
   "execution_count": 35,
   "id": "ea2d958b",
   "metadata": {
    "id": "9db7fa39"
   },
   "outputs": [],
   "source": [
    "from sklearn.model_selection import train_test_split\n",
    "x_train, x_test, y_train, y_test = train_test_split(x_scaled, y, test_size = 0.3, random_state = 1) "
   ]
  },
  {
   "cell_type": "code",
   "execution_count": 36,
   "id": "5eb04a6f",
   "metadata": {
    "colab": {
     "base_uri": "https://localhost:8080/"
    },
    "id": "5437849e",
    "outputId": "54ec7cf2-910d-4b03-ffc2-496f228fd81d"
   },
   "outputs": [
    {
     "data": {
      "text/plain": [
       "array([[0.58291457, 0.        , 0.86538462, 0.45045045, 0.42857143],\n",
       "       [0.33668342, 0.        , 0.96153846, 0.2972973 , 0.47959184],\n",
       "       [0.3919598 , 0.        , 0.09615385, 0.35135135, 0.52040816],\n",
       "       [0.21105528, 1.        , 0.57692308, 0.21621622, 0.35714286],\n",
       "       [0.08542714, 1.        , 0.03846154, 0.05405405, 0.66326531],\n",
       "       [0.02512563, 0.        , 0.07692308, 0.01801802, 0.76530612],\n",
       "       [0.63819095, 1.        , 0.42307692, 0.5045045 , 0.95918367],\n",
       "       [0.52763819, 0.        , 0.05769231, 0.42342342, 0.41836735],\n",
       "       [0.24120603, 0.        , 0.21153846, 0.22522523, 0.41836735],\n",
       "       [0.33165829, 0.        , 0.48076923, 0.2972973 , 0.5       ],\n",
       "       [0.27135678, 0.        , 0.61538462, 0.25225225, 0.44897959],\n",
       "       [0.42211055, 0.        , 0.05769231, 0.35135135, 0.57142857],\n",
       "       [0.91959799, 0.        , 0.21153846, 0.74774775, 0.8877551 ],\n",
       "       [0.79396985, 1.        , 0.30769231, 0.56756757, 0.        ],\n",
       "       [0.83417085, 1.        , 0.46153846, 0.63963964, 0.19387755],\n",
       "       [0.5678392 , 1.        , 0.01923077, 0.44144144, 0.45918367],\n",
       "       [0.06030151, 0.        , 0.76923077, 0.04504505, 0.14285714],\n",
       "       [0.5879397 , 0.        , 0.59615385, 0.45045045, 0.59183673],\n",
       "       [0.46733668, 0.        , 0.42307692, 0.40540541, 0.39795918],\n",
       "       [0.60301508, 1.        , 0.17307692, 0.46846847, 0.56122449],\n",
       "       [0.77386935, 0.        , 0.55769231, 0.56756757, 0.15306122],\n",
       "       [0.45226131, 0.        , 0.96153846, 0.3963964 , 0.55102041],\n",
       "       [0.40703518, 1.        , 0.38461538, 0.35135135, 0.55102041],\n",
       "       [0.61306533, 0.        , 0.42307692, 0.48648649, 0.58163265],\n",
       "       [0.95979899, 0.        , 0.26923077, 0.79279279, 0.69387755],\n",
       "       [0.06532663, 0.        , 0.11538462, 0.04504505, 0.7755102 ],\n",
       "       [0.4120603 , 1.        , 0.94230769, 0.35135135, 0.40816327],\n",
       "       [0.66331658, 0.        , 0.13461538, 0.51351351, 0.33673469],\n",
       "       [0.93969849, 1.        , 0.19230769, 0.77477477, 0.68367347],\n",
       "       [0.22613065, 0.        , 0.11538462, 0.21621622, 0.65306122],\n",
       "       [0.49748744, 1.        , 0.03846154, 0.41441441, 0.48979592],\n",
       "       [0.18090452, 0.        , 0.46153846, 0.17117117, 0.16326531],\n",
       "       [0.80904523, 0.        , 0.21153846, 0.57657658, 0.83673469],\n",
       "       [0.93467337, 0.        , 0.69230769, 0.77477477, 0.23469388],\n",
       "       [0.76884422, 0.        , 0.38461538, 0.56756757, 0.76530612],\n",
       "       [0.51758794, 1.        , 0.15384615, 0.42342342, 0.55102041],\n",
       "       [0.9798995 , 0.        , 0.32692308, 0.94594595, 0.79591837],\n",
       "       [0.98994975, 1.        , 0.26923077, 1.        , 0.74489796],\n",
       "       [0.74371859, 0.        , 0.30769231, 0.56756757, 0.21428571],\n",
       "       [0.86934673, 1.        , 0.34615385, 0.64864865, 0.92857143],\n",
       "       [0.37688442, 1.        , 0.15384615, 0.35135135, 0.54081633],\n",
       "       [0.10552764, 1.        , 0.13461538, 0.08108108, 0.73469388],\n",
       "       [0.45728643, 1.        , 0.        , 0.3963964 , 0.40816327],\n",
       "       [0.7638191 , 0.        , 0.5       , 0.56756757, 0.19387755],\n",
       "       [0.01005025, 0.        , 0.03846154, 0.00900901, 0.05102041],\n",
       "       [0.35175879, 1.        , 1.        , 0.30630631, 0.55102041],\n",
       "       [0.42713568, 1.        , 0.57692308, 0.35135135, 0.45918367],\n",
       "       [0.75376884, 1.        , 0.48076923, 0.56756757, 0.16326531],\n",
       "       [0.03015075, 0.        , 0.32692308, 0.02702703, 0.05102041],\n",
       "       [0.56281407, 0.        , 0.38461538, 0.44144144, 0.41836735],\n",
       "       [0.        , 1.        , 0.01923077, 0.        , 0.3877551 ],\n",
       "       [0.77889447, 0.        , 0.17307692, 0.56756757, 0.89795918],\n",
       "       [0.38693467, 1.        , 0.42307692, 0.35135135, 0.47959184],\n",
       "       [0.32663317, 1.        , 0.        , 0.2972973 , 0.59183673],\n",
       "       [0.27638191, 1.        , 0.55769231, 0.25225225, 0.40816327],\n",
       "       [0.83919598, 0.        , 0.28846154, 0.63963964, 0.95918367],\n",
       "       [0.44221106, 0.        , 0.30769231, 0.38738739, 0.60204082],\n",
       "       [0.65326633, 1.        , 0.55769231, 0.5045045 , 0.08163265],\n",
       "       [0.23115578, 0.        , 0.61538462, 0.22522523, 0.55102041],\n",
       "       [0.31155779, 0.        , 0.94230769, 0.28828829, 0.52040816],\n",
       "       [0.3718593 , 1.        , 0.78846154, 0.35135135, 0.46938776],\n",
       "       [0.46231156, 1.        , 0.57692308, 0.40540541, 0.48979592],\n",
       "       [0.73869347, 0.        , 0.26923077, 0.55855856, 0.74489796],\n",
       "       [0.8040201 , 0.        , 0.73076923, 0.57657658, 0.34693878],\n",
       "       [0.71859296, 0.        , 0.26923077, 0.54954955, 0.87755102],\n",
       "       [0.43718593, 0.        , 0.07692308, 0.37837838, 0.55102041],\n",
       "       [0.90452261, 0.        , 0.36538462, 0.73873874, 0.31632653],\n",
       "       [0.72864322, 1.        , 0.19230769, 0.55855856, 0.97959184],\n",
       "       [0.8241206 , 1.        , 0.61538462, 0.63063063, 0.25510204],\n",
       "       [0.05025126, 1.        , 0.94230769, 0.03603604, 0.13265306],\n",
       "       [0.16080402, 1.        , 0.67307692, 0.16216216, 0.03061224],\n",
       "       [0.41708543, 0.        , 0.53846154, 0.35135135, 0.43877551],\n",
       "       [0.91457286, 1.        , 0.53846154, 0.74774775, 0.14285714],\n",
       "       [0.50251256, 0.        , 0.09615385, 0.42342342, 0.40816327],\n",
       "       [0.6281407 , 0.        , 0.25      , 0.4954955 , 0.7755102 ],\n",
       "       [0.11557789, 1.        , 0.25      , 0.09009009, 0.73469388],\n",
       "       [0.63316583, 1.        , 0.48076923, 0.5045045 , 0.34693878],\n",
       "       [0.04522613, 0.        , 0.23076923, 0.03603604, 0.7244898 ],\n",
       "       [0.85427136, 1.        , 0.42307692, 0.64864865, 0.12244898],\n",
       "       [0.52261307, 1.        , 0.59615385, 0.42342342, 0.56122449],\n",
       "       [0.75879397, 1.        , 0.40384615, 0.56756757, 0.8877551 ],\n",
       "       [0.67839196, 0.        , 0.21153846, 0.52252252, 0.8877551 ],\n",
       "       [0.55778894, 0.        , 0.01923077, 0.43243243, 0.54081633],\n",
       "       [0.94472362, 0.        , 0.44230769, 0.79279279, 0.16326531],\n",
       "       [0.32160804, 1.        , 0.86538462, 0.2972973 , 0.51020408],\n",
       "       [0.07537688, 1.        , 0.07692308, 0.04504505, 0.79591837],\n",
       "       [0.20603015, 1.        , 0.11538462, 0.20720721, 0.92857143],\n",
       "       [0.81909548, 0.        , 0.25      , 0.59459459, 0.93877551],\n",
       "       [0.54773869, 1.        , 0.92307692, 0.43243243, 0.47959184],\n",
       "       [0.40201005, 1.        , 0.75      , 0.35135135, 0.51020408],\n",
       "       [0.26130653, 0.        , 0.25      , 0.25225225, 0.54081633],\n",
       "       [0.13065327, 0.        , 0.51923077, 0.11711712, 0.31632653],\n",
       "       [0.38190955, 0.        , 0.51923077, 0.35135135, 0.53061224],\n",
       "       [0.2160804 , 0.        , 0.25      , 0.21621622, 0.6122449 ],\n",
       "       [0.12060302, 0.        , 0.69230769, 0.11711712, 0.13265306],\n",
       "       [0.01507538, 0.        , 0.09615385, 0.00900901, 0.7755102 ],\n",
       "       [0.84924623, 1.        , 0.26923077, 0.64864865, 0.63265306],\n",
       "       [0.24623116, 0.        , 0.25      , 0.22522523, 0.41836735],\n",
       "       [0.74874372, 1.        , 0.30769231, 0.56756757, 0.90816327],\n",
       "       [0.65829146, 1.        , 0.40384615, 0.5045045 , 0.75510204],\n",
       "       [0.95477387, 0.        , 0.30769231, 0.79279279, 0.2244898 ],\n",
       "       [0.15075377, 1.        , 0.80769231, 0.13513514, 0.03061224],\n",
       "       [0.6080402 , 0.        , 0.38461538, 0.46846847, 0.39795918],\n",
       "       [0.57788945, 0.        , 0.01923077, 0.45045045, 0.5       ],\n",
       "       [0.87939698, 0.        , 0.23076923, 0.65765766, 0.86734694],\n",
       "       [0.04020101, 1.        , 0.88461538, 0.03603604, 0.02040816],\n",
       "       [0.30150754, 1.        , 1.        , 0.27927928, 0.56122449],\n",
       "       [0.64321608, 1.        , 0.78846154, 0.5045045 , 0.10204082],\n",
       "       [0.00502513, 1.        , 0.05769231, 0.        , 0.81632653],\n",
       "       [0.28643216, 1.        , 0.98076923, 0.26126126, 0.45918367],\n",
       "       [0.11055276, 0.        , 0.53846154, 0.09009009, 0.04081633],\n",
       "       [0.30653266, 1.        , 0.01923077, 0.27927928, 0.55102041],\n",
       "       [0.31658291, 0.        , 0.69230769, 0.28828829, 0.59183673],\n",
       "       [0.03517588, 0.        , 0.09615385, 0.02702703, 0.94897959],\n",
       "       [0.98492462, 0.        , 0.51923077, 1.        , 0.2755102 ],\n",
       "       [0.70854271, 1.        , 0.26923077, 0.54054054, 0.93877551],\n",
       "       [0.4321608 , 0.        , 0.71153846, 0.37837838, 0.58163265],\n",
       "       [0.48241206, 0.        , 0.55769231, 0.40540541, 0.46938776],\n",
       "       [0.34170854, 1.        , 0.01923077, 0.2972973 , 0.59183673],\n",
       "       [0.25125628, 0.        , 0.59615385, 0.24324324, 0.52040816],\n",
       "       [0.71356784, 0.        , 0.19230769, 0.54954955, 0.39795918],\n",
       "       [0.78894472, 0.        , 0.23076923, 0.56756757, 0.78571429],\n",
       "       [0.7839196 , 1.        , 0.36538462, 0.56756757, 0.        ],\n",
       "       [0.69849246, 0.        , 0.32692308, 0.53153153, 0.7244898 ],\n",
       "       [0.73366834, 1.        , 0.57692308, 0.55855856, 0.35714286],\n",
       "       [0.50753769, 0.        , 0.59615385, 0.42342342, 0.47959184],\n",
       "       [0.10050251, 1.        , 0.32692308, 0.08108108, 0.34693878],\n",
       "       [0.89447236, 1.        , 0.78846154, 0.7027027 , 0.13265306],\n",
       "       [0.12562814, 1.        , 0.21153846, 0.11711712, 0.82653061],\n",
       "       [0.67336683, 1.        , 0.03846154, 0.52252252, 0.04081633],\n",
       "       [0.35678392, 0.        , 0.55769231, 0.30630631, 0.41836735],\n",
       "       [0.64824121, 1.        , 0.38461538, 0.5045045 , 0.75510204],\n",
       "       [0.72361809, 1.        , 0.13461538, 0.55855856, 0.1122449 ],\n",
       "       [0.96482412, 1.        , 0.28846154, 0.88288288, 0.07142857],\n",
       "       [0.39698492, 0.        , 0.59615385, 0.35135135, 0.41836735],\n",
       "       [0.66834171, 0.        , 0.25      , 0.51351351, 0.71428571],\n",
       "       [0.68844221, 1.        , 0.26923077, 0.52252252, 0.73469388],\n",
       "       [0.36180905, 0.        , 0.80769231, 0.31531532, 0.48979592],\n",
       "       [0.70351759, 0.        , 0.75      , 0.54054054, 0.04081633],\n",
       "       [0.18592965, 0.        , 0.23076923, 0.17117117, 0.73469388]])"
      ]
     },
     "execution_count": 36,
     "metadata": {},
     "output_type": "execute_result"
    }
   ],
   "source": [
    "x_train"
   ]
  },
  {
   "cell_type": "code",
   "execution_count": 37,
   "id": "86dfd161",
   "metadata": {
    "colab": {
     "base_uri": "https://localhost:8080/"
    },
    "id": "c2209edc",
    "outputId": "9fb57be0-dd1e-47f4-bfbb-1daee76dee46"
   },
   "outputs": [
    {
     "data": {
      "text/plain": [
       "array([[0.29145729, 0.        , 0.17307692, 0.27927928, 0.51020408],\n",
       "       [0.20100503, 0.        , 0.90384615, 0.20720721, 0.34693878],\n",
       "       [0.17085427, 0.        , 0.59615385, 0.16216216, 0.13265306],\n",
       "       [0.51256281, 1.        , 0.94230769, 0.42342342, 0.59183673],\n",
       "       [0.92462312, 0.        , 0.44230769, 0.75675676, 0.3877551 ],\n",
       "       [0.99497487, 1.        , 0.26923077, 0.41045045, 0.17346939],\n",
       "       [0.47738693, 1.        , 0.11538462, 0.40540541, 0.52040816],\n",
       "       [0.0201005 , 0.        , 0.25      , 0.01801802, 0.39795918],\n",
       "       [0.14572864, 0.        , 0.09615385, 0.12612613, 0.87755102],\n",
       "       [0.84422111, 0.        , 0.34615385, 0.64864865, 0.26530612],\n",
       "       [0.85929648, 1.        , 0.19230769, 0.64864865, 0.75510204],\n",
       "       [0.09045226, 1.        , 0.65384615, 0.07207207, 0.28571429],\n",
       "       [0.05527638, 0.        , 0.32692308, 0.03603604, 1.        ],\n",
       "       [0.44723618, 0.        , 0.61538462, 0.38738739, 0.45918367],\n",
       "       [0.55276382, 1.        , 0.90384615, 0.43243243, 0.52040816],\n",
       "       [0.59296482, 0.        , 0.63461538, 0.46846847, 0.42857143],\n",
       "       [0.79899497, 0.        , 0.23076923, 0.56756757, 0.73469388],\n",
       "       [0.1758794 , 0.        , 0.05769231, 0.16216216, 0.81632653],\n",
       "       [0.68341709, 0.        , 0.5       , 0.52252252, 0.06122449],\n",
       "       [0.29648241, 1.        , 0.67307692, 0.27927928, 0.45918367],\n",
       "       [0.25628141, 1.        , 0.28846154, 0.24324324, 0.60204082],\n",
       "       [0.08040201, 0.        , 0.32692308, 0.05405405, 0.34693878],\n",
       "       [0.22110553, 0.        , 0.59615385, 0.21621622, 0.2755102 ],\n",
       "       [0.47236181, 0.        , 0.26923077, 0.40540541, 0.41836735],\n",
       "       [0.15577889, 0.        , 0.05769231, 0.13513514, 0.73469388],\n",
       "       [0.81407035, 1.        , 0.01923077, 0.59459459, 0.04081633],\n",
       "       [0.19095477, 0.        , 0.34615385, 0.1981982 , 0.25510204],\n",
       "       [0.14070352, 0.        , 0.42307692, 0.12612613, 0.30612245],\n",
       "       [0.96984925, 0.        , 0.38461538, 0.88288288, 0.91836735],\n",
       "       [0.13567839, 1.        , 0.32692308, 0.11711712, 0.6122449 ],\n",
       "       [0.2361809 , 0.        , 0.17307692, 0.22522523, 0.46938776],\n",
       "       [0.82914573, 0.        , 0.34615385, 0.63063063, 0.75510204],\n",
       "       [0.97487437, 0.        , 0.55769231, 0.94594595, 0.15306122],\n",
       "       [0.88944724, 1.        , 0.17307692, 0.65765766, 0.69387755],\n",
       "       [0.88442211, 1.        , 0.76923077, 0.65765766, 0.14285714],\n",
       "       [0.48743719, 0.        , 0.17307692, 0.40540541, 0.5       ],\n",
       "       [0.87437186, 0.        , 0.65384615, 0.65765766, 0.12244898],\n",
       "       [0.36683417, 0.        , 0.80769231, 0.31531532, 0.56122449],\n",
       "       [0.34673367, 0.        , 0.26923077, 0.2972973 , 0.46938776],\n",
       "       [0.86432161, 1.        , 0.34615385, 0.64864865, 0.09183673],\n",
       "       [0.54271357, 1.        , 0.96153846, 0.43243243, 0.42857143],\n",
       "       [0.53768844, 1.        , 0.69230769, 0.43243243, 0.45918367],\n",
       "       [0.94974874, 0.        , 0.34615385, 0.79279279, 0.85714286],\n",
       "       [0.07035176, 1.        , 0.36538462, 0.04504505, 0.12244898],\n",
       "       [0.28140704, 0.        , 0.63461538, 0.26126126, 0.5       ],\n",
       "       [0.09547739, 0.        , 0.32692308, 0.07207207, 0.98979592],\n",
       "       [0.57286432, 0.        , 0.        , 0.45045045, 0.47959184],\n",
       "       [0.1959799 , 0.        , 0.03846154, 0.1981982 , 0.75510204],\n",
       "       [0.92964824, 1.        , 0.23076923, 0.75675676, 0.97959184],\n",
       "       [0.62311558, 0.        , 0.09615385, 0.4954955 , 0.28571429],\n",
       "       [0.49246231, 1.        , 0.57692308, 0.41441441, 0.41836735],\n",
       "       [0.61809045, 1.        , 0.40384615, 0.48648649, 0.91836735],\n",
       "       [0.59798995, 0.        , 0.61538462, 0.46846847, 0.57142857],\n",
       "       [0.26633166, 1.        , 0.78846154, 0.25225225, 0.60204082],\n",
       "       [0.16582915, 1.        , 0.        , 0.16216216, 0.92857143],\n",
       "       [0.89949749, 1.        , 0.32692308, 0.7027027 , 0.90816327],\n",
       "       [0.90954774, 0.        , 0.26923077, 0.73873874, 0.86734694],\n",
       "       [0.53266332, 0.        , 0.92307692, 0.43243243, 0.5       ],\n",
       "       [1.        , 1.        , 0.23076923, 0.41045045, 0.83673469],\n",
       "       [0.69346734, 1.        , 0.01923077, 0.53153153, 0.09183673]])"
      ]
     },
     "execution_count": 37,
     "metadata": {},
     "output_type": "execute_result"
    }
   ],
   "source": [
    "x_test"
   ]
  },
  {
   "cell_type": "code",
   "execution_count": 38,
   "id": "65a46a6c",
   "metadata": {
    "colab": {
     "base_uri": "https://localhost:8080/"
    },
    "id": "35ea0a46",
    "outputId": "a9fe0ce9-801f-4df0-f0de-8480acf83b1d"
   },
   "outputs": [
    {
     "data": {
      "text/plain": [
       "116    3\n",
       "67     3\n",
       "78     2\n",
       "42     1\n",
       "17     7\n",
       "      ..\n",
       "133    5\n",
       "137    4\n",
       "72     3\n",
       "140    0\n",
       "37     2\n",
       "Name: Cluster_Value, Length: 140, dtype: int32"
      ]
     },
     "execution_count": 38,
     "metadata": {},
     "output_type": "execute_result"
    }
   ],
   "source": [
    "y_train"
   ]
  },
  {
   "cell_type": "code",
   "execution_count": 39,
   "id": "b93370f3",
   "metadata": {
    "colab": {
     "base_uri": "https://localhost:8080/"
    },
    "id": "2c48f74d",
    "outputId": "68950101-be3f-45e4-a490-96f46de56c5f"
   },
   "outputs": [
    {
     "data": {
      "text/plain": [
       "58     2\n",
       "40     3\n",
       "34     3\n",
       "102    1\n",
       "184    0\n",
       "198    6\n",
       "95     7\n",
       "4      2\n",
       "29     2\n",
       "168    0\n",
       "171    4\n",
       "18     1\n",
       "11     2\n",
       "89     3\n",
       "110    1\n",
       "118    3\n",
       "159    5\n",
       "35     2\n",
       "136    0\n",
       "59     1\n",
       "51     7\n",
       "16     2\n",
       "44     3\n",
       "94     2\n",
       "31     2\n",
       "162    6\n",
       "38     2\n",
       "28     3\n",
       "193    5\n",
       "27     7\n",
       "47     2\n",
       "165    5\n",
       "194    0\n",
       "177    4\n",
       "176    6\n",
       "97     2\n",
       "174    0\n",
       "73     3\n",
       "69     2\n",
       "172    6\n",
       "108    1\n",
       "107    1\n",
       "189    5\n",
       "14     7\n",
       "56     3\n",
       "19     2\n",
       "114    2\n",
       "39     2\n",
       "185    4\n",
       "124    0\n",
       "98     1\n",
       "123    4\n",
       "119    3\n",
       "53     1\n",
       "33     7\n",
       "179    4\n",
       "181    5\n",
       "106    3\n",
       "199    4\n",
       "138    6\n",
       "Name: Cluster_Value, dtype: int32"
      ]
     },
     "execution_count": 39,
     "metadata": {},
     "output_type": "execute_result"
    }
   ],
   "source": [
    "y_test"
   ]
  },
  {
   "cell_type": "markdown",
   "id": "cce2e162",
   "metadata": {
    "id": "7b53f922"
   },
   "source": [
    "# 13. Building the model"
   ]
  },
  {
   "cell_type": "code",
   "execution_count": 40,
   "id": "4000e057",
   "metadata": {
    "id": "78778206"
   },
   "outputs": [],
   "source": [
    "from sklearn.linear_model import LinearRegression\n",
    "lr=LinearRegression()"
   ]
  },
  {
   "cell_type": "markdown",
   "id": "e67415c7",
   "metadata": {
    "id": "bc88beb9"
   },
   "source": [
    "# 14. Training the model"
   ]
  },
  {
   "cell_type": "code",
   "execution_count": 41,
   "id": "bc32c817",
   "metadata": {
    "colab": {
     "base_uri": "https://localhost:8080/"
    },
    "id": "3a626a6d",
    "outputId": "30f741d9-9123-44ee-f85d-b898375561da"
   },
   "outputs": [
    {
     "data": {
      "text/html": [
       "<style>#sk-container-id-1 {color: black;background-color: white;}#sk-container-id-1 pre{padding: 0;}#sk-container-id-1 div.sk-toggleable {background-color: white;}#sk-container-id-1 label.sk-toggleable__label {cursor: pointer;display: block;width: 100%;margin-bottom: 0;padding: 0.3em;box-sizing: border-box;text-align: center;}#sk-container-id-1 label.sk-toggleable__label-arrow:before {content: \"▸\";float: left;margin-right: 0.25em;color: #696969;}#sk-container-id-1 label.sk-toggleable__label-arrow:hover:before {color: black;}#sk-container-id-1 div.sk-estimator:hover label.sk-toggleable__label-arrow:before {color: black;}#sk-container-id-1 div.sk-toggleable__content {max-height: 0;max-width: 0;overflow: hidden;text-align: left;background-color: #f0f8ff;}#sk-container-id-1 div.sk-toggleable__content pre {margin: 0.2em;color: black;border-radius: 0.25em;background-color: #f0f8ff;}#sk-container-id-1 input.sk-toggleable__control:checked~div.sk-toggleable__content {max-height: 200px;max-width: 100%;overflow: auto;}#sk-container-id-1 input.sk-toggleable__control:checked~label.sk-toggleable__label-arrow:before {content: \"▾\";}#sk-container-id-1 div.sk-estimator input.sk-toggleable__control:checked~label.sk-toggleable__label {background-color: #d4ebff;}#sk-container-id-1 div.sk-label input.sk-toggleable__control:checked~label.sk-toggleable__label {background-color: #d4ebff;}#sk-container-id-1 input.sk-hidden--visually {border: 0;clip: rect(1px 1px 1px 1px);clip: rect(1px, 1px, 1px, 1px);height: 1px;margin: -1px;overflow: hidden;padding: 0;position: absolute;width: 1px;}#sk-container-id-1 div.sk-estimator {font-family: monospace;background-color: #f0f8ff;border: 1px dotted black;border-radius: 0.25em;box-sizing: border-box;margin-bottom: 0.5em;}#sk-container-id-1 div.sk-estimator:hover {background-color: #d4ebff;}#sk-container-id-1 div.sk-parallel-item::after {content: \"\";width: 100%;border-bottom: 1px solid gray;flex-grow: 1;}#sk-container-id-1 div.sk-label:hover label.sk-toggleable__label {background-color: #d4ebff;}#sk-container-id-1 div.sk-serial::before {content: \"\";position: absolute;border-left: 1px solid gray;box-sizing: border-box;top: 0;bottom: 0;left: 50%;z-index: 0;}#sk-container-id-1 div.sk-serial {display: flex;flex-direction: column;align-items: center;background-color: white;padding-right: 0.2em;padding-left: 0.2em;position: relative;}#sk-container-id-1 div.sk-item {position: relative;z-index: 1;}#sk-container-id-1 div.sk-parallel {display: flex;align-items: stretch;justify-content: center;background-color: white;position: relative;}#sk-container-id-1 div.sk-item::before, #sk-container-id-1 div.sk-parallel-item::before {content: \"\";position: absolute;border-left: 1px solid gray;box-sizing: border-box;top: 0;bottom: 0;left: 50%;z-index: -1;}#sk-container-id-1 div.sk-parallel-item {display: flex;flex-direction: column;z-index: 1;position: relative;background-color: white;}#sk-container-id-1 div.sk-parallel-item:first-child::after {align-self: flex-end;width: 50%;}#sk-container-id-1 div.sk-parallel-item:last-child::after {align-self: flex-start;width: 50%;}#sk-container-id-1 div.sk-parallel-item:only-child::after {width: 0;}#sk-container-id-1 div.sk-dashed-wrapped {border: 1px dashed gray;margin: 0 0.4em 0.5em 0.4em;box-sizing: border-box;padding-bottom: 0.4em;background-color: white;}#sk-container-id-1 div.sk-label label {font-family: monospace;font-weight: bold;display: inline-block;line-height: 1.2em;}#sk-container-id-1 div.sk-label-container {text-align: center;}#sk-container-id-1 div.sk-container {/* jupyter's `normalize.less` sets `[hidden] { display: none; }` but bootstrap.min.css set `[hidden] { display: none !important; }` so we also need the `!important` here to be able to override the default hidden behavior on the sphinx rendered scikit-learn.org. See: https://github.com/scikit-learn/scikit-learn/issues/21755 */display: inline-block !important;position: relative;}#sk-container-id-1 div.sk-text-repr-fallback {display: none;}</style><div id=\"sk-container-id-1\" class=\"sk-top-container\"><div class=\"sk-text-repr-fallback\"><pre>LinearRegression()</pre><b>In a Jupyter environment, please rerun this cell to show the HTML representation or trust the notebook. <br />On GitHub, the HTML representation is unable to render, please try loading this page with nbviewer.org.</b></div><div class=\"sk-container\" hidden><div class=\"sk-item\"><div class=\"sk-estimator sk-toggleable\"><input class=\"sk-toggleable__control sk-hidden--visually\" id=\"sk-estimator-id-1\" type=\"checkbox\" checked><label for=\"sk-estimator-id-1\" class=\"sk-toggleable__label sk-toggleable__label-arrow\">LinearRegression</label><div class=\"sk-toggleable__content\"><pre>LinearRegression()</pre></div></div></div></div></div>"
      ],
      "text/plain": [
       "LinearRegression()"
      ]
     },
     "execution_count": 41,
     "metadata": {},
     "output_type": "execute_result"
    }
   ],
   "source": [
    "lr.fit(x_train, y_train)"
   ]
  },
  {
   "cell_type": "markdown",
   "id": "5fcfa14d",
   "metadata": {
    "id": "5f40d891"
   },
   "source": [
    "# 15. Testing the model"
   ]
  },
  {
   "cell_type": "code",
   "execution_count": 42,
   "id": "d20aebc1",
   "metadata": {
    "colab": {
     "base_uri": "https://localhost:8080/"
    },
    "id": "d58ee16b",
    "outputId": "72fc69fe-b689-4097-c5c4-d0f5d7a1d244"
   },
   "outputs": [
    {
     "data": {
      "text/plain": [
       "array([2.95373597, 0.52382725, 1.31689276, 2.97666899, 2.44903274,\n",
       "       6.98268198, 5.32090674, 2.72179257, 3.73471445, 2.81114914,\n",
       "       5.86837665, 3.39389519, 3.23328422, 1.72335177, 3.16020825,\n",
       "       1.8942543 , 3.91334966, 3.72948591, 2.03335686, 3.38474918,\n",
       "       4.70874985, 2.52769122, 1.42135348, 2.74552419, 3.69054666,\n",
       "       5.67365643, 2.10571956, 2.08585103, 2.73332157, 4.71564238,\n",
       "       2.93841825, 3.3839824 , 1.03006492, 5.95590372, 3.51712574,\n",
       "       3.2008368 , 1.82080075, 1.26406457, 2.78883112, 4.68886013,\n",
       "       2.83428356, 3.65643327, 3.1851183 , 4.13462949, 1.6003833 ,\n",
       "       3.21821207, 3.86860484, 3.6168636 , 5.7448758 , 3.35749977,\n",
       "       3.83767934, 5.13248478, 2.13631734, 3.19856864, 5.95198996,\n",
       "       5.52853474, 3.53292009, 1.00819906, 7.86325342, 5.49029602])"
      ]
     },
     "execution_count": 42,
     "metadata": {},
     "output_type": "execute_result"
    }
   ],
   "source": [
    "pred_test=lr.predict(x_test)\n",
    "pred_test"
   ]
  },
  {
   "cell_type": "markdown",
   "id": "bb2be8b8",
   "metadata": {
    "id": "d7b69a26"
   },
   "source": [
    "# 16. Evaluation Metrics"
   ]
  },
  {
   "cell_type": "code",
   "execution_count": 43,
   "id": "bd7ab62e",
   "metadata": {
    "colab": {
     "base_uri": "https://localhost:8080/"
    },
    "id": "6abf17eb",
    "outputId": "3e31801e-8b02-4ee2-cb71-c7b87f96f4cb"
   },
   "outputs": [
    {
     "data": {
      "text/plain": [
       "3.334933879741585"
      ]
     },
     "execution_count": 43,
     "metadata": {},
     "output_type": "execute_result"
    }
   ],
   "source": [
    "from sklearn.metrics import mean_squared_error, r2_score\n",
    "mse = mean_squared_error(pred_test, y_test)\n",
    "mse"
   ]
  },
  {
   "cell_type": "code",
   "execution_count": 44,
   "id": "a5bbe2da",
   "metadata": {
    "colab": {
     "base_uri": "https://localhost:8080/"
    },
    "id": "e7cb5ef2",
    "outputId": "8cf3934b-6af9-4dfb-ef38-04efb1f045fd"
   },
   "outputs": [
    {
     "data": {
      "text/plain": [
       "1.8261801334319638"
      ]
     },
     "execution_count": 44,
     "metadata": {},
     "output_type": "execute_result"
    }
   ],
   "source": [
    "rmse = np.sqrt(mse)\n",
    "rmse"
   ]
  },
  {
   "cell_type": "code",
   "execution_count": 45,
   "id": "6234b51b",
   "metadata": {
    "colab": {
     "base_uri": "https://localhost:8080/"
    },
    "id": "a84d729a",
    "outputId": "19399830-f90a-434d-c1c0-bb0f9ba7baa9"
   },
   "outputs": [
    {
     "data": {
      "text/plain": [
       "-0.4309438928542464"
      ]
     },
     "execution_count": 45,
     "metadata": {},
     "output_type": "execute_result"
    }
   ],
   "source": [
    "r2= r2_score(pred_test, y_test)\n",
    "r2"
   ]
  }
 ],
 "metadata": {
  "colab": {
   "provenance": []
  },
  "kernelspec": {
   "display_name": "Python 3",
   "language": "python",
   "name": "python3"
  },
  "language_info": {
   "codemirror_mode": {
    "name": "ipython",
    "version": 3
   },
   "file_extension": ".py",
   "mimetype": "text/x-python",
   "name": "python",
   "nbconvert_exporter": "python",
   "pygments_lexer": "ipython3",
   "version": "3.8.8"
  }
 },
 "nbformat": 4,
 "nbformat_minor": 5
}
