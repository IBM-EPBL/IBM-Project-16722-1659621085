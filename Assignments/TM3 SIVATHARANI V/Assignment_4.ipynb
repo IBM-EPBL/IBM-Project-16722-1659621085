{
  "cells": [
    {
      "cell_type": "markdown",
      "id": "90f0cc57",
      "metadata": {
        "id": "90f0cc57"
      },
      "source": [
        "# Team ID:PNT2022TMID30209"
      ]
    },
    {
      "cell_type": "markdown",
      "id": "56a5e102",
      "metadata": {
        "id": "56a5e102"
      },
      "source": [
        "#### Title: Assignment 4\n",
        "## Author: Sivatharani V\n"
      ]
    },
    {
      "cell_type": "code",
      "execution_count": 1,
      "id": "3fa60398",
      "metadata": {
        "id": "3fa60398"
      },
      "outputs": [],
      "source": [
        "import numpy as np\n",
        "import pandas as pd\n",
        "import matplotlib.pyplot as plt\n",
        "import seaborn as sns\n",
        "import sklearn"
      ]
    },
    {
      "cell_type": "markdown",
      "id": "88bc0758",
      "metadata": {
        "id": "88bc0758"
      },
      "source": [
        "# 2. Loading the dataset"
      ]
    },
    {
      "cell_type": "code",
      "execution_count": 5,
      "id": "de20087f",
      "metadata": {
        "colab": {
          "base_uri": "https://localhost:8080/",
          "height": 73
        },
        "id": "de20087f",
        "outputId": "722602ea-c836-4703-8b47-a2f6671cea7c"
      },
      "outputs": [
        {
          "output_type": "display_data",
          "data": {
            "text/plain": [
              "<IPython.core.display.HTML object>"
            ],
            "text/html": [
              "\n",
              "     <input type=\"file\" id=\"files-ba2f12ee-ca80-4064-a8dc-954863f9e667\" name=\"files[]\" multiple disabled\n",
              "        style=\"border:none\" />\n",
              "     <output id=\"result-ba2f12ee-ca80-4064-a8dc-954863f9e667\">\n",
              "      Upload widget is only available when the cell has been executed in the\n",
              "      current browser session. Please rerun this cell to enable.\n",
              "      </output>\n",
              "      <script>// Copyright 2017 Google LLC\n",
              "//\n",
              "// Licensed under the Apache License, Version 2.0 (the \"License\");\n",
              "// you may not use this file except in compliance with the License.\n",
              "// You may obtain a copy of the License at\n",
              "//\n",
              "//      http://www.apache.org/licenses/LICENSE-2.0\n",
              "//\n",
              "// Unless required by applicable law or agreed to in writing, software\n",
              "// distributed under the License is distributed on an \"AS IS\" BASIS,\n",
              "// WITHOUT WARRANTIES OR CONDITIONS OF ANY KIND, either express or implied.\n",
              "// See the License for the specific language governing permissions and\n",
              "// limitations under the License.\n",
              "\n",
              "/**\n",
              " * @fileoverview Helpers for google.colab Python module.\n",
              " */\n",
              "(function(scope) {\n",
              "function span(text, styleAttributes = {}) {\n",
              "  const element = document.createElement('span');\n",
              "  element.textContent = text;\n",
              "  for (const key of Object.keys(styleAttributes)) {\n",
              "    element.style[key] = styleAttributes[key];\n",
              "  }\n",
              "  return element;\n",
              "}\n",
              "\n",
              "// Max number of bytes which will be uploaded at a time.\n",
              "const MAX_PAYLOAD_SIZE = 100 * 1024;\n",
              "\n",
              "function _uploadFiles(inputId, outputId) {\n",
              "  const steps = uploadFilesStep(inputId, outputId);\n",
              "  const outputElement = document.getElementById(outputId);\n",
              "  // Cache steps on the outputElement to make it available for the next call\n",
              "  // to uploadFilesContinue from Python.\n",
              "  outputElement.steps = steps;\n",
              "\n",
              "  return _uploadFilesContinue(outputId);\n",
              "}\n",
              "\n",
              "// This is roughly an async generator (not supported in the browser yet),\n",
              "// where there are multiple asynchronous steps and the Python side is going\n",
              "// to poll for completion of each step.\n",
              "// This uses a Promise to block the python side on completion of each step,\n",
              "// then passes the result of the previous step as the input to the next step.\n",
              "function _uploadFilesContinue(outputId) {\n",
              "  const outputElement = document.getElementById(outputId);\n",
              "  const steps = outputElement.steps;\n",
              "\n",
              "  const next = steps.next(outputElement.lastPromiseValue);\n",
              "  return Promise.resolve(next.value.promise).then((value) => {\n",
              "    // Cache the last promise value to make it available to the next\n",
              "    // step of the generator.\n",
              "    outputElement.lastPromiseValue = value;\n",
              "    return next.value.response;\n",
              "  });\n",
              "}\n",
              "\n",
              "/**\n",
              " * Generator function which is called between each async step of the upload\n",
              " * process.\n",
              " * @param {string} inputId Element ID of the input file picker element.\n",
              " * @param {string} outputId Element ID of the output display.\n",
              " * @return {!Iterable<!Object>} Iterable of next steps.\n",
              " */\n",
              "function* uploadFilesStep(inputId, outputId) {\n",
              "  const inputElement = document.getElementById(inputId);\n",
              "  inputElement.disabled = false;\n",
              "\n",
              "  const outputElement = document.getElementById(outputId);\n",
              "  outputElement.innerHTML = '';\n",
              "\n",
              "  const pickedPromise = new Promise((resolve) => {\n",
              "    inputElement.addEventListener('change', (e) => {\n",
              "      resolve(e.target.files);\n",
              "    });\n",
              "  });\n",
              "\n",
              "  const cancel = document.createElement('button');\n",
              "  inputElement.parentElement.appendChild(cancel);\n",
              "  cancel.textContent = 'Cancel upload';\n",
              "  const cancelPromise = new Promise((resolve) => {\n",
              "    cancel.onclick = () => {\n",
              "      resolve(null);\n",
              "    };\n",
              "  });\n",
              "\n",
              "  // Wait for the user to pick the files.\n",
              "  const files = yield {\n",
              "    promise: Promise.race([pickedPromise, cancelPromise]),\n",
              "    response: {\n",
              "      action: 'starting',\n",
              "    }\n",
              "  };\n",
              "\n",
              "  cancel.remove();\n",
              "\n",
              "  // Disable the input element since further picks are not allowed.\n",
              "  inputElement.disabled = true;\n",
              "\n",
              "  if (!files) {\n",
              "    return {\n",
              "      response: {\n",
              "        action: 'complete',\n",
              "      }\n",
              "    };\n",
              "  }\n",
              "\n",
              "  for (const file of files) {\n",
              "    const li = document.createElement('li');\n",
              "    li.append(span(file.name, {fontWeight: 'bold'}));\n",
              "    li.append(span(\n",
              "        `(${file.type || 'n/a'}) - ${file.size} bytes, ` +\n",
              "        `last modified: ${\n",
              "            file.lastModifiedDate ? file.lastModifiedDate.toLocaleDateString() :\n",
              "                                    'n/a'} - `));\n",
              "    const percent = span('0% done');\n",
              "    li.appendChild(percent);\n",
              "\n",
              "    outputElement.appendChild(li);\n",
              "\n",
              "    const fileDataPromise = new Promise((resolve) => {\n",
              "      const reader = new FileReader();\n",
              "      reader.onload = (e) => {\n",
              "        resolve(e.target.result);\n",
              "      };\n",
              "      reader.readAsArrayBuffer(file);\n",
              "    });\n",
              "    // Wait for the data to be ready.\n",
              "    let fileData = yield {\n",
              "      promise: fileDataPromise,\n",
              "      response: {\n",
              "        action: 'continue',\n",
              "      }\n",
              "    };\n",
              "\n",
              "    // Use a chunked sending to avoid message size limits. See b/62115660.\n",
              "    let position = 0;\n",
              "    do {\n",
              "      const length = Math.min(fileData.byteLength - position, MAX_PAYLOAD_SIZE);\n",
              "      const chunk = new Uint8Array(fileData, position, length);\n",
              "      position += length;\n",
              "\n",
              "      const base64 = btoa(String.fromCharCode.apply(null, chunk));\n",
              "      yield {\n",
              "        response: {\n",
              "          action: 'append',\n",
              "          file: file.name,\n",
              "          data: base64,\n",
              "        },\n",
              "      };\n",
              "\n",
              "      let percentDone = fileData.byteLength === 0 ?\n",
              "          100 :\n",
              "          Math.round((position / fileData.byteLength) * 100);\n",
              "      percent.textContent = `${percentDone}% done`;\n",
              "\n",
              "    } while (position < fileData.byteLength);\n",
              "  }\n",
              "\n",
              "  // All done.\n",
              "  yield {\n",
              "    response: {\n",
              "      action: 'complete',\n",
              "    }\n",
              "  };\n",
              "}\n",
              "\n",
              "scope.google = scope.google || {};\n",
              "scope.google.colab = scope.google.colab || {};\n",
              "scope.google.colab._files = {\n",
              "  _uploadFiles,\n",
              "  _uploadFilesContinue,\n",
              "};\n",
              "})(self);\n",
              "</script> "
            ]
          },
          "metadata": {}
        },
        {
          "output_type": "stream",
          "name": "stdout",
          "text": [
            "Saving Mall_Customers.csv to Mall_Customers (1).csv\n"
          ]
        }
      ],
      "source": [
        "from google.colab import files\n",
        "uploaded = files.upload()\n",
        "data = pd.read_csv(\"Mall_Customers.csv\")"
      ]
    },
    {
      "cell_type": "code",
      "execution_count": 6,
      "id": "dbb53da2",
      "metadata": {
        "colab": {
          "base_uri": "https://localhost:8080/",
          "height": 206
        },
        "id": "dbb53da2",
        "outputId": "a74ea035-238f-47a6-974f-94ac473c0217"
      },
      "outputs": [
        {
          "output_type": "execute_result",
          "data": {
            "text/plain": [
              "   CustomerID  Gender  Age  Annual Income (k$)  Spending Score (1-100)\n",
              "0           1    Male   19                  15                      39\n",
              "1           2    Male   21                  15                      81\n",
              "2           3  Female   20                  16                       6\n",
              "3           4  Female   23                  16                      77\n",
              "4           5  Female   31                  17                      40"
            ],
            "text/html": [
              "\n",
              "  <div id=\"df-31a48bb3-fc29-4175-8cd2-b899546fbfce\">\n",
              "    <div class=\"colab-df-container\">\n",
              "      <div>\n",
              "<style scoped>\n",
              "    .dataframe tbody tr th:only-of-type {\n",
              "        vertical-align: middle;\n",
              "    }\n",
              "\n",
              "    .dataframe tbody tr th {\n",
              "        vertical-align: top;\n",
              "    }\n",
              "\n",
              "    .dataframe thead th {\n",
              "        text-align: right;\n",
              "    }\n",
              "</style>\n",
              "<table border=\"1\" class=\"dataframe\">\n",
              "  <thead>\n",
              "    <tr style=\"text-align: right;\">\n",
              "      <th></th>\n",
              "      <th>CustomerID</th>\n",
              "      <th>Gender</th>\n",
              "      <th>Age</th>\n",
              "      <th>Annual Income (k$)</th>\n",
              "      <th>Spending Score (1-100)</th>\n",
              "    </tr>\n",
              "  </thead>\n",
              "  <tbody>\n",
              "    <tr>\n",
              "      <th>0</th>\n",
              "      <td>1</td>\n",
              "      <td>Male</td>\n",
              "      <td>19</td>\n",
              "      <td>15</td>\n",
              "      <td>39</td>\n",
              "    </tr>\n",
              "    <tr>\n",
              "      <th>1</th>\n",
              "      <td>2</td>\n",
              "      <td>Male</td>\n",
              "      <td>21</td>\n",
              "      <td>15</td>\n",
              "      <td>81</td>\n",
              "    </tr>\n",
              "    <tr>\n",
              "      <th>2</th>\n",
              "      <td>3</td>\n",
              "      <td>Female</td>\n",
              "      <td>20</td>\n",
              "      <td>16</td>\n",
              "      <td>6</td>\n",
              "    </tr>\n",
              "    <tr>\n",
              "      <th>3</th>\n",
              "      <td>4</td>\n",
              "      <td>Female</td>\n",
              "      <td>23</td>\n",
              "      <td>16</td>\n",
              "      <td>77</td>\n",
              "    </tr>\n",
              "    <tr>\n",
              "      <th>4</th>\n",
              "      <td>5</td>\n",
              "      <td>Female</td>\n",
              "      <td>31</td>\n",
              "      <td>17</td>\n",
              "      <td>40</td>\n",
              "    </tr>\n",
              "  </tbody>\n",
              "</table>\n",
              "</div>\n",
              "      <button class=\"colab-df-convert\" onclick=\"convertToInteractive('df-31a48bb3-fc29-4175-8cd2-b899546fbfce')\"\n",
              "              title=\"Convert this dataframe to an interactive table.\"\n",
              "              style=\"display:none;\">\n",
              "        \n",
              "  <svg xmlns=\"http://www.w3.org/2000/svg\" height=\"24px\"viewBox=\"0 0 24 24\"\n",
              "       width=\"24px\">\n",
              "    <path d=\"M0 0h24v24H0V0z\" fill=\"none\"/>\n",
              "    <path d=\"M18.56 5.44l.94 2.06.94-2.06 2.06-.94-2.06-.94-.94-2.06-.94 2.06-2.06.94zm-11 1L8.5 8.5l.94-2.06 2.06-.94-2.06-.94L8.5 2.5l-.94 2.06-2.06.94zm10 10l.94 2.06.94-2.06 2.06-.94-2.06-.94-.94-2.06-.94 2.06-2.06.94z\"/><path d=\"M17.41 7.96l-1.37-1.37c-.4-.4-.92-.59-1.43-.59-.52 0-1.04.2-1.43.59L10.3 9.45l-7.72 7.72c-.78.78-.78 2.05 0 2.83L4 21.41c.39.39.9.59 1.41.59.51 0 1.02-.2 1.41-.59l7.78-7.78 2.81-2.81c.8-.78.8-2.07 0-2.86zM5.41 20L4 18.59l7.72-7.72 1.47 1.35L5.41 20z\"/>\n",
              "  </svg>\n",
              "      </button>\n",
              "      \n",
              "  <style>\n",
              "    .colab-df-container {\n",
              "      display:flex;\n",
              "      flex-wrap:wrap;\n",
              "      gap: 12px;\n",
              "    }\n",
              "\n",
              "    .colab-df-convert {\n",
              "      background-color: #E8F0FE;\n",
              "      border: none;\n",
              "      border-radius: 50%;\n",
              "      cursor: pointer;\n",
              "      display: none;\n",
              "      fill: #1967D2;\n",
              "      height: 32px;\n",
              "      padding: 0 0 0 0;\n",
              "      width: 32px;\n",
              "    }\n",
              "\n",
              "    .colab-df-convert:hover {\n",
              "      background-color: #E2EBFA;\n",
              "      box-shadow: 0px 1px 2px rgba(60, 64, 67, 0.3), 0px 1px 3px 1px rgba(60, 64, 67, 0.15);\n",
              "      fill: #174EA6;\n",
              "    }\n",
              "\n",
              "    [theme=dark] .colab-df-convert {\n",
              "      background-color: #3B4455;\n",
              "      fill: #D2E3FC;\n",
              "    }\n",
              "\n",
              "    [theme=dark] .colab-df-convert:hover {\n",
              "      background-color: #434B5C;\n",
              "      box-shadow: 0px 1px 3px 1px rgba(0, 0, 0, 0.15);\n",
              "      filter: drop-shadow(0px 1px 2px rgba(0, 0, 0, 0.3));\n",
              "      fill: #FFFFFF;\n",
              "    }\n",
              "  </style>\n",
              "\n",
              "      <script>\n",
              "        const buttonEl =\n",
              "          document.querySelector('#df-31a48bb3-fc29-4175-8cd2-b899546fbfce button.colab-df-convert');\n",
              "        buttonEl.style.display =\n",
              "          google.colab.kernel.accessAllowed ? 'block' : 'none';\n",
              "\n",
              "        async function convertToInteractive(key) {\n",
              "          const element = document.querySelector('#df-31a48bb3-fc29-4175-8cd2-b899546fbfce');\n",
              "          const dataTable =\n",
              "            await google.colab.kernel.invokeFunction('convertToInteractive',\n",
              "                                                     [key], {});\n",
              "          if (!dataTable) return;\n",
              "\n",
              "          const docLinkHtml = 'Like what you see? Visit the ' +\n",
              "            '<a target=\"_blank\" href=https://colab.research.google.com/notebooks/data_table.ipynb>data table notebook</a>'\n",
              "            + ' to learn more about interactive tables.';\n",
              "          element.innerHTML = '';\n",
              "          dataTable['output_type'] = 'display_data';\n",
              "          await google.colab.output.renderOutput(dataTable, element);\n",
              "          const docLink = document.createElement('div');\n",
              "          docLink.innerHTML = docLinkHtml;\n",
              "          element.appendChild(docLink);\n",
              "        }\n",
              "      </script>\n",
              "    </div>\n",
              "  </div>\n",
              "  "
            ]
          },
          "metadata": {},
          "execution_count": 6
        }
      ],
      "source": [
        "data.head()"
      ]
    },
    {
      "cell_type": "markdown",
      "id": "1551ac80",
      "metadata": {
        "id": "1551ac80"
      },
      "source": [
        "# Data Visualizations"
      ]
    },
    {
      "cell_type": "markdown",
      "id": "1f676325",
      "metadata": {
        "id": "1f676325"
      },
      "source": [
        "# 3. i) Univariate Analysis"
      ]
    },
    {
      "cell_type": "code",
      "execution_count": 8,
      "id": "65b3722c",
      "metadata": {
        "colab": {
          "base_uri": "https://localhost:8080/",
          "height": 296
        },
        "id": "65b3722c",
        "outputId": "c4c9398e-daed-4a08-cd4b-cc13f99d6982"
      },
      "outputs": [
        {
          "output_type": "execute_result",
          "data": {
            "text/plain": [
              "<matplotlib.axes._subplots.AxesSubplot at 0x7f55645d0fd0>"
            ]
          },
          "metadata": {},
          "execution_count": 8
        },
        {
          "output_type": "display_data",
          "data": {
            "text/plain": [
              "<Figure size 432x288 with 1 Axes>"
            ],
            "image/png": "[encoded data removed]"
          },
          "metadata": {
            "needs_background": "light"
          }
        }
      ],
      "source": [
        "sns.distplot(data['Age'])"
      ]
    },
    {
      "cell_type": "code",
      "execution_count": 9,
      "id": "0a96b48b",
      "metadata": {
        "colab": {
          "base_uri": "https://localhost:8080/",
          "height": 354
        },
        "id": "0a96b48b",
        "outputId": "19c63213-c18c-4220-e890-5632d650f498"
      },
      "outputs": [
        {
          "output_type": "stream",
          "name": "stderr",
          "text": [
            "/usr/local/lib/python3.7/dist-packages/seaborn/_decorators.py:43: FutureWarning: Pass the following variables as keyword args: x, y. From version 0.12, the only valid positional argument will be `data`, and passing other arguments without an explicit keyword will result in an error or misinterpretation.\n",
            "  FutureWarning\n"
          ]
        },
        {
          "output_type": "execute_result",
          "data": {
            "text/plain": [
              "<matplotlib.axes._subplots.AxesSubplot at 0x7f55645be650>"
            ]
          },
          "metadata": {},
          "execution_count": 9
        },
        {
          "output_type": "display_data",
          "data": {
            "text/plain": [
              "<Figure size 432x288 with 1 Axes>"
            ],
            "image/png": "[encoded data removed]"
          },
          "metadata": {
            "needs_background": "light"
          }
        }
      ],
      "source": [
        "sns.lineplot(data['Gender'], data['Annual Income (k$)'])"
      ]
    },
    {
      "cell_type": "code",
      "execution_count": 10,
      "id": "3ce7d709",
      "metadata": {
        "colab": {
          "base_uri": "https://localhost:8080/",
          "height": 1000
        },
        "id": "3ce7d709",
        "outputId": "5047a41a-64ea-4e1f-bdda-de0399986185"
      },
      "outputs": [
        {
          "output_type": "stream",
          "name": "stderr",
          "text": [
            "/usr/local/lib/python3.7/dist-packages/seaborn/_decorators.py:43: FutureWarning: Pass the following variables as keyword args: x, y. From version 0.12, the only valid positional argument will be `data`, and passing other arguments without an explicit keyword will result in an error or misinterpretation.\n",
            "  FutureWarning\n"
          ]
        },
        {
          "output_type": "execute_result",
          "data": {
            "text/plain": [
              "<matplotlib.axes._subplots.AxesSubplot at 0x7f5563ffbc90>"
            ]
          },
          "metadata": {},
          "execution_count": 10
        },
        {
          "output_type": "display_data",
          "data": {
            "text/plain": [
              "<Figure size 2880x2160 with 1 Axes>"
            ],
            "image/png": "[encoded data removed]"
          },
          "metadata": {
            "needs_background": "light"
          }
        }
      ],
      "source": [
        "plt.figure(figsize=(40,30))\n",
        "sns.barplot(data['Age'], data['Annual Income (k$)'])"
      ]
    },
    {
      "cell_type": "markdown",
      "id": "5bde99f0",
      "metadata": {
        "id": "5bde99f0"
      },
      "source": [
        "# 3. iii) Multivariate Analysis"
      ]
    },
    {
      "cell_type": "code",
      "execution_count": 11,
      "id": "29af6e53",
      "metadata": {
        "colab": {
          "base_uri": "https://localhost:8080/",
          "height": 351
        },
        "id": "29af6e53",
        "outputId": "c855968f-f435-4bdc-9f9f-df1a8e0cd4a7"
      },
      "outputs": [
        {
          "output_type": "stream",
          "name": "stderr",
          "text": [
            "/usr/local/lib/python3.7/dist-packages/seaborn/_decorators.py:43: FutureWarning: Pass the following variables as keyword args: x, y. From version 0.12, the only valid positional argument will be `data`, and passing other arguments without an explicit keyword will result in an error or misinterpretation.\n",
            "  FutureWarning\n"
          ]
        },
        {
          "output_type": "execute_result",
          "data": {
            "text/plain": [
              "<matplotlib.axes._subplots.AxesSubplot at 0x7f5563d178d0>"
            ]
          },
          "metadata": {},
          "execution_count": 11
        },
        {
          "output_type": "display_data",
          "data": {
            "text/plain": [
              "<Figure size 432x288 with 1 Axes>"
            ],
            "image/png": "[encoded data removed]"
          },
          "metadata": {
            "needs_background": "light"
          }
        }
      ],
      "source": [
        "sns.scatterplot(data['Age'], data['Gender'], hue = data['Spending Score (1-100)'])"
      ]
    },
    {
      "cell_type": "code",
      "execution_count": 12,
      "id": "6b72f245",
      "metadata": {
        "colab": {
          "base_uri": "https://localhost:8080/",
          "height": 394
        },
        "id": "6b72f245",
        "outputId": "2a5afb3a-8963-4f38-d589-616d1ed3728f"
      },
      "outputs": [
        {
          "output_type": "execute_result",
          "data": {
            "text/plain": [
              "<matplotlib.axes._subplots.AxesSubplot at 0x7f5563cfb4d0>"
            ]
          },
          "metadata": {},
          "execution_count": 12
        },
        {
          "output_type": "display_data",
          "data": {
            "text/plain": [
              "<Figure size 432x288 with 2 Axes>"
            ],
            "image/png": "[encoded data removed]"
          },
          "metadata": {
            "needs_background": "light"
          }
        }
      ],
      "source": [
        "sns.heatmap(data.corr(), annot = True)"
      ]
    },
    {
      "cell_type": "code",
      "execution_count": 13,
      "id": "a3f60191",
      "metadata": {
        "colab": {
          "base_uri": "https://localhost:8080/",
          "height": 743
        },
        "id": "a3f60191",
        "outputId": "38693ec3-62df-4b9a-e483-9a973071c2fb"
      },
      "outputs": [
        {
          "output_type": "execute_result",
          "data": {
            "text/plain": [
              "<seaborn.axisgrid.PairGrid at 0x7f55613dcd10>"
            ]
          },
          "metadata": {},
          "execution_count": 13
        },
        {
          "output_type": "display_data",
          "data": {
            "text/plain": [
              "<Figure size 720x720 with 20 Axes>"
            ],
            "image/png": "[encoded data removed]"
          },
          "metadata": {
            "needs_background": "light"
          }
        }
      ],
      "source": [
        "sns.pairplot(data)"
      ]
    },
    {
      "cell_type": "markdown",
      "id": "673e120a",
      "metadata": {
        "id": "673e120a"
      },
      "source": [
        "# 4. Descriptive Statistics"
      ]
    },
    {
      "cell_type": "markdown",
      "id": "8793f918",
      "metadata": {
        "id": "8793f918"
      },
      "source": [
        "## Central Tendency"
      ]
    },
    {
      "cell_type": "code",
      "execution_count": 39,
      "id": "cfeff1cc",
      "metadata": {
        "colab": {
          "base_uri": "https://localhost:8080/"
        },
        "id": "cfeff1cc",
        "outputId": "59346343-0819-4bb6-a630-88daa53ae66c"
      },
      "outputs": [
        {
          "output_type": "stream",
          "name": "stderr",
          "text": [
            "/usr/local/lib/python3.7/dist-packages/ipykernel_launcher.py:1: FutureWarning: Dropping of nuisance columns in DataFrame reductions (with 'numeric_only=None') is deprecated; in a future version this will raise TypeError.  Select only valid columns before calling the reduction.\n",
            "  \"\"\"Entry point for launching an IPython kernel.\n"
          ]
        },
        {
          "output_type": "execute_result",
          "data": {
            "text/plain": [
              "CustomerID                100.50\n",
              "Age                        38.85\n",
              "Annual Income (k$)         60.56\n",
              "Spending Score (1-100)     50.20\n",
              "dtype: float64"
            ]
          },
          "metadata": {},
          "execution_count": 39
        }
      ],
      "source": [
        "data.mean()"
      ]
    },
    {
      "cell_type": "code",
      "execution_count": 40,
      "id": "e0e0cdab",
      "metadata": {
        "colab": {
          "base_uri": "https://localhost:8080/"
        },
        "id": "e0e0cdab",
        "outputId": "3cc2dca6-47ad-400c-cad5-bbf5fbc8d2c5"
      },
      "outputs": [
        {
          "output_type": "stream",
          "name": "stderr",
          "text": [
            "/usr/local/lib/python3.7/dist-packages/ipykernel_launcher.py:1: FutureWarning: Dropping of nuisance columns in DataFrame reductions (with 'numeric_only=None') is deprecated; in a future version this will raise TypeError.  Select only valid columns before calling the reduction.\n",
            "  \"\"\"Entry point for launching an IPython kernel.\n"
          ]
        },
        {
          "output_type": "execute_result",
          "data": {
            "text/plain": [
              "CustomerID                100.5\n",
              "Age                        36.0\n",
              "Annual Income (k$)         61.5\n",
              "Spending Score (1-100)     50.0\n",
              "dtype: float64"
            ]
          },
          "metadata": {},
          "execution_count": 40
        }
      ],
      "source": [
        "data.median()"
      ]
    },
    {
      "cell_type": "code",
      "execution_count": 41,
      "id": "b1a7d53f",
      "metadata": {
        "colab": {
          "base_uri": "https://localhost:8080/",
          "height": 424
        },
        "id": "b1a7d53f",
        "outputId": "54ee6809-b1f9-490c-af55-9a330a2cd7d7"
      },
      "outputs": [
        {
          "output_type": "execute_result",
          "data": {
            "text/plain": [
              "     CustomerID  Gender   Age  Annual Income (k$)  Spending Score (1-100)\n",
              "0             1  Female  32.0                54.0                    42.0\n",
              "1             2     NaN   NaN                78.0                     NaN\n",
              "2             3     NaN   NaN                 NaN                     NaN\n",
              "3             4     NaN   NaN                 NaN                     NaN\n",
              "4             5     NaN   NaN                 NaN                     NaN\n",
              "..          ...     ...   ...                 ...                     ...\n",
              "195         196     NaN   NaN                 NaN                     NaN\n",
              "196         197     NaN   NaN                 NaN                     NaN\n",
              "197         198     NaN   NaN                 NaN                     NaN\n",
              "198         199     NaN   NaN                 NaN                     NaN\n",
              "199         200     NaN   NaN                 NaN                     NaN\n",
              "\n",
              "[200 rows x 5 columns]"
            ],
            "text/html": [
              "\n",
              "  <div id=\"df-7ae724fe-97cc-4ec1-8d77-5f38a777fa04\">\n",
              "    <div class=\"colab-df-container\">\n",
              "      <div>\n",
              "<style scoped>\n",
              "    .dataframe tbody tr th:only-of-type {\n",
              "        vertical-align: middle;\n",
              "    }\n",
              "\n",
              "    .dataframe tbody tr th {\n",
              "        vertical-align: top;\n",
              "    }\n",
              "\n",
              "    .dataframe thead th {\n",
              "        text-align: right;\n",
              "    }\n",
              "</style>\n",
              "<table border=\"1\" class=\"dataframe\">\n",
              "  <thead>\n",
              "    <tr style=\"text-align: right;\">\n",
              "      <th></th>\n",
              "      <th>CustomerID</th>\n",
              "      <th>Gender</th>\n",
              "      <th>Age</th>\n",
              "      <th>Annual Income (k$)</th>\n",
              "      <th>Spending Score (1-100)</th>\n",
              "    </tr>\n",
              "  </thead>\n",
              "  <tbody>\n",
              "    <tr>\n",
              "      <th>0</th>\n",
              "      <td>1</td>\n",
              "      <td>Female</td>\n",
              "      <td>32.0</td>\n",
              "      <td>54.0</td>\n",
              "      <td>42.0</td>\n",
              "    </tr>\n",
              "    <tr>\n",
              "      <th>1</th>\n",
              "      <td>2</td>\n",
              "      <td>NaN</td>\n",
              "      <td>NaN</td>\n",
              "      <td>78.0</td>\n",
              "      <td>NaN</td>\n",
              "    </tr>\n",
              "    <tr>\n",
              "      <th>2</th>\n",
              "      <td>3</td>\n",
              "      <td>NaN</td>\n",
              "      <td>NaN</td>\n",
              "      <td>NaN</td>\n",
              "      <td>NaN</td>\n",
              "    </tr>\n",
              "    <tr>\n",
              "      <th>3</th>\n",
              "      <td>4</td>\n",
              "      <td>NaN</td>\n",
              "      <td>NaN</td>\n",
              "      <td>NaN</td>\n",
              "      <td>NaN</td>\n",
              "    </tr>\n",
              "    <tr>\n",
              "      <th>4</th>\n",
              "      <td>5</td>\n",
              "      <td>NaN</td>\n",
              "      <td>NaN</td>\n",
              "      <td>NaN</td>\n",
              "      <td>NaN</td>\n",
              "    </tr>\n",
              "    <tr>\n",
              "      <th>...</th>\n",
              "      <td>...</td>\n",
              "      <td>...</td>\n",
              "      <td>...</td>\n",
              "      <td>...</td>\n",
              "      <td>...</td>\n",
              "    </tr>\n",
              "    <tr>\n",
              "      <th>195</th>\n",
              "      <td>196</td>\n",
              "      <td>NaN</td>\n",
              "      <td>NaN</td>\n",
              "      <td>NaN</td>\n",
              "      <td>NaN</td>\n",
              "    </tr>\n",
              "    <tr>\n",
              "      <th>196</th>\n",
              "      <td>197</td>\n",
              "      <td>NaN</td>\n",
              "      <td>NaN</td>\n",
              "      <td>NaN</td>\n",
              "      <td>NaN</td>\n",
              "    </tr>\n",
              "    <tr>\n",
              "      <th>197</th>\n",
              "      <td>198</td>\n",
              "      <td>NaN</td>\n",
              "      <td>NaN</td>\n",
              "      <td>NaN</td>\n",
              "      <td>NaN</td>\n",
              "    </tr>\n",
              "    <tr>\n",
              "      <th>198</th>\n",
              "      <td>199</td>\n",
              "      <td>NaN</td>\n",
              "      <td>NaN</td>\n",
              "      <td>NaN</td>\n",
              "      <td>NaN</td>\n",
              "    </tr>\n",
              "    <tr>\n",
              "      <th>199</th>\n",
              "      <td>200</td>\n",
              "      <td>NaN</td>\n",
              "      <td>NaN</td>\n",
              "      <td>NaN</td>\n",
              "      <td>NaN</td>\n",
              "    </tr>\n",
              "  </tbody>\n",
              "</table>\n",
              "<p>200 rows × 5 columns</p>\n",
              "</div>\n",
              "      <button class=\"colab-df-convert\" onclick=\"convertToInteractive('df-7ae724fe-97cc-4ec1-8d77-5f38a777fa04')\"\n",
              "              title=\"Convert this dataframe to an interactive table.\"\n",
              "              style=\"display:none;\">\n",
              "        \n",
              "  <svg xmlns=\"http://www.w3.org/2000/svg\" height=\"24px\"viewBox=\"0 0 24 24\"\n",
              "       width=\"24px\">\n",
              "    <path d=\"M0 0h24v24H0V0z\" fill=\"none\"/>\n",
              "    <path d=\"M18.56 5.44l.94 2.06.94-2.06 2.06-.94-2.06-.94-.94-2.06-.94 2.06-2.06.94zm-11 1L8.5 8.5l.94-2.06 2.06-.94-2.06-.94L8.5 2.5l-.94 2.06-2.06.94zm10 10l.94 2.06.94-2.06 2.06-.94-2.06-.94-.94-2.06-.94 2.06-2.06.94z\"/><path d=\"M17.41 7.96l-1.37-1.37c-.4-.4-.92-.59-1.43-.59-.52 0-1.04.2-1.43.59L10.3 9.45l-7.72 7.72c-.78.78-.78 2.05 0 2.83L4 21.41c.39.39.9.59 1.41.59.51 0 1.02-.2 1.41-.59l7.78-7.78 2.81-2.81c.8-.78.8-2.07 0-2.86zM5.41 20L4 18.59l7.72-7.72 1.47 1.35L5.41 20z\"/>\n",
              "  </svg>\n",
              "      </button>\n",
              "      \n",
              "  <style>\n",
              "    .colab-df-container {\n",
              "      display:flex;\n",
              "      flex-wrap:wrap;\n",
              "      gap: 12px;\n",
              "    }\n",
              "\n",
              "    .colab-df-convert {\n",
              "      background-color: #E8F0FE;\n",
              "      border: none;\n",
              "      border-radius: 50%;\n",
              "      cursor: pointer;\n",
              "      display: none;\n",
              "      fill: #1967D2;\n",
              "      height: 32px;\n",
              "      padding: 0 0 0 0;\n",
              "      width: 32px;\n",
              "    }\n",
              "\n",
              "    .colab-df-convert:hover {\n",
              "      background-color: #E2EBFA;\n",
              "      box-shadow: 0px 1px 2px rgba(60, 64, 67, 0.3), 0px 1px 3px 1px rgba(60, 64, 67, 0.15);\n",
              "      fill: #174EA6;\n",
              "    }\n",
              "\n",
              "    [theme=dark] .colab-df-convert {\n",
              "      background-color: #3B4455;\n",
              "      fill: #D2E3FC;\n",
              "    }\n",
              "\n",
              "    [theme=dark] .colab-df-convert:hover {\n",
              "      background-color: #434B5C;\n",
              "      box-shadow: 0px 1px 3px 1px rgba(0, 0, 0, 0.15);\n",
              "      filter: drop-shadow(0px 1px 2px rgba(0, 0, 0, 0.3));\n",
              "      fill: #FFFFFF;\n",
              "    }\n",
              "  </style>\n",
              "\n",
              "      <script>\n",
              "        const buttonEl =\n",
              "          document.querySelector('#df-7ae724fe-97cc-4ec1-8d77-5f38a777fa04 button.colab-df-convert');\n",
              "        buttonEl.style.display =\n",
              "          google.colab.kernel.accessAllowed ? 'block' : 'none';\n",
              "\n",
              "        async function convertToInteractive(key) {\n",
              "          const element = document.querySelector('#df-7ae724fe-97cc-4ec1-8d77-5f38a777fa04');\n",
              "          const dataTable =\n",
              "            await google.colab.kernel.invokeFunction('convertToInteractive',\n",
              "                                                     [key], {});\n",
              "          if (!dataTable) return;\n",
              "\n",
              "          const docLinkHtml = 'Like what you see? Visit the ' +\n",
              "            '<a target=\"_blank\" href=https://colab.research.google.com/notebooks/data_table.ipynb>data table notebook</a>'\n",
              "            + ' to learn more about interactive tables.';\n",
              "          element.innerHTML = '';\n",
              "          dataTable['output_type'] = 'display_data';\n",
              "          await google.colab.output.renderOutput(dataTable, element);\n",
              "          const docLink = document.createElement('div');\n",
              "          docLink.innerHTML = docLinkHtml;\n",
              "          element.appendChild(docLink);\n",
              "        }\n",
              "      </script>\n",
              "    </div>\n",
              "  </div>\n",
              "  "
            ]
          },
          "metadata": {},
          "execution_count": 41
        }
      ],
      "source": [
        "data.mode()"
      ]
    },
    {
      "cell_type": "markdown",
      "id": "6dea6e3b",
      "metadata": {
        "id": "6dea6e3b"
      },
      "source": [
        "##  Dispersion of Data"
      ]
    },
    {
      "cell_type": "code",
      "execution_count": 42,
      "id": "7563864d",
      "metadata": {
        "colab": {
          "base_uri": "https://localhost:8080/",
          "height": 351
        },
        "id": "7563864d",
        "outputId": "228496b6-48ea-49fb-ea30-2c3dfdd7aa16"
      },
      "outputs": [
        {
          "output_type": "stream",
          "name": "stderr",
          "text": [
            "/usr/local/lib/python3.7/dist-packages/seaborn/_decorators.py:43: FutureWarning: Pass the following variable as a keyword arg: x. From version 0.12, the only valid positional argument will be `data`, and passing other arguments without an explicit keyword will result in an error or misinterpretation.\n",
            "  FutureWarning\n"
          ]
        },
        {
          "output_type": "execute_result",
          "data": {
            "text/plain": [
              "<matplotlib.axes._subplots.AxesSubplot at 0x7f555f3ae290>"
            ]
          },
          "metadata": {},
          "execution_count": 42
        },
        {
          "output_type": "display_data",
          "data": {
            "text/plain": [
              "<Figure size 432x288 with 1 Axes>"
            ],
            "image/png": "[encoded data removed]"
          },
          "metadata": {
            "needs_background": "light"
          }
        }
      ],
      "source": [
        "sns.boxplot(data['Age'])"
      ]
    },
    {
      "cell_type": "markdown",
      "id": "bf3b6eca",
      "metadata": {
        "id": "bf3b6eca"
      },
      "source": [
        "### Interquartile Range"
      ]
    },
    {
      "cell_type": "code",
      "execution_count": 43,
      "id": "11305fe5",
      "metadata": {
        "id": "11305fe5"
      },
      "outputs": [],
      "source": [
        "q = data.quantile([0.75, 0.25])"
      ]
    },
    {
      "cell_type": "code",
      "execution_count": 44,
      "id": "a97480a6",
      "metadata": {
        "colab": {
          "base_uri": "https://localhost:8080/",
          "height": 0
        },
        "id": "a97480a6",
        "outputId": "948d3d4a-a4fc-49e0-c867-513dcdd1aec0"
      },
      "outputs": [
        {
          "output_type": "execute_result",
          "data": {
            "text/plain": [
              "      CustomerID    Age  Annual Income (k$)  Spending Score (1-100)\n",
              "0.75      150.25  49.00                78.0                   73.00\n",
              "0.25       50.75  28.75                41.5                   34.75"
            ],
            "text/html": [
              "\n",
              "  <div id=\"df-895b873a-d699-4cfe-a7dd-8563cf9b740e\">\n",
              "    <div class=\"colab-df-container\">\n",
              "      <div>\n",
              "<style scoped>\n",
              "    .dataframe tbody tr th:only-of-type {\n",
              "        vertical-align: middle;\n",
              "    }\n",
              "\n",
              "    .dataframe tbody tr th {\n",
              "        vertical-align: top;\n",
              "    }\n",
              "\n",
              "    .dataframe thead th {\n",
              "        text-align: right;\n",
              "    }\n",
              "</style>\n",
              "<table border=\"1\" class=\"dataframe\">\n",
              "  <thead>\n",
              "    <tr style=\"text-align: right;\">\n",
              "      <th></th>\n",
              "      <th>CustomerID</th>\n",
              "      <th>Age</th>\n",
              "      <th>Annual Income (k$)</th>\n",
              "      <th>Spending Score (1-100)</th>\n",
              "    </tr>\n",
              "  </thead>\n",
              "  <tbody>\n",
              "    <tr>\n",
              "      <th>0.75</th>\n",
              "      <td>150.25</td>\n",
              "      <td>49.00</td>\n",
              "      <td>78.0</td>\n",
              "      <td>73.00</td>\n",
              "    </tr>\n",
              "    <tr>\n",
              "      <th>0.25</th>\n",
              "      <td>50.75</td>\n",
              "      <td>28.75</td>\n",
              "      <td>41.5</td>\n",
              "      <td>34.75</td>\n",
              "    </tr>\n",
              "  </tbody>\n",
              "</table>\n",
              "</div>\n",
              "      <button class=\"colab-df-convert\" onclick=\"convertToInteractive('df-895b873a-d699-4cfe-a7dd-8563cf9b740e')\"\n",
              "              title=\"Convert this dataframe to an interactive table.\"\n",
              "              style=\"display:none;\">\n",
              "        \n",
              "  <svg xmlns=\"http://www.w3.org/2000/svg\" height=\"24px\"viewBox=\"0 0 24 24\"\n",
              "       width=\"24px\">\n",
              "    <path d=\"M0 0h24v24H0V0z\" fill=\"none\"/>\n",
              "    <path d=\"M18.56 5.44l.94 2.06.94-2.06 2.06-.94-2.06-.94-.94-2.06-.94 2.06-2.06.94zm-11 1L8.5 8.5l.94-2.06 2.06-.94-2.06-.94L8.5 2.5l-.94 2.06-2.06.94zm10 10l.94 2.06.94-2.06 2.06-.94-2.06-.94-.94-2.06-.94 2.06-2.06.94z\"/><path d=\"M17.41 7.96l-1.37-1.37c-.4-.4-.92-.59-1.43-.59-.52 0-1.04.2-1.43.59L10.3 9.45l-7.72 7.72c-.78.78-.78 2.05 0 2.83L4 21.41c.39.39.9.59 1.41.59.51 0 1.02-.2 1.41-.59l7.78-7.78 2.81-2.81c.8-.78.8-2.07 0-2.86zM5.41 20L4 18.59l7.72-7.72 1.47 1.35L5.41 20z\"/>\n",
              "  </svg>\n",
              "      </button>\n",
              "      \n",
              "  <style>\n",
              "    .colab-df-container {\n",
              "      display:flex;\n",
              "      flex-wrap:wrap;\n",
              "      gap: 12px;\n",
              "    }\n",
              "\n",
              "    .colab-df-convert {\n",
              "      background-color: #E8F0FE;\n",
              "      border: none;\n",
              "      border-radius: 50%;\n",
              "      cursor: pointer;\n",
              "      display: none;\n",
              "      fill: #1967D2;\n",
              "      height: 32px;\n",
              "      padding: 0 0 0 0;\n",
              "      width: 32px;\n",
              "    }\n",
              "\n",
              "    .colab-df-convert:hover {\n",
              "      background-color: #E2EBFA;\n",
              "      box-shadow: 0px 1px 2px rgba(60, 64, 67, 0.3), 0px 1px 3px 1px rgba(60, 64, 67, 0.15);\n",
              "      fill: #174EA6;\n",
              "    }\n",
              "\n",
              "    [theme=dark] .colab-df-convert {\n",
              "      background-color: #3B4455;\n",
              "      fill: #D2E3FC;\n",
              "    }\n",
              "\n",
              "    [theme=dark] .colab-df-convert:hover {\n",
              "      background-color: #434B5C;\n",
              "      box-shadow: 0px 1px 3px 1px rgba(0, 0, 0, 0.15);\n",
              "      filter: drop-shadow(0px 1px 2px rgba(0, 0, 0, 0.3));\n",
              "      fill: #FFFFFF;\n",
              "    }\n",
              "  </style>\n",
              "\n",
              "      <script>\n",
              "        const buttonEl =\n",
              "          document.querySelector('#df-895b873a-d699-4cfe-a7dd-8563cf9b740e button.colab-df-convert');\n",
              "        buttonEl.style.display =\n",
              "          google.colab.kernel.accessAllowed ? 'block' : 'none';\n",
              "\n",
              "        async function convertToInteractive(key) {\n",
              "          const element = document.querySelector('#df-895b873a-d699-4cfe-a7dd-8563cf9b740e');\n",
              "          const dataTable =\n",
              "            await google.colab.kernel.invokeFunction('convertToInteractive',\n",
              "                                                     [key], {});\n",
              "          if (!dataTable) return;\n",
              "\n",
              "          const docLinkHtml = 'Like what you see? Visit the ' +\n",
              "            '<a target=\"_blank\" href=https://colab.research.google.com/notebooks/data_table.ipynb>data table notebook</a>'\n",
              "            + ' to learn more about interactive tables.';\n",
              "          element.innerHTML = '';\n",
              "          dataTable['output_type'] = 'display_data';\n",
              "          await google.colab.output.renderOutput(dataTable, element);\n",
              "          const docLink = document.createElement('div');\n",
              "          docLink.innerHTML = docLinkHtml;\n",
              "          element.appendChild(docLink);\n",
              "        }\n",
              "      </script>\n",
              "    </div>\n",
              "  </div>\n",
              "  "
            ]
          },
          "metadata": {},
          "execution_count": 44
        }
      ],
      "source": [
        "q"
      ]
    },
    {
      "cell_type": "code",
      "execution_count": 45,
      "id": "1f436750",
      "metadata": {
        "id": "1f436750"
      },
      "outputs": [],
      "source": [
        "iqr = q.iloc[0] - q.iloc[1]"
      ]
    },
    {
      "cell_type": "code",
      "execution_count": 46,
      "id": "30aae7ec",
      "metadata": {
        "colab": {
          "base_uri": "https://localhost:8080/"
        },
        "id": "30aae7ec",
        "outputId": "b6545f3e-a810-4074-e499-bd447c76019d"
      },
      "outputs": [
        {
          "output_type": "execute_result",
          "data": {
            "text/plain": [
              "CustomerID                99.50\n",
              "Age                       20.25\n",
              "Annual Income (k$)        36.50\n",
              "Spending Score (1-100)    38.25\n",
              "dtype: float64"
            ]
          },
          "metadata": {},
          "execution_count": 46
        }
      ],
      "source": [
        "iqr"
      ]
    },
    {
      "cell_type": "code",
      "execution_count": 47,
      "id": "a8b28954",
      "metadata": {
        "colab": {
          "base_uri": "https://localhost:8080/"
        },
        "id": "a8b28954",
        "outputId": "5b0e1718-9773-4e5d-86ca-12e66a8b16a6"
      },
      "outputs": [
        {
          "output_type": "execute_result",
          "data": {
            "text/plain": [
              "CustomerID                299.500\n",
              "Age                        79.375\n",
              "Annual Income (k$)        132.750\n",
              "Spending Score (1-100)    130.375\n",
              "dtype: float64"
            ]
          },
          "metadata": {},
          "execution_count": 47
        }
      ],
      "source": [
        "u = q.iloc[0] + 1.5*iqr \n",
        "u"
      ]
    },
    {
      "cell_type": "code",
      "execution_count": 48,
      "id": "679399cf",
      "metadata": {
        "colab": {
          "base_uri": "https://localhost:8080/"
        },
        "id": "679399cf",
        "outputId": "c85e451a-dc97-4ab7-877e-f2ab3a65d47b"
      },
      "outputs": [
        {
          "output_type": "execute_result",
          "data": {
            "text/plain": [
              "CustomerID               -98.500\n",
              "Age                       -1.625\n",
              "Annual Income (k$)       -13.250\n",
              "Spending Score (1-100)   -22.625\n",
              "dtype: float64"
            ]
          },
          "metadata": {},
          "execution_count": 48
        }
      ],
      "source": [
        "l = q.iloc[1] - 1.5*iqr\n",
        "l"
      ]
    },
    {
      "cell_type": "markdown",
      "id": "253f4d93",
      "metadata": {
        "id": "253f4d93"
      },
      "source": [
        "### Variance"
      ]
    },
    {
      "cell_type": "code",
      "execution_count": 49,
      "id": "65150ea9",
      "metadata": {
        "colab": {
          "base_uri": "https://localhost:8080/"
        },
        "id": "65150ea9",
        "outputId": "73ecf8ae-fb79-4a54-8555-ab2881539272"
      },
      "outputs": [
        {
          "output_type": "stream",
          "name": "stderr",
          "text": [
            "/usr/local/lib/python3.7/dist-packages/ipykernel_launcher.py:1: FutureWarning: Dropping of nuisance columns in DataFrame reductions (with 'numeric_only=None') is deprecated; in a future version this will raise TypeError.  Select only valid columns before calling the reduction.\n",
            "  \"\"\"Entry point for launching an IPython kernel.\n"
          ]
        },
        {
          "output_type": "execute_result",
          "data": {
            "text/plain": [
              "CustomerID                3350.000000\n",
              "Age                        195.133166\n",
              "Annual Income (k$)         689.835578\n",
              "Spending Score (1-100)     666.854271\n",
              "dtype: float64"
            ]
          },
          "metadata": {},
          "execution_count": 49
        }
      ],
      "source": [
        "data.var()"
      ]
    },
    {
      "cell_type": "markdown",
      "id": "8af8de15",
      "metadata": {
        "id": "8af8de15"
      },
      "source": [
        "### Standard Deviation"
      ]
    },
    {
      "cell_type": "code",
      "execution_count": 50,
      "id": "8b603f35",
      "metadata": {
        "colab": {
          "base_uri": "https://localhost:8080/"
        },
        "id": "8b603f35",
        "outputId": "0989f283-f5d8-4047-a413-a868cfd91d31"
      },
      "outputs": [
        {
          "output_type": "stream",
          "name": "stderr",
          "text": [
            "/usr/local/lib/python3.7/dist-packages/ipykernel_launcher.py:1: FutureWarning: Dropping of nuisance columns in DataFrame reductions (with 'numeric_only=None') is deprecated; in a future version this will raise TypeError.  Select only valid columns before calling the reduction.\n",
            "  \"\"\"Entry point for launching an IPython kernel.\n"
          ]
        },
        {
          "output_type": "execute_result",
          "data": {
            "text/plain": [
              "CustomerID                57.879185\n",
              "Age                       13.969007\n",
              "Annual Income (k$)        26.264721\n",
              "Spending Score (1-100)    25.823522\n",
              "dtype: float64"
            ]
          },
          "metadata": {},
          "execution_count": 50
        }
      ],
      "source": [
        "data.std()"
      ]
    },
    {
      "cell_type": "markdown",
      "id": "0f569d57",
      "metadata": {
        "id": "0f569d57"
      },
      "source": [
        "# 5. Checking and Dealing with missing values"
      ]
    },
    {
      "cell_type": "code",
      "execution_count": 51,
      "id": "79e1237c",
      "metadata": {
        "colab": {
          "base_uri": "https://localhost:8080/"
        },
        "id": "79e1237c",
        "outputId": "c0b7b063-656a-4411-fa87-f7d91b0ad90b"
      },
      "outputs": [
        {
          "output_type": "execute_result",
          "data": {
            "text/plain": [
              "CustomerID                False\n",
              "Gender                    False\n",
              "Age                       False\n",
              "Annual Income (k$)        False\n",
              "Spending Score (1-100)    False\n",
              "dtype: bool"
            ]
          },
          "metadata": {},
          "execution_count": 51
        }
      ],
      "source": [
        "data.isnull().any()"
      ]
    },
    {
      "cell_type": "markdown",
      "id": "d1199aa9",
      "metadata": {
        "id": "d1199aa9"
      },
      "source": [
        "# 6. Outliers and Replacing them"
      ]
    },
    {
      "cell_type": "code",
      "execution_count": 52,
      "id": "7745e20a",
      "metadata": {
        "colab": {
          "base_uri": "https://localhost:8080/",
          "height": 1000
        },
        "id": "7745e20a",
        "outputId": "e2b6c9a3-7f0a-4712-a729-aa09901dd1be"
      },
      "outputs": [
        {
          "output_type": "execute_result",
          "data": {
            "text/plain": [
              "<matplotlib.axes._subplots.AxesSubplot at 0x7f555f2dd090>"
            ]
          },
          "metadata": {},
          "execution_count": 52
        },
        {
          "output_type": "display_data",
          "data": {
            "text/plain": [
              "<Figure size 720x2160 with 1 Axes>"
            ],
            "image/png": "[encoded data removed]"
          },
          "metadata": {
            "needs_background": "light"
          }
        }
      ],
      "source": [
        "plt.figure(figsize=(10,30))\n",
        "data.boxplot(rot = 270)"
      ]
    },
    {
      "cell_type": "code",
      "execution_count": 53,
      "id": "64519a93",
      "metadata": {
        "colab": {
          "base_uri": "https://localhost:8080/",
          "height": 282
        },
        "id": "64519a93",
        "outputId": "05a9fb56-9ea3-4db6-b2ad-931b8826ef38"
      },
      "outputs": [
        {
          "output_type": "execute_result",
          "data": {
            "text/plain": [
              "<matplotlib.axes._subplots.AxesSubplot at 0x7f555f22b7d0>"
            ]
          },
          "metadata": {},
          "execution_count": 53
        },
        {
          "output_type": "display_data",
          "data": {
            "text/plain": [
              "<Figure size 432x288 with 1 Axes>"
            ],
            "image/png": "[encoded data removed]"
          },
          "metadata": {
            "needs_background": "light"
          }
        }
      ],
      "source": [
        "data['Annual Income (k$)'] = np.where(data['Annual Income (k$)'] > 130, 60.56, data['Annual Income (k$)'])\n",
        "data.boxplot('Annual Income (k$)')"
      ]
    },
    {
      "cell_type": "markdown",
      "id": "c55cb0a2",
      "metadata": {
        "id": "c55cb0a2"
      },
      "source": [
        "# 7. Encoding for Categorical values"
      ]
    },
    {
      "cell_type": "code",
      "execution_count": 56,
      "id": "af763971",
      "metadata": {
        "id": "af763971"
      },
      "outputs": [],
      "source": [
        "from sklearn.preprocessing import LabelEncoder\n",
        "le=LabelEncoder()\n",
        "data['Age']=le.fit_transform(data['Age'])"
      ]
    },
    {
      "cell_type": "code",
      "execution_count": 57,
      "id": "ff363e7a",
      "metadata": {
        "colab": {
          "base_uri": "https://localhost:8080/"
        },
        "id": "ff363e7a",
        "outputId": "40c092ce-6f57-4e28-b526-f08e1871d69f"
      },
      "outputs": [
        {
          "output_type": "execute_result",
          "data": {
            "text/plain": [
              "0       1\n",
              "1       3\n",
              "2       2\n",
              "3       5\n",
              "4      13\n",
              "       ..\n",
              "195    17\n",
              "196    27\n",
              "197    14\n",
              "198    14\n",
              "199    12\n",
              "Name: Age, Length: 200, dtype: int64"
            ]
          },
          "metadata": {},
          "execution_count": 57
        }
      ],
      "source": [
        "data['Age']"
      ]
    },
    {
      "cell_type": "markdown",
      "id": "6ada47c6",
      "metadata": {
        "id": "6ada47c6"
      },
      "source": [
        "# 8. Scaling the independant variables"
      ]
    },
    {
      "cell_type": "code",
      "execution_count": 58,
      "id": "009d62fa",
      "metadata": {
        "id": "009d62fa"
      },
      "outputs": [],
      "source": [
        "from sklearn.preprocessing import MinMaxScaler\n",
        "mms = MinMaxScaler()\n",
        "x_scaled = mms.fit_transform(data)"
      ]
    },
    {
      "cell_type": "code",
      "execution_count": 59,
      "id": "b1460138",
      "metadata": {
        "colab": {
          "base_uri": "https://localhost:8080/"
        },
        "id": "b1460138",
        "outputId": "a1368ffd-5b26-4390-c69f-1cacebc9b3d6"
      },
      "outputs": [
        {
          "output_type": "execute_result",
          "data": {
            "text/plain": [
              "array([[0.        , 1.        , 0.02      , 0.        , 0.3877551 ],\n",
              "       [0.00502513, 1.        , 0.06      , 0.        , 0.81632653],\n",
              "       [0.01005025, 0.        , 0.04      , 0.00900901, 0.05102041],\n",
              "       [0.01507538, 0.        , 0.1       , 0.00900901, 0.7755102 ],\n",
              "       [0.0201005 , 0.        , 0.26      , 0.01801802, 0.39795918],\n",
              "       [0.02512563, 0.        , 0.08      , 0.01801802, 0.76530612],\n",
              "       [0.03015075, 0.        , 0.34      , 0.02702703, 0.05102041],\n",
              "       [0.03517588, 0.        , 0.1       , 0.02702703, 0.94897959],\n",
              "       [0.04020101, 1.        , 0.88      , 0.03603604, 0.02040816],\n",
              "       [0.04522613, 0.        , 0.24      , 0.03603604, 0.7244898 ],\n",
              "       [0.05025126, 1.        , 0.94      , 0.03603604, 0.13265306],\n",
              "       [0.05527638, 0.        , 0.34      , 0.03603604, 1.        ],\n",
              "       [0.06030151, 0.        , 0.8       , 0.04504505, 0.14285714],\n",
              "       [0.06532663, 0.        , 0.12      , 0.04504505, 0.7755102 ],\n",
              "       [0.07035176, 1.        , 0.38      , 0.04504505, 0.12244898],\n",
              "       [0.07537688, 1.        , 0.08      , 0.04504505, 0.79591837],\n",
              "       [0.08040201, 0.        , 0.34      , 0.05405405, 0.34693878],\n",
              "       [0.08542714, 1.        , 0.04      , 0.05405405, 0.66326531],\n",
              "       [0.09045226, 1.        , 0.68      , 0.07207207, 0.28571429],\n",
              "       [0.09547739, 0.        , 0.34      , 0.07207207, 0.98979592],\n",
              "       [0.10050251, 1.        , 0.34      , 0.08108108, 0.34693878],\n",
              "       [0.10552764, 1.        , 0.14      , 0.08108108, 0.73469388],\n",
              "       [0.11055276, 0.        , 0.56      , 0.09009009, 0.04081633],\n",
              "       [0.11557789, 1.        , 0.26      , 0.09009009, 0.73469388],\n",
              "       [0.12060302, 0.        , 0.72      , 0.11711712, 0.13265306],\n",
              "       [0.12562814, 1.        , 0.22      , 0.11711712, 0.82653061],\n",
              "       [0.13065327, 0.        , 0.54      , 0.11711712, 0.31632653],\n",
              "       [0.13567839, 1.        , 0.34      , 0.11711712, 0.6122449 ],\n",
              "       [0.14070352, 0.        , 0.44      , 0.12612613, 0.30612245],\n",
              "       [0.14572864, 0.        , 0.1       , 0.12612613, 0.87755102],\n",
              "       [0.15075377, 1.        , 0.84      , 0.13513514, 0.03061224],\n",
              "       [0.15577889, 0.        , 0.06      , 0.13513514, 0.73469388],\n",
              "       [0.16080402, 1.        , 0.7       , 0.16216216, 0.03061224],\n",
              "       [0.16582915, 1.        , 0.        , 0.16216216, 0.92857143],\n",
              "       [0.17085427, 0.        , 0.62      , 0.16216216, 0.13265306],\n",
              "       [0.1758794 , 0.        , 0.06      , 0.16216216, 0.81632653],\n",
              "       [0.18090452, 0.        , 0.48      , 0.17117117, 0.16326531],\n",
              "       [0.18592965, 0.        , 0.24      , 0.17117117, 0.73469388],\n",
              "       [0.19095477, 0.        , 0.36      , 0.1981982 , 0.25510204],\n",
              "       [0.1959799 , 0.        , 0.04      , 0.1981982 , 0.75510204],\n",
              "       [0.20100503, 0.        , 0.9       , 0.20720721, 0.34693878],\n",
              "       [0.20603015, 1.        , 0.12      , 0.20720721, 0.92857143],\n",
              "       [0.21105528, 1.        , 0.6       , 0.21621622, 0.35714286],\n",
              "       [0.2160804 , 0.        , 0.26      , 0.21621622, 0.6122449 ],\n",
              "       [0.22110553, 0.        , 0.62      , 0.21621622, 0.2755102 ],\n",
              "       [0.22613065, 0.        , 0.12      , 0.21621622, 0.65306122],\n",
              "       [0.23115578, 0.        , 0.64      , 0.22522523, 0.55102041],\n",
              "       [0.2361809 , 0.        , 0.18      , 0.22522523, 0.46938776],\n",
              "       [0.24120603, 0.        , 0.22      , 0.22522523, 0.41836735],\n",
              "       [0.24623116, 0.        , 0.26      , 0.22522523, 0.41836735],\n",
              "       [0.25125628, 0.        , 0.62      , 0.24324324, 0.52040816],\n",
              "       [0.25628141, 1.        , 0.3       , 0.24324324, 0.60204082],\n",
              "       [0.26130653, 0.        , 0.26      , 0.25225225, 0.54081633],\n",
              "       [0.26633166, 1.        , 0.82      , 0.25225225, 0.60204082],\n",
              "       [0.27135678, 0.        , 0.64      , 0.25225225, 0.44897959],\n",
              "       [0.27638191, 1.        , 0.58      , 0.25225225, 0.40816327],\n",
              "       [0.28140704, 0.        , 0.66      , 0.26126126, 0.5       ],\n",
              "       [0.28643216, 1.        , 0.98      , 0.26126126, 0.45918367],\n",
              "       [0.29145729, 0.        , 0.18      , 0.27927928, 0.51020408],\n",
              "       [0.29648241, 1.        , 0.7       , 0.27927928, 0.45918367],\n",
              "       [0.30150754, 1.        , 1.        , 0.27927928, 0.56122449],\n",
              "       [0.30653266, 1.        , 0.02      , 0.27927928, 0.55102041],\n",
              "       [0.31155779, 0.        , 0.94      , 0.28828829, 0.52040816],\n",
              "       [0.31658291, 0.        , 0.72      , 0.28828829, 0.59183673],\n",
              "       [0.32160804, 1.        , 0.86      , 0.2972973 , 0.51020408],\n",
              "       [0.32663317, 1.        , 0.        , 0.2972973 , 0.59183673],\n",
              "       [0.33165829, 0.        , 0.5       , 0.2972973 , 0.5       ],\n",
              "       [0.33668342, 0.        , 0.96      , 0.2972973 , 0.47959184],\n",
              "       [0.34170854, 1.        , 0.02      , 0.2972973 , 0.59183673],\n",
              "       [0.34673367, 0.        , 0.28      , 0.2972973 , 0.46938776],\n",
              "       [0.35175879, 1.        , 1.        , 0.30630631, 0.55102041],\n",
              "       [0.35678392, 0.        , 0.58      , 0.30630631, 0.41836735],\n",
              "       [0.36180905, 0.        , 0.84      , 0.31531532, 0.48979592],\n",
              "       [0.36683417, 0.        , 0.84      , 0.31531532, 0.56122449],\n",
              "       [0.3718593 , 1.        , 0.82      , 0.35135135, 0.46938776],\n",
              "       [0.37688442, 1.        , 0.16      , 0.35135135, 0.54081633],\n",
              "       [0.38190955, 0.        , 0.54      , 0.35135135, 0.53061224],\n",
              "       [0.38693467, 1.        , 0.44      , 0.35135135, 0.47959184],\n",
              "       [0.3919598 , 0.        , 0.1       , 0.35135135, 0.52040816],\n",
              "       [0.39698492, 0.        , 0.62      , 0.35135135, 0.41836735],\n",
              "       [0.40201005, 1.        , 0.78      , 0.35135135, 0.51020408],\n",
              "       [0.40703518, 1.        , 0.4       , 0.35135135, 0.55102041],\n",
              "       [0.4120603 , 1.        , 0.94      , 0.35135135, 0.40816327],\n",
              "       [0.41708543, 0.        , 0.56      , 0.35135135, 0.43877551],\n",
              "       [0.42211055, 0.        , 0.06      , 0.35135135, 0.57142857],\n",
              "       [0.42713568, 1.        , 0.6       , 0.35135135, 0.45918367],\n",
              "       [0.4321608 , 0.        , 0.74      , 0.37837838, 0.58163265],\n",
              "       [0.43718593, 0.        , 0.08      , 0.37837838, 0.55102041],\n",
              "       [0.44221106, 0.        , 0.32      , 0.38738739, 0.60204082],\n",
              "       [0.44723618, 0.        , 0.64      , 0.38738739, 0.45918367],\n",
              "       [0.45226131, 0.        , 0.96      , 0.3963964 , 0.55102041],\n",
              "       [0.45728643, 1.        , 0.        , 0.3963964 , 0.40816327],\n",
              "       [0.46231156, 1.        , 0.6       , 0.40540541, 0.48979592],\n",
              "       [0.46733668, 0.        , 0.44      , 0.40540541, 0.39795918],\n",
              "       [0.47236181, 0.        , 0.28      , 0.40540541, 0.41836735],\n",
              "       [0.47738693, 1.        , 0.12      , 0.40540541, 0.52040816],\n",
              "       [0.48241206, 0.        , 0.58      , 0.40540541, 0.46938776],\n",
              "       [0.48743719, 0.        , 0.18      , 0.40540541, 0.5       ],\n",
              "       [0.49246231, 1.        , 0.6       , 0.41441441, 0.41836735],\n",
              "       [0.49748744, 1.        , 0.04      , 0.41441441, 0.48979592],\n",
              "       [0.50251256, 0.        , 0.1       , 0.42342342, 0.40816327],\n",
              "       [0.50753769, 0.        , 0.62      , 0.42342342, 0.47959184],\n",
              "       [0.51256281, 1.        , 0.94      , 0.42342342, 0.59183673],\n",
              "       [0.51758794, 1.        , 0.16      , 0.42342342, 0.55102041],\n",
              "       [0.52261307, 1.        , 0.62      , 0.42342342, 0.56122449],\n",
              "       [0.52763819, 0.        , 0.06      , 0.42342342, 0.41836735],\n",
              "       [0.53266332, 0.        , 0.92      , 0.43243243, 0.5       ],\n",
              "       [0.53768844, 1.        , 0.72      , 0.43243243, 0.45918367],\n",
              "       [0.54271357, 1.        , 0.96      , 0.43243243, 0.42857143],\n",
              "       [0.54773869, 1.        , 0.92      , 0.43243243, 0.47959184],\n",
              "       [0.55276382, 1.        , 0.9       , 0.43243243, 0.52040816],\n",
              "       [0.55778894, 0.        , 0.02      , 0.43243243, 0.54081633],\n",
              "       [0.56281407, 0.        , 0.4       , 0.44144144, 0.41836735],\n",
              "       [0.5678392 , 1.        , 0.02      , 0.44144144, 0.45918367],\n",
              "       [0.57286432, 0.        , 0.        , 0.45045045, 0.47959184],\n",
              "       [0.57788945, 0.        , 0.02      , 0.45045045, 0.5       ],\n",
              "       [0.58291457, 0.        , 0.86      , 0.45045045, 0.42857143],\n",
              "       [0.5879397 , 0.        , 0.62      , 0.45045045, 0.59183673],\n",
              "       [0.59296482, 0.        , 0.66      , 0.46846847, 0.42857143],\n",
              "       [0.59798995, 0.        , 0.64      , 0.46846847, 0.57142857],\n",
              "       [0.60301508, 1.        , 0.18      , 0.46846847, 0.56122449],\n",
              "       [0.6080402 , 0.        , 0.4       , 0.46846847, 0.39795918],\n",
              "       [0.61306533, 0.        , 0.44      , 0.48648649, 0.58163265],\n",
              "       [0.61809045, 1.        , 0.42      , 0.48648649, 0.91836735],\n",
              "       [0.62311558, 0.        , 0.1       , 0.4954955 , 0.28571429],\n",
              "       [0.6281407 , 0.        , 0.26      , 0.4954955 , 0.7755102 ],\n",
              "       [0.63316583, 1.        , 0.5       , 0.5045045 , 0.34693878],\n",
              "       [0.63819095, 1.        , 0.44      , 0.5045045 , 0.95918367],\n",
              "       [0.64321608, 1.        , 0.82      , 0.5045045 , 0.10204082],\n",
              "       [0.64824121, 1.        , 0.4       , 0.5045045 , 0.75510204],\n",
              "       [0.65326633, 1.        , 0.58      , 0.5045045 , 0.08163265],\n",
              "       [0.65829146, 1.        , 0.42      , 0.5045045 , 0.75510204],\n",
              "       [0.66331658, 0.        , 0.14      , 0.51351351, 0.33673469],\n",
              "       [0.66834171, 0.        , 0.26      , 0.51351351, 0.71428571],\n",
              "       [0.67336683, 1.        , 0.04      , 0.52252252, 0.04081633],\n",
              "       [0.67839196, 0.        , 0.22      , 0.52252252, 0.8877551 ],\n",
              "       [0.68341709, 0.        , 0.52      , 0.52252252, 0.06122449],\n",
              "       [0.68844221, 1.        , 0.28      , 0.52252252, 0.73469388],\n",
              "       [0.69346734, 1.        , 0.02      , 0.53153153, 0.09183673],\n",
              "       [0.69849246, 0.        , 0.34      , 0.53153153, 0.7244898 ],\n",
              "       [0.70351759, 0.        , 0.78      , 0.54054054, 0.04081633],\n",
              "       [0.70854271, 1.        , 0.28      , 0.54054054, 0.93877551],\n",
              "       [0.71356784, 0.        , 0.2       , 0.54954955, 0.39795918],\n",
              "       [0.71859296, 0.        , 0.28      , 0.54954955, 0.87755102],\n",
              "       [0.72361809, 1.        , 0.14      , 0.55855856, 0.1122449 ],\n",
              "       [0.72864322, 1.        , 0.2       , 0.55855856, 0.97959184],\n",
              "       [0.73366834, 1.        , 0.6       , 0.55855856, 0.35714286],\n",
              "       [0.73869347, 0.        , 0.28      , 0.55855856, 0.74489796],\n",
              "       [0.74371859, 0.        , 0.32      , 0.56756757, 0.21428571],\n",
              "       [0.74874372, 1.        , 0.32      , 0.56756757, 0.90816327],\n",
              "       [0.75376884, 1.        , 0.5       , 0.56756757, 0.16326531],\n",
              "       [0.75879397, 1.        , 0.42      , 0.56756757, 0.8877551 ],\n",
              "       [0.7638191 , 0.        , 0.52      , 0.56756757, 0.19387755],\n",
              "       [0.76884422, 0.        , 0.4       , 0.56756757, 0.76530612],\n",
              "       [0.77386935, 0.        , 0.58      , 0.56756757, 0.15306122],\n",
              "       [0.77889447, 0.        , 0.18      , 0.56756757, 0.89795918],\n",
              "       [0.7839196 , 1.        , 0.38      , 0.56756757, 0.        ],\n",
              "       [0.78894472, 0.        , 0.24      , 0.56756757, 0.78571429],\n",
              "       [0.79396985, 1.        , 0.32      , 0.56756757, 0.        ],\n",
              "       [0.79899497, 0.        , 0.24      , 0.56756757, 0.73469388],\n",
              "       [0.8040201 , 0.        , 0.76      , 0.57657658, 0.34693878],\n",
              "       [0.80904523, 0.        , 0.22      , 0.57657658, 0.83673469],\n",
              "       [0.81407035, 1.        , 0.02      , 0.59459459, 0.04081633],\n",
              "       [0.81909548, 0.        , 0.26      , 0.59459459, 0.93877551],\n",
              "       [0.8241206 , 1.        , 0.64      , 0.63063063, 0.25510204],\n",
              "       [0.82914573, 0.        , 0.36      , 0.63063063, 0.75510204],\n",
              "       [0.83417085, 1.        , 0.48      , 0.63963964, 0.19387755],\n",
              "       [0.83919598, 0.        , 0.3       , 0.63963964, 0.95918367],\n",
              "       [0.84422111, 0.        , 0.36      , 0.64864865, 0.26530612],\n",
              "       [0.84924623, 1.        , 0.28      , 0.64864865, 0.63265306],\n",
              "       [0.85427136, 1.        , 0.44      , 0.64864865, 0.12244898],\n",
              "       [0.85929648, 1.        , 0.2       , 0.64864865, 0.75510204],\n",
              "       [0.86432161, 1.        , 0.36      , 0.64864865, 0.09183673],\n",
              "       [0.86934673, 1.        , 0.36      , 0.64864865, 0.92857143],\n",
              "       [0.87437186, 0.        , 0.68      , 0.65765766, 0.12244898],\n",
              "       [0.87939698, 0.        , 0.24      , 0.65765766, 0.86734694],\n",
              "       [0.88442211, 1.        , 0.8       , 0.65765766, 0.14285714],\n",
              "       [0.88944724, 1.        , 0.18      , 0.65765766, 0.69387755],\n",
              "       [0.89447236, 1.        , 0.82      , 0.7027027 , 0.13265306],\n",
              "       [0.89949749, 1.        , 0.34      , 0.7027027 , 0.90816327],\n",
              "       [0.90452261, 0.        , 0.38      , 0.73873874, 0.31632653],\n",
              "       [0.90954774, 0.        , 0.28      , 0.73873874, 0.86734694],\n",
              "       [0.91457286, 1.        , 0.56      , 0.74774775, 0.14285714],\n",
              "       [0.91959799, 0.        , 0.22      , 0.74774775, 0.8877551 ],\n",
              "       [0.92462312, 0.        , 0.46      , 0.75675676, 0.3877551 ],\n",
              "       [0.92964824, 1.        , 0.24      , 0.75675676, 0.97959184],\n",
              "       [0.93467337, 0.        , 0.72      , 0.77477477, 0.23469388],\n",
              "       [0.93969849, 1.        , 0.2       , 0.77477477, 0.68367347],\n",
              "       [0.94472362, 0.        , 0.46      , 0.79279279, 0.16326531],\n",
              "       [0.94974874, 0.        , 0.36      , 0.79279279, 0.85714286],\n",
              "       [0.95477387, 0.        , 0.32      , 0.79279279, 0.2244898 ],\n",
              "       [0.95979899, 0.        , 0.28      , 0.79279279, 0.69387755],\n",
              "       [0.96482412, 1.        , 0.3       , 0.88288288, 0.07142857],\n",
              "       [0.96984925, 0.        , 0.4       , 0.88288288, 0.91836735],\n",
              "       [0.97487437, 0.        , 0.58      , 0.94594595, 0.15306122],\n",
              "       [0.9798995 , 0.        , 0.34      , 0.94594595, 0.79591837],\n",
              "       [0.98492462, 0.        , 0.54      , 1.        , 0.2755102 ],\n",
              "       [0.98994975, 1.        , 0.28      , 1.        , 0.74489796],\n",
              "       [0.99497487, 1.        , 0.28      , 0.41045045, 0.17346939],\n",
              "       [1.        , 1.        , 0.24      , 0.41045045, 0.83673469]])"
            ]
          },
          "metadata": {},
          "execution_count": 59
        }
      ],
      "source": [
        "x_scaled"
      ]
    },
    {
      "cell_type": "markdown",
      "id": "6faf47c5",
      "metadata": {
        "id": "6faf47c5"
      },
      "source": [
        "# 9. Performing Clustering"
      ]
    },
    {
      "cell_type": "code",
      "execution_count": 60,
      "id": "0a4762a3",
      "metadata": {
        "id": "0a4762a3"
      },
      "outputs": [],
      "source": [
        "from sklearn.cluster import KMeans\n",
        "km=KMeans()\n",
        "cluster = km.fit_predict(x_scaled)"
      ]
    },
    {
      "cell_type": "code",
      "execution_count": 61,
      "id": "2cfe6cc4",
      "metadata": {
        "colab": {
          "base_uri": "https://localhost:8080/"
        },
        "id": "2cfe6cc4",
        "outputId": "68fcf534-424d-4b56-99de-8099b57771b7"
      },
      "outputs": [
        {
          "output_type": "execute_result",
          "data": {
            "text/plain": [
              "Index(['CustomerID', 'Gender', 'Age', 'Annual Income (k$)',\n",
              "       'Spending Score (1-100)'],\n",
              "      dtype='object')"
            ]
          },
          "metadata": {},
          "execution_count": 61
        }
      ],
      "source": [
        "values = data.columns\n",
        "values"
      ]
    },
    {
      "cell_type": "markdown",
      "id": "245e6cef",
      "metadata": {
        "id": "245e6cef"
      },
      "source": [
        "# 10. Adding the Cluster Data to the primary Dataset"
      ]
    },
    {
      "cell_type": "code",
      "execution_count": 62,
      "id": "2004bafe",
      "metadata": {
        "colab": {
          "base_uri": "https://localhost:8080/",
          "height": 424
        },
        "id": "2004bafe",
        "outputId": "0a1d2f47-4118-4f69-c1e5-96162f27961b"
      },
      "outputs": [
        {
          "output_type": "execute_result",
          "data": {
            "text/plain": [
              "     CustomerID  Gender   Age  Annual Income (k$)  Spending Score (1-100)  \\\n",
              "0      0.000000     1.0  0.02            0.000000                0.387755   \n",
              "1      0.005025     1.0  0.06            0.000000                0.816327   \n",
              "2      0.010050     0.0  0.04            0.009009                0.051020   \n",
              "3      0.015075     0.0  0.10            0.009009                0.775510   \n",
              "4      0.020101     0.0  0.26            0.018018                0.397959   \n",
              "..          ...     ...   ...                 ...                     ...   \n",
              "195    0.979899     0.0  0.34            0.945946                0.795918   \n",
              "196    0.984925     0.0  0.54            1.000000                0.275510   \n",
              "197    0.989950     1.0  0.28            1.000000                0.744898   \n",
              "198    0.994975     1.0  0.28            0.410450                0.173469   \n",
              "199    1.000000     1.0  0.24            0.410450                0.836735   \n",
              "\n",
              "     Cluster_Value  \n",
              "0                6  \n",
              "1                6  \n",
              "2                1  \n",
              "3                1  \n",
              "4                1  \n",
              "..             ...  \n",
              "195              7  \n",
              "196              3  \n",
              "197              5  \n",
              "198              2  \n",
              "199              5  \n",
              "\n",
              "[200 rows x 6 columns]"
            ],
            "text/html": [
              "\n",
              "  <div id=\"df-4ec3a41a-b2be-42bb-bf78-a8feef43f924\">\n",
              "    <div class=\"colab-df-container\">\n",
              "      <div>\n",
              "<style scoped>\n",
              "    .dataframe tbody tr th:only-of-type {\n",
              "        vertical-align: middle;\n",
              "    }\n",
              "\n",
              "    .dataframe tbody tr th {\n",
              "        vertical-align: top;\n",
              "    }\n",
              "\n",
              "    .dataframe thead th {\n",
              "        text-align: right;\n",
              "    }\n",
              "</style>\n",
              "<table border=\"1\" class=\"dataframe\">\n",
              "  <thead>\n",
              "    <tr style=\"text-align: right;\">\n",
              "      <th></th>\n",
              "      <th>CustomerID</th>\n",
              "      <th>Gender</th>\n",
              "      <th>Age</th>\n",
              "      <th>Annual Income (k$)</th>\n",
              "      <th>Spending Score (1-100)</th>\n",
              "      <th>Cluster_Value</th>\n",
              "    </tr>\n",
              "  </thead>\n",
              "  <tbody>\n",
              "    <tr>\n",
              "      <th>0</th>\n",
              "      <td>0.000000</td>\n",
              "      <td>1.0</td>\n",
              "      <td>0.02</td>\n",
              "      <td>0.000000</td>\n",
              "      <td>0.387755</td>\n",
              "      <td>6</td>\n",
              "    </tr>\n",
              "    <tr>\n",
              "      <th>1</th>\n",
              "      <td>0.005025</td>\n",
              "      <td>1.0</td>\n",
              "      <td>0.06</td>\n",
              "      <td>0.000000</td>\n",
              "      <td>0.816327</td>\n",
              "      <td>6</td>\n",
              "    </tr>\n",
              "    <tr>\n",
              "      <th>2</th>\n",
              "      <td>0.010050</td>\n",
              "      <td>0.0</td>\n",
              "      <td>0.04</td>\n",
              "      <td>0.009009</td>\n",
              "      <td>0.051020</td>\n",
              "      <td>1</td>\n",
              "    </tr>\n",
              "    <tr>\n",
              "      <th>3</th>\n",
              "      <td>0.015075</td>\n",
              "      <td>0.0</td>\n",
              "      <td>0.10</td>\n",
              "      <td>0.009009</td>\n",
              "      <td>0.775510</td>\n",
              "      <td>1</td>\n",
              "    </tr>\n",
              "    <tr>\n",
              "      <th>4</th>\n",
              "      <td>0.020101</td>\n",
              "      <td>0.0</td>\n",
              "      <td>0.26</td>\n",
              "      <td>0.018018</td>\n",
              "      <td>0.397959</td>\n",
              "      <td>1</td>\n",
              "    </tr>\n",
              "    <tr>\n",
              "      <th>...</th>\n",
              "      <td>...</td>\n",
              "      <td>...</td>\n",
              "      <td>...</td>\n",
              "      <td>...</td>\n",
              "      <td>...</td>\n",
              "      <td>...</td>\n",
              "    </tr>\n",
              "    <tr>\n",
              "      <th>195</th>\n",
              "      <td>0.979899</td>\n",
              "      <td>0.0</td>\n",
              "      <td>0.34</td>\n",
              "      <td>0.945946</td>\n",
              "      <td>0.795918</td>\n",
              "      <td>7</td>\n",
              "    </tr>\n",
              "    <tr>\n",
              "      <th>196</th>\n",
              "      <td>0.984925</td>\n",
              "      <td>0.0</td>\n",
              "      <td>0.54</td>\n",
              "      <td>1.000000</td>\n",
              "      <td>0.275510</td>\n",
              "      <td>3</td>\n",
              "    </tr>\n",
              "    <tr>\n",
              "      <th>197</th>\n",
              "      <td>0.989950</td>\n",
              "      <td>1.0</td>\n",
              "      <td>0.28</td>\n",
              "      <td>1.000000</td>\n",
              "      <td>0.744898</td>\n",
              "      <td>5</td>\n",
              "    </tr>\n",
              "    <tr>\n",
              "      <th>198</th>\n",
              "      <td>0.994975</td>\n",
              "      <td>1.0</td>\n",
              "      <td>0.28</td>\n",
              "      <td>0.410450</td>\n",
              "      <td>0.173469</td>\n",
              "      <td>2</td>\n",
              "    </tr>\n",
              "    <tr>\n",
              "      <th>199</th>\n",
              "      <td>1.000000</td>\n",
              "      <td>1.0</td>\n",
              "      <td>0.24</td>\n",
              "      <td>0.410450</td>\n",
              "      <td>0.836735</td>\n",
              "      <td>5</td>\n",
              "    </tr>\n",
              "  </tbody>\n",
              "</table>\n",
              "<p>200 rows × 6 columns</p>\n",
              "</div>\n",
              "      <button class=\"colab-df-convert\" onclick=\"convertToInteractive('df-4ec3a41a-b2be-42bb-bf78-a8feef43f924')\"\n",
              "              title=\"Convert this dataframe to an interactive table.\"\n",
              "              style=\"display:none;\">\n",
              "        \n",
              "  <svg xmlns=\"http://www.w3.org/2000/svg\" height=\"24px\"viewBox=\"0 0 24 24\"\n",
              "       width=\"24px\">\n",
              "    <path d=\"M0 0h24v24H0V0z\" fill=\"none\"/>\n",
              "    <path d=\"M18.56 5.44l.94 2.06.94-2.06 2.06-.94-2.06-.94-.94-2.06-.94 2.06-2.06.94zm-11 1L8.5 8.5l.94-2.06 2.06-.94-2.06-.94L8.5 2.5l-.94 2.06-2.06.94zm10 10l.94 2.06.94-2.06 2.06-.94-2.06-.94-.94-2.06-.94 2.06-2.06.94z\"/><path d=\"M17.41 7.96l-1.37-1.37c-.4-.4-.92-.59-1.43-.59-.52 0-1.04.2-1.43.59L10.3 9.45l-7.72 7.72c-.78.78-.78 2.05 0 2.83L4 21.41c.39.39.9.59 1.41.59.51 0 1.02-.2 1.41-.59l7.78-7.78 2.81-2.81c.8-.78.8-2.07 0-2.86zM5.41 20L4 18.59l7.72-7.72 1.47 1.35L5.41 20z\"/>\n",
              "  </svg>\n",
              "      </button>\n",
              "      \n",
              "  <style>\n",
              "    .colab-df-container {\n",
              "      display:flex;\n",
              "      flex-wrap:wrap;\n",
              "      gap: 12px;\n",
              "    }\n",
              "\n",
              "    .colab-df-convert {\n",
              "      background-color: #E8F0FE;\n",
              "      border: none;\n",
              "      border-radius: 50%;\n",
              "      cursor: pointer;\n",
              "      display: none;\n",
              "      fill: #1967D2;\n",
              "      height: 32px;\n",
              "      padding: 0 0 0 0;\n",
              "      width: 32px;\n",
              "    }\n",
              "\n",
              "    .colab-df-convert:hover {\n",
              "      background-color: #E2EBFA;\n",
              "      box-shadow: 0px 1px 2px rgba(60, 64, 67, 0.3), 0px 1px 3px 1px rgba(60, 64, 67, 0.15);\n",
              "      fill: #174EA6;\n",
              "    }\n",
              "\n",
              "    [theme=dark] .colab-df-convert {\n",
              "      background-color: #3B4455;\n",
              "      fill: #D2E3FC;\n",
              "    }\n",
              "\n",
              "    [theme=dark] .colab-df-convert:hover {\n",
              "      background-color: #434B5C;\n",
              "      box-shadow: 0px 1px 3px 1px rgba(0, 0, 0, 0.15);\n",
              "      filter: drop-shadow(0px 1px 2px rgba(0, 0, 0, 0.3));\n",
              "      fill: #FFFFFF;\n",
              "    }\n",
              "  </style>\n",
              "\n",
              "      <script>\n",
              "        const buttonEl =\n",
              "          document.querySelector('#df-4ec3a41a-b2be-42bb-bf78-a8feef43f924 button.colab-df-convert');\n",
              "        buttonEl.style.display =\n",
              "          google.colab.kernel.accessAllowed ? 'block' : 'none';\n",
              "\n",
              "        async function convertToInteractive(key) {\n",
              "          const element = document.querySelector('#df-4ec3a41a-b2be-42bb-bf78-a8feef43f924');\n",
              "          const dataTable =\n",
              "            await google.colab.kernel.invokeFunction('convertToInteractive',\n",
              "                                                     [key], {});\n",
              "          if (!dataTable) return;\n",
              "\n",
              "          const docLinkHtml = 'Like what you see? Visit the ' +\n",
              "            '<a target=\"_blank\" href=https://colab.research.google.com/notebooks/data_table.ipynb>data table notebook</a>'\n",
              "            + ' to learn more about interactive tables.';\n",
              "          element.innerHTML = '';\n",
              "          dataTable['output_type'] = 'display_data';\n",
              "          await google.colab.output.renderOutput(dataTable, element);\n",
              "          const docLink = document.createElement('div');\n",
              "          docLink.innerHTML = docLinkHtml;\n",
              "          element.appendChild(docLink);\n",
              "        }\n",
              "      </script>\n",
              "    </div>\n",
              "  </div>\n",
              "  "
            ]
          },
          "metadata": {},
          "execution_count": 62
        }
      ],
      "source": [
        "df = pd.DataFrame(x_scaled, columns = values)\n",
        "df['Cluster_Value'] = pd.Series(cluster)\n",
        "df"
      ]
    },
    {
      "cell_type": "markdown",
      "id": "656170de",
      "metadata": {
        "id": "656170de"
      },
      "source": [
        "# 11. Splitting into X and Y"
      ]
    },
    {
      "cell_type": "code",
      "execution_count": 63,
      "id": "52e28805",
      "metadata": {
        "colab": {
          "base_uri": "https://localhost:8080/",
          "height": 424
        },
        "id": "52e28805",
        "outputId": "a3379327-4c13-40d8-c48b-0b4b6f395465"
      },
      "outputs": [
        {
          "output_type": "execute_result",
          "data": {
            "text/plain": [
              "     Gender   Age  Annual Income (k$)  Spending Score (1-100)\n",
              "0       1.0  0.02            0.000000                0.387755\n",
              "1       1.0  0.06            0.000000                0.816327\n",
              "2       0.0  0.04            0.009009                0.051020\n",
              "3       0.0  0.10            0.009009                0.775510\n",
              "4       0.0  0.26            0.018018                0.397959\n",
              "..      ...   ...                 ...                     ...\n",
              "195     0.0  0.34            0.945946                0.795918\n",
              "196     0.0  0.54            1.000000                0.275510\n",
              "197     1.0  0.28            1.000000                0.744898\n",
              "198     1.0  0.28            0.410450                0.173469\n",
              "199     1.0  0.24            0.410450                0.836735\n",
              "\n",
              "[200 rows x 4 columns]"
            ],
            "text/html": [
              "\n",
              "  <div id=\"df-dcdafc64-3751-423e-ae11-054592b3444f\">\n",
              "    <div class=\"colab-df-container\">\n",
              "      <div>\n",
              "<style scoped>\n",
              "    .dataframe tbody tr th:only-of-type {\n",
              "        vertical-align: middle;\n",
              "    }\n",
              "\n",
              "    .dataframe tbody tr th {\n",
              "        vertical-align: top;\n",
              "    }\n",
              "\n",
              "    .dataframe thead th {\n",
              "        text-align: right;\n",
              "    }\n",
              "</style>\n",
              "<table border=\"1\" class=\"dataframe\">\n",
              "  <thead>\n",
              "    <tr style=\"text-align: right;\">\n",
              "      <th></th>\n",
              "      <th>Gender</th>\n",
              "      <th>Age</th>\n",
              "      <th>Annual Income (k$)</th>\n",
              "      <th>Spending Score (1-100)</th>\n",
              "    </tr>\n",
              "  </thead>\n",
              "  <tbody>\n",
              "    <tr>\n",
              "      <th>0</th>\n",
              "      <td>1.0</td>\n",
              "      <td>0.02</td>\n",
              "      <td>0.000000</td>\n",
              "      <td>0.387755</td>\n",
              "    </tr>\n",
              "    <tr>\n",
              "      <th>1</th>\n",
              "      <td>1.0</td>\n",
              "      <td>0.06</td>\n",
              "      <td>0.000000</td>\n",
              "      <td>0.816327</td>\n",
              "    </tr>\n",
              "    <tr>\n",
              "      <th>2</th>\n",
              "      <td>0.0</td>\n",
              "      <td>0.04</td>\n",
              "      <td>0.009009</td>\n",
              "      <td>0.051020</td>\n",
              "    </tr>\n",
              "    <tr>\n",
              "      <th>3</th>\n",
              "      <td>0.0</td>\n",
              "      <td>0.10</td>\n",
              "      <td>0.009009</td>\n",
              "      <td>0.775510</td>\n",
              "    </tr>\n",
              "    <tr>\n",
              "      <th>4</th>\n",
              "      <td>0.0</td>\n",
              "      <td>0.26</td>\n",
              "      <td>0.018018</td>\n",
              "      <td>0.397959</td>\n",
              "    </tr>\n",
              "    <tr>\n",
              "      <th>...</th>\n",
              "      <td>...</td>\n",
              "      <td>...</td>\n",
              "      <td>...</td>\n",
              "      <td>...</td>\n",
              "    </tr>\n",
              "    <tr>\n",
              "      <th>195</th>\n",
              "      <td>0.0</td>\n",
              "      <td>0.34</td>\n",
              "      <td>0.945946</td>\n",
              "      <td>0.795918</td>\n",
              "    </tr>\n",
              "    <tr>\n",
              "      <th>196</th>\n",
              "      <td>0.0</td>\n",
              "      <td>0.54</td>\n",
              "      <td>1.000000</td>\n",
              "      <td>0.275510</td>\n",
              "    </tr>\n",
              "    <tr>\n",
              "      <th>197</th>\n",
              "      <td>1.0</td>\n",
              "      <td>0.28</td>\n",
              "      <td>1.000000</td>\n",
              "      <td>0.744898</td>\n",
              "    </tr>\n",
              "    <tr>\n",
              "      <th>198</th>\n",
              "      <td>1.0</td>\n",
              "      <td>0.28</td>\n",
              "      <td>0.410450</td>\n",
              "      <td>0.173469</td>\n",
              "    </tr>\n",
              "    <tr>\n",
              "      <th>199</th>\n",
              "      <td>1.0</td>\n",
              "      <td>0.24</td>\n",
              "      <td>0.410450</td>\n",
              "      <td>0.836735</td>\n",
              "    </tr>\n",
              "  </tbody>\n",
              "</table>\n",
              "<p>200 rows × 4 columns</p>\n",
              "</div>\n",
              "      <button class=\"colab-df-convert\" onclick=\"convertToInteractive('df-dcdafc64-3751-423e-ae11-054592b3444f')\"\n",
              "              title=\"Convert this dataframe to an interactive table.\"\n",
              "              style=\"display:none;\">\n",
              "        \n",
              "  <svg xmlns=\"http://www.w3.org/2000/svg\" height=\"24px\"viewBox=\"0 0 24 24\"\n",
              "       width=\"24px\">\n",
              "    <path d=\"M0 0h24v24H0V0z\" fill=\"none\"/>\n",
              "    <path d=\"M18.56 5.44l.94 2.06.94-2.06 2.06-.94-2.06-.94-.94-2.06-.94 2.06-2.06.94zm-11 1L8.5 8.5l.94-2.06 2.06-.94-2.06-.94L8.5 2.5l-.94 2.06-2.06.94zm10 10l.94 2.06.94-2.06 2.06-.94-2.06-.94-.94-2.06-.94 2.06-2.06.94z\"/><path d=\"M17.41 7.96l-1.37-1.37c-.4-.4-.92-.59-1.43-.59-.52 0-1.04.2-1.43.59L10.3 9.45l-7.72 7.72c-.78.78-.78 2.05 0 2.83L4 21.41c.39.39.9.59 1.41.59.51 0 1.02-.2 1.41-.59l7.78-7.78 2.81-2.81c.8-.78.8-2.07 0-2.86zM5.41 20L4 18.59l7.72-7.72 1.47 1.35L5.41 20z\"/>\n",
              "  </svg>\n",
              "      </button>\n",
              "      \n",
              "  <style>\n",
              "    .colab-df-container {\n",
              "      display:flex;\n",
              "      flex-wrap:wrap;\n",
              "      gap: 12px;\n",
              "    }\n",
              "\n",
              "    .colab-df-convert {\n",
              "      background-color: #E8F0FE;\n",
              "      border: none;\n",
              "      border-radius: 50%;\n",
              "      cursor: pointer;\n",
              "      display: none;\n",
              "      fill: #1967D2;\n",
              "      height: 32px;\n",
              "      padding: 0 0 0 0;\n",
              "      width: 32px;\n",
              "    }\n",
              "\n",
              "    .colab-df-convert:hover {\n",
              "      background-color: #E2EBFA;\n",
              "      box-shadow: 0px 1px 2px rgba(60, 64, 67, 0.3), 0px 1px 3px 1px rgba(60, 64, 67, 0.15);\n",
              "      fill: #174EA6;\n",
              "    }\n",
              "\n",
              "    [theme=dark] .colab-df-convert {\n",
              "      background-color: #3B4455;\n",
              "      fill: #D2E3FC;\n",
              "    }\n",
              "\n",
              "    [theme=dark] .colab-df-convert:hover {\n",
              "      background-color: #434B5C;\n",
              "      box-shadow: 0px 1px 3px 1px rgba(0, 0, 0, 0.15);\n",
              "      filter: drop-shadow(0px 1px 2px rgba(0, 0, 0, 0.3));\n",
              "      fill: #FFFFFF;\n",
              "    }\n",
              "  </style>\n",
              "\n",
              "      <script>\n",
              "        const buttonEl =\n",
              "          document.querySelector('#df-dcdafc64-3751-423e-ae11-054592b3444f button.colab-df-convert');\n",
              "        buttonEl.style.display =\n",
              "          google.colab.kernel.accessAllowed ? 'block' : 'none';\n",
              "\n",
              "        async function convertToInteractive(key) {\n",
              "          const element = document.querySelector('#df-dcdafc64-3751-423e-ae11-054592b3444f');\n",
              "          const dataTable =\n",
              "            await google.colab.kernel.invokeFunction('convertToInteractive',\n",
              "                                                     [key], {});\n",
              "          if (!dataTable) return;\n",
              "\n",
              "          const docLinkHtml = 'Like what you see? Visit the ' +\n",
              "            '<a target=\"_blank\" href=https://colab.research.google.com/notebooks/data_table.ipynb>data table notebook</a>'\n",
              "            + ' to learn more about interactive tables.';\n",
              "          element.innerHTML = '';\n",
              "          dataTable['output_type'] = 'display_data';\n",
              "          await google.colab.output.renderOutput(dataTable, element);\n",
              "          const docLink = document.createElement('div');\n",
              "          docLink.innerHTML = docLinkHtml;\n",
              "          element.appendChild(docLink);\n",
              "        }\n",
              "      </script>\n",
              "    </div>\n",
              "  </div>\n",
              "  "
            ]
          },
          "metadata": {},
          "execution_count": 63
        }
      ],
      "source": [
        "x = df.iloc[:,1:5]\n",
        "x"
      ]
    },
    {
      "cell_type": "code",
      "execution_count": 64,
      "id": "1bec2f80",
      "metadata": {
        "colab": {
          "base_uri": "https://localhost:8080/"
        },
        "id": "1bec2f80",
        "outputId": "c082a563-ff29-40ad-e0a4-fc9b1cec458e"
      },
      "outputs": [
        {
          "output_type": "execute_result",
          "data": {
            "text/plain": [
              "0      6\n",
              "1      6\n",
              "2      1\n",
              "3      1\n",
              "4      1\n",
              "      ..\n",
              "195    7\n",
              "196    3\n",
              "197    5\n",
              "198    2\n",
              "199    5\n",
              "Name: Cluster_Value, Length: 200, dtype: int32"
            ]
          },
          "metadata": {},
          "execution_count": 64
        }
      ],
      "source": [
        "y = df['Cluster_Value']\n",
        "y"
      ]
    },
    {
      "cell_type": "markdown",
      "id": "67e0aa5a",
      "metadata": {
        "id": "67e0aa5a"
      },
      "source": [
        "# 12. Splitting into training and testing"
      ]
    },
    {
      "cell_type": "code",
      "execution_count": 65,
      "id": "ea2d958b",
      "metadata": {
        "id": "ea2d958b"
      },
      "outputs": [],
      "source": [
        "from sklearn.model_selection import train_test_split\n",
        "x_train, x_test, y_train, y_test = train_test_split(x_scaled, y, test_size = 0.3, random_state = 1) "
      ]
    },
    {
      "cell_type": "code",
      "execution_count": 66,
      "id": "5eb04a6f",
      "metadata": {
        "colab": {
          "base_uri": "https://localhost:8080/"
        },
        "id": "5eb04a6f",
        "outputId": "e23f59ae-bec1-48ab-bb89-06a9dd33e59e"
      },
      "outputs": [
        {
          "output_type": "execute_result",
          "data": {
            "text/plain": [
              "array([[0.58291457, 0.        , 0.86      , 0.45045045, 0.42857143],\n",
              "       [0.33668342, 0.        , 0.96      , 0.2972973 , 0.47959184],\n",
              "       [0.3919598 , 0.        , 0.1       , 0.35135135, 0.52040816],\n",
              "       [0.21105528, 1.        , 0.6       , 0.21621622, 0.35714286],\n",
              "       [0.08542714, 1.        , 0.04      , 0.05405405, 0.66326531],\n",
              "       [0.02512563, 0.        , 0.08      , 0.01801802, 0.76530612],\n",
              "       [0.63819095, 1.        , 0.44      , 0.5045045 , 0.95918367],\n",
              "       [0.52763819, 0.        , 0.06      , 0.42342342, 0.41836735],\n",
              "       [0.24120603, 0.        , 0.22      , 0.22522523, 0.41836735],\n",
              "       [0.33165829, 0.        , 0.5       , 0.2972973 , 0.5       ],\n",
              "       [0.27135678, 0.        , 0.64      , 0.25225225, 0.44897959],\n",
              "       [0.42211055, 0.        , 0.06      , 0.35135135, 0.57142857],\n",
              "       [0.91959799, 0.        , 0.22      , 0.74774775, 0.8877551 ],\n",
              "       [0.79396985, 1.        , 0.32      , 0.56756757, 0.        ],\n",
              "       [0.83417085, 1.        , 0.48      , 0.63963964, 0.19387755],\n",
              "       [0.5678392 , 1.        , 0.02      , 0.44144144, 0.45918367],\n",
              "       [0.06030151, 0.        , 0.8       , 0.04504505, 0.14285714],\n",
              "       [0.5879397 , 0.        , 0.62      , 0.45045045, 0.59183673],\n",
              "       [0.46733668, 0.        , 0.44      , 0.40540541, 0.39795918],\n",
              "       [0.60301508, 1.        , 0.18      , 0.46846847, 0.56122449],\n",
              "       [0.77386935, 0.        , 0.58      , 0.56756757, 0.15306122],\n",
              "       [0.45226131, 0.        , 0.96      , 0.3963964 , 0.55102041],\n",
              "       [0.40703518, 1.        , 0.4       , 0.35135135, 0.55102041],\n",
              "       [0.61306533, 0.        , 0.44      , 0.48648649, 0.58163265],\n",
              "       [0.95979899, 0.        , 0.28      , 0.79279279, 0.69387755],\n",
              "       [0.06532663, 0.        , 0.12      , 0.04504505, 0.7755102 ],\n",
              "       [0.4120603 , 1.        , 0.94      , 0.35135135, 0.40816327],\n",
              "       [0.66331658, 0.        , 0.14      , 0.51351351, 0.33673469],\n",
              "       [0.93969849, 1.        , 0.2       , 0.77477477, 0.68367347],\n",
              "       [0.22613065, 0.        , 0.12      , 0.21621622, 0.65306122],\n",
              "       [0.49748744, 1.        , 0.04      , 0.41441441, 0.48979592],\n",
              "       [0.18090452, 0.        , 0.48      , 0.17117117, 0.16326531],\n",
              "       [0.80904523, 0.        , 0.22      , 0.57657658, 0.83673469],\n",
              "       [0.93467337, 0.        , 0.72      , 0.77477477, 0.23469388],\n",
              "       [0.76884422, 0.        , 0.4       , 0.56756757, 0.76530612],\n",
              "       [0.51758794, 1.        , 0.16      , 0.42342342, 0.55102041],\n",
              "       [0.9798995 , 0.        , 0.34      , 0.94594595, 0.79591837],\n",
              "       [0.98994975, 1.        , 0.28      , 1.        , 0.74489796],\n",
              "       [0.74371859, 0.        , 0.32      , 0.56756757, 0.21428571],\n",
              "       [0.86934673, 1.        , 0.36      , 0.64864865, 0.92857143],\n",
              "       [0.37688442, 1.        , 0.16      , 0.35135135, 0.54081633],\n",
              "       [0.10552764, 1.        , 0.14      , 0.08108108, 0.73469388],\n",
              "       [0.45728643, 1.        , 0.        , 0.3963964 , 0.40816327],\n",
              "       [0.7638191 , 0.        , 0.52      , 0.56756757, 0.19387755],\n",
              "       [0.01005025, 0.        , 0.04      , 0.00900901, 0.05102041],\n",
              "       [0.35175879, 1.        , 1.        , 0.30630631, 0.55102041],\n",
              "       [0.42713568, 1.        , 0.6       , 0.35135135, 0.45918367],\n",
              "       [0.75376884, 1.        , 0.5       , 0.56756757, 0.16326531],\n",
              "       [0.03015075, 0.        , 0.34      , 0.02702703, 0.05102041],\n",
              "       [0.56281407, 0.        , 0.4       , 0.44144144, 0.41836735],\n",
              "       [0.        , 1.        , 0.02      , 0.        , 0.3877551 ],\n",
              "       [0.77889447, 0.        , 0.18      , 0.56756757, 0.89795918],\n",
              "       [0.38693467, 1.        , 0.44      , 0.35135135, 0.47959184],\n",
              "       [0.32663317, 1.        , 0.        , 0.2972973 , 0.59183673],\n",
              "       [0.27638191, 1.        , 0.58      , 0.25225225, 0.40816327],\n",
              "       [0.83919598, 0.        , 0.3       , 0.63963964, 0.95918367],\n",
              "       [0.44221106, 0.        , 0.32      , 0.38738739, 0.60204082],\n",
              "       [0.65326633, 1.        , 0.58      , 0.5045045 , 0.08163265],\n",
              "       [0.23115578, 0.        , 0.64      , 0.22522523, 0.55102041],\n",
              "       [0.31155779, 0.        , 0.94      , 0.28828829, 0.52040816],\n",
              "       [0.3718593 , 1.        , 0.82      , 0.35135135, 0.46938776],\n",
              "       [0.46231156, 1.        , 0.6       , 0.40540541, 0.48979592],\n",
              "       [0.73869347, 0.        , 0.28      , 0.55855856, 0.74489796],\n",
              "       [0.8040201 , 0.        , 0.76      , 0.57657658, 0.34693878],\n",
              "       [0.71859296, 0.        , 0.28      , 0.54954955, 0.87755102],\n",
              "       [0.43718593, 0.        , 0.08      , 0.37837838, 0.55102041],\n",
              "       [0.90452261, 0.        , 0.38      , 0.73873874, 0.31632653],\n",
              "       [0.72864322, 1.        , 0.2       , 0.55855856, 0.97959184],\n",
              "       [0.8241206 , 1.        , 0.64      , 0.63063063, 0.25510204],\n",
              "       [0.05025126, 1.        , 0.94      , 0.03603604, 0.13265306],\n",
              "       [0.16080402, 1.        , 0.7       , 0.16216216, 0.03061224],\n",
              "       [0.41708543, 0.        , 0.56      , 0.35135135, 0.43877551],\n",
              "       [0.91457286, 1.        , 0.56      , 0.74774775, 0.14285714],\n",
              "       [0.50251256, 0.        , 0.1       , 0.42342342, 0.40816327],\n",
              "       [0.6281407 , 0.        , 0.26      , 0.4954955 , 0.7755102 ],\n",
              "       [0.11557789, 1.        , 0.26      , 0.09009009, 0.73469388],\n",
              "       [0.63316583, 1.        , 0.5       , 0.5045045 , 0.34693878],\n",
              "       [0.04522613, 0.        , 0.24      , 0.03603604, 0.7244898 ],\n",
              "       [0.85427136, 1.        , 0.44      , 0.64864865, 0.12244898],\n",
              "       [0.52261307, 1.        , 0.62      , 0.42342342, 0.56122449],\n",
              "       [0.75879397, 1.        , 0.42      , 0.56756757, 0.8877551 ],\n",
              "       [0.67839196, 0.        , 0.22      , 0.52252252, 0.8877551 ],\n",
              "       [0.55778894, 0.        , 0.02      , 0.43243243, 0.54081633],\n",
              "       [0.94472362, 0.        , 0.46      , 0.79279279, 0.16326531],\n",
              "       [0.32160804, 1.        , 0.86      , 0.2972973 , 0.51020408],\n",
              "       [0.07537688, 1.        , 0.08      , 0.04504505, 0.79591837],\n",
              "       [0.20603015, 1.        , 0.12      , 0.20720721, 0.92857143],\n",
              "       [0.81909548, 0.        , 0.26      , 0.59459459, 0.93877551],\n",
              "       [0.54773869, 1.        , 0.92      , 0.43243243, 0.47959184],\n",
              "       [0.40201005, 1.        , 0.78      , 0.35135135, 0.51020408],\n",
              "       [0.26130653, 0.        , 0.26      , 0.25225225, 0.54081633],\n",
              "       [0.13065327, 0.        , 0.54      , 0.11711712, 0.31632653],\n",
              "       [0.38190955, 0.        , 0.54      , 0.35135135, 0.53061224],\n",
              "       [0.2160804 , 0.        , 0.26      , 0.21621622, 0.6122449 ],\n",
              "       [0.12060302, 0.        , 0.72      , 0.11711712, 0.13265306],\n",
              "       [0.01507538, 0.        , 0.1       , 0.00900901, 0.7755102 ],\n",
              "       [0.84924623, 1.        , 0.28      , 0.64864865, 0.63265306],\n",
              "       [0.24623116, 0.        , 0.26      , 0.22522523, 0.41836735],\n",
              "       [0.74874372, 1.        , 0.32      , 0.56756757, 0.90816327],\n",
              "       [0.65829146, 1.        , 0.42      , 0.5045045 , 0.75510204],\n",
              "       [0.95477387, 0.        , 0.32      , 0.79279279, 0.2244898 ],\n",
              "       [0.15075377, 1.        , 0.84      , 0.13513514, 0.03061224],\n",
              "       [0.6080402 , 0.        , 0.4       , 0.46846847, 0.39795918],\n",
              "       [0.57788945, 0.        , 0.02      , 0.45045045, 0.5       ],\n",
              "       [0.87939698, 0.        , 0.24      , 0.65765766, 0.86734694],\n",
              "       [0.04020101, 1.        , 0.88      , 0.03603604, 0.02040816],\n",
              "       [0.30150754, 1.        , 1.        , 0.27927928, 0.56122449],\n",
              "       [0.64321608, 1.        , 0.82      , 0.5045045 , 0.10204082],\n",
              "       [0.00502513, 1.        , 0.06      , 0.        , 0.81632653],\n",
              "       [0.28643216, 1.        , 0.98      , 0.26126126, 0.45918367],\n",
              "       [0.11055276, 0.        , 0.56      , 0.09009009, 0.04081633],\n",
              "       [0.30653266, 1.        , 0.02      , 0.27927928, 0.55102041],\n",
              "       [0.31658291, 0.        , 0.72      , 0.28828829, 0.59183673],\n",
              "       [0.03517588, 0.        , 0.1       , 0.02702703, 0.94897959],\n",
              "       [0.98492462, 0.        , 0.54      , 1.        , 0.2755102 ],\n",
              "       [0.70854271, 1.        , 0.28      , 0.54054054, 0.93877551],\n",
              "       [0.4321608 , 0.        , 0.74      , 0.37837838, 0.58163265],\n",
              "       [0.48241206, 0.        , 0.58      , 0.40540541, 0.46938776],\n",
              "       [0.34170854, 1.        , 0.02      , 0.2972973 , 0.59183673],\n",
              "       [0.25125628, 0.        , 0.62      , 0.24324324, 0.52040816],\n",
              "       [0.71356784, 0.        , 0.2       , 0.54954955, 0.39795918],\n",
              "       [0.78894472, 0.        , 0.24      , 0.56756757, 0.78571429],\n",
              "       [0.7839196 , 1.        , 0.38      , 0.56756757, 0.        ],\n",
              "       [0.69849246, 0.        , 0.34      , 0.53153153, 0.7244898 ],\n",
              "       [0.73366834, 1.        , 0.6       , 0.55855856, 0.35714286],\n",
              "       [0.50753769, 0.        , 0.62      , 0.42342342, 0.47959184],\n",
              "       [0.10050251, 1.        , 0.34      , 0.08108108, 0.34693878],\n",
              "       [0.89447236, 1.        , 0.82      , 0.7027027 , 0.13265306],\n",
              "       [0.12562814, 1.        , 0.22      , 0.11711712, 0.82653061],\n",
              "       [0.67336683, 1.        , 0.04      , 0.52252252, 0.04081633],\n",
              "       [0.35678392, 0.        , 0.58      , 0.30630631, 0.41836735],\n",
              "       [0.64824121, 1.        , 0.4       , 0.5045045 , 0.75510204],\n",
              "       [0.72361809, 1.        , 0.14      , 0.55855856, 0.1122449 ],\n",
              "       [0.96482412, 1.        , 0.3       , 0.88288288, 0.07142857],\n",
              "       [0.39698492, 0.        , 0.62      , 0.35135135, 0.41836735],\n",
              "       [0.66834171, 0.        , 0.26      , 0.51351351, 0.71428571],\n",
              "       [0.68844221, 1.        , 0.28      , 0.52252252, 0.73469388],\n",
              "       [0.36180905, 0.        , 0.84      , 0.31531532, 0.48979592],\n",
              "       [0.70351759, 0.        , 0.78      , 0.54054054, 0.04081633],\n",
              "       [0.18592965, 0.        , 0.24      , 0.17117117, 0.73469388]])"
            ]
          },
          "metadata": {},
          "execution_count": 66
        }
      ],
      "source": [
        "x_train"
      ]
    },
    {
      "cell_type": "code",
      "execution_count": 67,
      "id": "86dfd161",
      "metadata": {
        "colab": {
          "base_uri": "https://localhost:8080/"
        },
        "id": "86dfd161",
        "outputId": "7fc295fd-c7c5-40de-8a91-6e134b7f2832"
      },
      "outputs": [
        {
          "output_type": "execute_result",
          "data": {
            "text/plain": [
              "array([[0.29145729, 0.        , 0.18      , 0.27927928, 0.51020408],\n",
              "       [0.20100503, 0.        , 0.9       , 0.20720721, 0.34693878],\n",
              "       [0.17085427, 0.        , 0.62      , 0.16216216, 0.13265306],\n",
              "       [0.51256281, 1.        , 0.94      , 0.42342342, 0.59183673],\n",
              "       [0.92462312, 0.        , 0.46      , 0.75675676, 0.3877551 ],\n",
              "       [0.99497487, 1.        , 0.28      , 0.41045045, 0.17346939],\n",
              "       [0.47738693, 1.        , 0.12      , 0.40540541, 0.52040816],\n",
              "       [0.0201005 , 0.        , 0.26      , 0.01801802, 0.39795918],\n",
              "       [0.14572864, 0.        , 0.1       , 0.12612613, 0.87755102],\n",
              "       [0.84422111, 0.        , 0.36      , 0.64864865, 0.26530612],\n",
              "       [0.85929648, 1.        , 0.2       , 0.64864865, 0.75510204],\n",
              "       [0.09045226, 1.        , 0.68      , 0.07207207, 0.28571429],\n",
              "       [0.05527638, 0.        , 0.34      , 0.03603604, 1.        ],\n",
              "       [0.44723618, 0.        , 0.64      , 0.38738739, 0.45918367],\n",
              "       [0.55276382, 1.        , 0.9       , 0.43243243, 0.52040816],\n",
              "       [0.59296482, 0.        , 0.66      , 0.46846847, 0.42857143],\n",
              "       [0.79899497, 0.        , 0.24      , 0.56756757, 0.73469388],\n",
              "       [0.1758794 , 0.        , 0.06      , 0.16216216, 0.81632653],\n",
              "       [0.68341709, 0.        , 0.52      , 0.52252252, 0.06122449],\n",
              "       [0.29648241, 1.        , 0.7       , 0.27927928, 0.45918367],\n",
              "       [0.25628141, 1.        , 0.3       , 0.24324324, 0.60204082],\n",
              "       [0.08040201, 0.        , 0.34      , 0.05405405, 0.34693878],\n",
              "       [0.22110553, 0.        , 0.62      , 0.21621622, 0.2755102 ],\n",
              "       [0.47236181, 0.        , 0.28      , 0.40540541, 0.41836735],\n",
              "       [0.15577889, 0.        , 0.06      , 0.13513514, 0.73469388],\n",
              "       [0.81407035, 1.        , 0.02      , 0.59459459, 0.04081633],\n",
              "       [0.19095477, 0.        , 0.36      , 0.1981982 , 0.25510204],\n",
              "       [0.14070352, 0.        , 0.44      , 0.12612613, 0.30612245],\n",
              "       [0.96984925, 0.        , 0.4       , 0.88288288, 0.91836735],\n",
              "       [0.13567839, 1.        , 0.34      , 0.11711712, 0.6122449 ],\n",
              "       [0.2361809 , 0.        , 0.18      , 0.22522523, 0.46938776],\n",
              "       [0.82914573, 0.        , 0.36      , 0.63063063, 0.75510204],\n",
              "       [0.97487437, 0.        , 0.58      , 0.94594595, 0.15306122],\n",
              "       [0.88944724, 1.        , 0.18      , 0.65765766, 0.69387755],\n",
              "       [0.88442211, 1.        , 0.8       , 0.65765766, 0.14285714],\n",
              "       [0.48743719, 0.        , 0.18      , 0.40540541, 0.5       ],\n",
              "       [0.87437186, 0.        , 0.68      , 0.65765766, 0.12244898],\n",
              "       [0.36683417, 0.        , 0.84      , 0.31531532, 0.56122449],\n",
              "       [0.34673367, 0.        , 0.28      , 0.2972973 , 0.46938776],\n",
              "       [0.86432161, 1.        , 0.36      , 0.64864865, 0.09183673],\n",
              "       [0.54271357, 1.        , 0.96      , 0.43243243, 0.42857143],\n",
              "       [0.53768844, 1.        , 0.72      , 0.43243243, 0.45918367],\n",
              "       [0.94974874, 0.        , 0.36      , 0.79279279, 0.85714286],\n",
              "       [0.07035176, 1.        , 0.38      , 0.04504505, 0.12244898],\n",
              "       [0.28140704, 0.        , 0.66      , 0.26126126, 0.5       ],\n",
              "       [0.09547739, 0.        , 0.34      , 0.07207207, 0.98979592],\n",
              "       [0.57286432, 0.        , 0.        , 0.45045045, 0.47959184],\n",
              "       [0.1959799 , 0.        , 0.04      , 0.1981982 , 0.75510204],\n",
              "       [0.92964824, 1.        , 0.24      , 0.75675676, 0.97959184],\n",
              "       [0.62311558, 0.        , 0.1       , 0.4954955 , 0.28571429],\n",
              "       [0.49246231, 1.        , 0.6       , 0.41441441, 0.41836735],\n",
              "       [0.61809045, 1.        , 0.42      , 0.48648649, 0.91836735],\n",
              "       [0.59798995, 0.        , 0.64      , 0.46846847, 0.57142857],\n",
              "       [0.26633166, 1.        , 0.82      , 0.25225225, 0.60204082],\n",
              "       [0.16582915, 1.        , 0.        , 0.16216216, 0.92857143],\n",
              "       [0.89949749, 1.        , 0.34      , 0.7027027 , 0.90816327],\n",
              "       [0.90954774, 0.        , 0.28      , 0.73873874, 0.86734694],\n",
              "       [0.53266332, 0.        , 0.92      , 0.43243243, 0.5       ],\n",
              "       [1.        , 1.        , 0.24      , 0.41045045, 0.83673469],\n",
              "       [0.69346734, 1.        , 0.02      , 0.53153153, 0.09183673]])"
            ]
          },
          "metadata": {},
          "execution_count": 67
        }
      ],
      "source": [
        "x_test"
      ]
    },
    {
      "cell_type": "code",
      "execution_count": 68,
      "id": "65a46a6c",
      "metadata": {
        "colab": {
          "base_uri": "https://localhost:8080/"
        },
        "id": "65a46a6c",
        "outputId": "e2bbf05c-c4ed-4aac-884a-b322dfa5ed44"
      },
      "outputs": [
        {
          "output_type": "execute_result",
          "data": {
            "text/plain": [
              "116    4\n",
              "67     4\n",
              "78     1\n",
              "42     0\n",
              "17     6\n",
              "      ..\n",
              "133    7\n",
              "137    5\n",
              "72     4\n",
              "140    3\n",
              "37     1\n",
              "Name: Cluster_Value, Length: 140, dtype: int32"
            ]
          },
          "metadata": {},
          "execution_count": 68
        }
      ],
      "source": [
        "y_train"
      ]
    },
    {
      "cell_type": "code",
      "execution_count": 69,
      "id": "b93370f3",
      "metadata": {
        "colab": {
          "base_uri": "https://localhost:8080/"
        },
        "id": "b93370f3",
        "outputId": "20dc7298-00e8-4f46-a0b5-bacd3fcbf809"
      },
      "outputs": [
        {
          "output_type": "execute_result",
          "data": {
            "text/plain": [
              "58     1\n",
              "40     4\n",
              "34     4\n",
              "102    0\n",
              "184    3\n",
              "198    2\n",
              "95     6\n",
              "4      1\n",
              "29     1\n",
              "168    3\n",
              "171    5\n",
              "18     0\n",
              "11     1\n",
              "89     4\n",
              "110    0\n",
              "118    4\n",
              "159    7\n",
              "35     1\n",
              "136    3\n",
              "59     0\n",
              "51     6\n",
              "16     1\n",
              "44     4\n",
              "94     1\n",
              "31     1\n",
              "162    2\n",
              "38     1\n",
              "28     4\n",
              "193    7\n",
              "27     6\n",
              "47     1\n",
              "165    7\n",
              "194    3\n",
              "177    5\n",
              "176    2\n",
              "97     1\n",
              "174    3\n",
              "73     4\n",
              "69     1\n",
              "172    2\n",
              "108    0\n",
              "107    0\n",
              "189    7\n",
              "14     6\n",
              "56     4\n",
              "19     1\n",
              "114    1\n",
              "39     1\n",
              "185    5\n",
              "124    3\n",
              "98     0\n",
              "123    5\n",
              "119    4\n",
              "53     0\n",
              "33     6\n",
              "179    5\n",
              "181    7\n",
              "106    4\n",
              "199    5\n",
              "138    2\n",
              "Name: Cluster_Value, dtype: int32"
            ]
          },
          "metadata": {},
          "execution_count": 69
        }
      ],
      "source": [
        "y_test"
      ]
    },
    {
      "cell_type": "markdown",
      "id": "cce2e162",
      "metadata": {
        "id": "cce2e162"
      },
      "source": [
        "# 13. Building the model"
      ]
    },
    {
      "cell_type": "code",
      "execution_count": 70,
      "id": "4000e057",
      "metadata": {
        "id": "4000e057"
      },
      "outputs": [],
      "source": [
        "from sklearn.linear_model import LinearRegression\n",
        "lr=LinearRegression()"
      ]
    },
    {
      "cell_type": "markdown",
      "id": "e67415c7",
      "metadata": {
        "id": "e67415c7"
      },
      "source": [
        "# 14. Training the model"
      ]
    },
    {
      "cell_type": "code",
      "execution_count": 72,
      "id": "bc32c817",
      "metadata": {
        "colab": {
          "base_uri": "https://localhost:8080/"
        },
        "id": "bc32c817",
        "outputId": "45e5f811-daed-43e2-8704-e3cf2de270bd"
      },
      "outputs": [
        {
          "output_type": "execute_result",
          "data": {
            "text/plain": [
              "LinearRegression()"
            ]
          },
          "metadata": {},
          "execution_count": 72
        }
      ],
      "source": [
        "lr.fit(x_train, y_train)"
      ]
    },
    {
      "cell_type": "markdown",
      "id": "5fcfa14d",
      "metadata": {
        "id": "5fcfa14d"
      },
      "source": [
        "# 15. Testing the model"
      ]
    },
    {
      "cell_type": "code",
      "execution_count": 73,
      "id": "d20aebc1",
      "metadata": {
        "colab": {
          "base_uri": "https://localhost:8080/"
        },
        "id": "d20aebc1",
        "outputId": "3574eb09-dba1-479f-8384-3fd12895c844"
      },
      "outputs": [
        {
          "output_type": "execute_result",
          "data": {
            "text/plain": [
              "array([3.42742771, 1.54173582, 1.19111474, 2.92004745, 3.89263181,\n",
              "       4.90681272, 3.79210805, 2.53474648, 4.78920293, 3.60624908,\n",
              "       5.54462502, 1.40218682, 4.77772557, 2.90565764, 2.88507282,\n",
              "       3.18756572, 5.64059135, 4.63141515, 2.2746146 , 2.25191591,\n",
              "       3.3337219 , 2.38843667, 1.76830408, 3.35842759, 4.33059714,\n",
              "       3.12681468, 2.00453059, 2.10451672, 5.69714184, 3.19571065,\n",
              "       3.20651869, 5.43589155, 2.32742637, 5.46540487, 2.43068473,\n",
              "       3.8945899 , 2.70331853, 2.85797337, 3.33556511, 2.84206506,\n",
              "       2.39761447, 2.85185866, 5.78811456, 1.25249505, 2.67874876,\n",
              "       4.8021637 , 4.35267545, 4.39115329, 6.2526738 , 3.55234805,\n",
              "       2.7203669 , 5.22711915, 3.77923434, 2.55733378, 4.87299028,\n",
              "       5.89478697, 5.95821854, 2.89245067, 7.47860124, 2.94823861])"
            ]
          },
          "metadata": {},
          "execution_count": 73
        }
      ],
      "source": [
        "pred_test=lr.predict(x_test)\n",
        "pred_test"
      ]
    },
    {
      "cell_type": "markdown",
      "id": "bb2be8b8",
      "metadata": {
        "id": "bb2be8b8"
      },
      "source": [
        "# 16. Evaluation Metrics"
      ]
    },
    {
      "cell_type": "code",
      "execution_count": 74,
      "id": "bd7ab62e",
      "metadata": {
        "colab": {
          "base_uri": "https://localhost:8080/"
        },
        "id": "bd7ab62e",
        "outputId": "34593d30-31e4-4079-8dc1-3cdc4fcdf3e8"
      },
      "outputs": [
        {
          "output_type": "execute_result",
          "data": {
            "text/plain": [
              "4.6880622442285835"
            ]
          },
          "metadata": {},
          "execution_count": 74
        }
      ],
      "source": [
        "from sklearn.metrics import mean_squared_error, r2_score\n",
        "mse = mean_squared_error(pred_test, y_test)\n",
        "mse"
      ]
    },
    {
      "cell_type": "code",
      "execution_count": 75,
      "id": "a5bbe2da",
      "metadata": {
        "colab": {
          "base_uri": "https://localhost:8080/"
        },
        "id": "a5bbe2da",
        "outputId": "b2670a24-d23e-42b1-fb2b-273e2506620a"
      },
      "outputs": [
        {
          "output_type": "execute_result",
          "data": {
            "text/plain": [
              "2.165193350310448"
            ]
          },
          "metadata": {},
          "execution_count": 75
        }
      ],
      "source": [
        "rmse = np.sqrt(mse)\n",
        "rmse"
      ]
    },
    {
      "cell_type": "code",
      "execution_count": 76,
      "id": "6234b51b",
      "metadata": {
        "colab": {
          "base_uri": "https://localhost:8080/"
        },
        "id": "6234b51b",
        "outputId": "0a15c10c-60c4-4588-cbd7-7fdeda19fb04"
      },
      "outputs": [
        {
          "output_type": "execute_result",
          "data": {
            "text/plain": [
              "-1.388068611920107"
            ]
          },
          "metadata": {},
          "execution_count": 76
        }
      ],
      "source": [
        "r2= r2_score(pred_test, y_test)\n",
        "r2"
      ]
    }
  ],
  "metadata": {
    "colab": {
      "provenance": []
    },
    "kernelspec": {
      "display_name": "Python 3",
      "language": "python",
      "name": "python3"
    },
    "language_info": {
      "codemirror_mode": {
        "name": "ipython",
        "version": 3
      },
      "file_extension": ".py",
      "mimetype": "text/x-python",
      "name": "python",
      "nbconvert_exporter": "python",
      "pygments_lexer": "ipython3",
      "version": "3.8.8"
    }
  },
  "nbformat": 4,
  "nbformat_minor": 5
}